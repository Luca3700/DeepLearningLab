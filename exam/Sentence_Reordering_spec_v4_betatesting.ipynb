{
  "nbformat": 4,
  "nbformat_minor": 0,
  "metadata": {
    "colab": {
      "provenance": [],
      "gpuType": "T4"
    },
    "kernelspec": {
      "name": "python3",
      "display_name": "Python 3"
    },
    "language_info": {
      "name": "python"
    },
    "widgets": {
      "application/vnd.jupyter.widget-state+json": {
        "ffa2b0418f25464fa2ad635a0e28066d": {
          "model_module": "@jupyter-widgets/controls",
          "model_name": "HBoxModel",
          "model_module_version": "1.5.0",
          "state": {
            "_dom_classes": [],
            "_model_module": "@jupyter-widgets/controls",
            "_model_module_version": "1.5.0",
            "_model_name": "HBoxModel",
            "_view_count": null,
            "_view_module": "@jupyter-widgets/controls",
            "_view_module_version": "1.5.0",
            "_view_name": "HBoxView",
            "box_style": "",
            "children": [
              "IPY_MODEL_da6029c1de654f1da64699143b72042d",
              "IPY_MODEL_69f27e30496148af8efdebf2cbaf4ae4",
              "IPY_MODEL_d98daa80e7a040f4b714a407e1cc0f27"
            ],
            "layout": "IPY_MODEL_aaf6b674af73454c912a448e88174d44"
          }
        },
        "da6029c1de654f1da64699143b72042d": {
          "model_module": "@jupyter-widgets/controls",
          "model_name": "HTMLModel",
          "model_module_version": "1.5.0",
          "state": {
            "_dom_classes": [],
            "_model_module": "@jupyter-widgets/controls",
            "_model_module_version": "1.5.0",
            "_model_name": "HTMLModel",
            "_view_count": null,
            "_view_module": "@jupyter-widgets/controls",
            "_view_module_version": "1.5.0",
            "_view_name": "HTMLView",
            "description": "",
            "description_tooltip": null,
            "layout": "IPY_MODEL_44290a4f58304331a275dd02e83e0b87",
            "placeholder": "​",
            "style": "IPY_MODEL_ee5c26279e274dd098306b0b7c59b871",
            "value": "Downloading builder script: 100%"
          }
        },
        "69f27e30496148af8efdebf2cbaf4ae4": {
          "model_module": "@jupyter-widgets/controls",
          "model_name": "FloatProgressModel",
          "model_module_version": "1.5.0",
          "state": {
            "_dom_classes": [],
            "_model_module": "@jupyter-widgets/controls",
            "_model_module_version": "1.5.0",
            "_model_name": "FloatProgressModel",
            "_view_count": null,
            "_view_module": "@jupyter-widgets/controls",
            "_view_module_version": "1.5.0",
            "_view_name": "ProgressView",
            "bar_style": "success",
            "description": "",
            "description_tooltip": null,
            "layout": "IPY_MODEL_6f266f6b76034834843ca12a76f80edf",
            "max": 35871,
            "min": 0,
            "orientation": "horizontal",
            "style": "IPY_MODEL_b87174c3bb9e452c87522e85562def2f",
            "value": 35871
          }
        },
        "d98daa80e7a040f4b714a407e1cc0f27": {
          "model_module": "@jupyter-widgets/controls",
          "model_name": "HTMLModel",
          "model_module_version": "1.5.0",
          "state": {
            "_dom_classes": [],
            "_model_module": "@jupyter-widgets/controls",
            "_model_module_version": "1.5.0",
            "_model_name": "HTMLModel",
            "_view_count": null,
            "_view_module": "@jupyter-widgets/controls",
            "_view_module_version": "1.5.0",
            "_view_name": "HTMLView",
            "description": "",
            "description_tooltip": null,
            "layout": "IPY_MODEL_9b337a29c9e64c4e92ec0c2c6c659105",
            "placeholder": "​",
            "style": "IPY_MODEL_0f5eb44c99534a5cb3713ad8bf338fb2",
            "value": " 35.9k/35.9k [00:00&lt;00:00, 1.77MB/s]"
          }
        },
        "aaf6b674af73454c912a448e88174d44": {
          "model_module": "@jupyter-widgets/base",
          "model_name": "LayoutModel",
          "model_module_version": "1.2.0",
          "state": {
            "_model_module": "@jupyter-widgets/base",
            "_model_module_version": "1.2.0",
            "_model_name": "LayoutModel",
            "_view_count": null,
            "_view_module": "@jupyter-widgets/base",
            "_view_module_version": "1.2.0",
            "_view_name": "LayoutView",
            "align_content": null,
            "align_items": null,
            "align_self": null,
            "border": null,
            "bottom": null,
            "display": null,
            "flex": null,
            "flex_flow": null,
            "grid_area": null,
            "grid_auto_columns": null,
            "grid_auto_flow": null,
            "grid_auto_rows": null,
            "grid_column": null,
            "grid_gap": null,
            "grid_row": null,
            "grid_template_areas": null,
            "grid_template_columns": null,
            "grid_template_rows": null,
            "height": null,
            "justify_content": null,
            "justify_items": null,
            "left": null,
            "margin": null,
            "max_height": null,
            "max_width": null,
            "min_height": null,
            "min_width": null,
            "object_fit": null,
            "object_position": null,
            "order": null,
            "overflow": null,
            "overflow_x": null,
            "overflow_y": null,
            "padding": null,
            "right": null,
            "top": null,
            "visibility": null,
            "width": null
          }
        },
        "44290a4f58304331a275dd02e83e0b87": {
          "model_module": "@jupyter-widgets/base",
          "model_name": "LayoutModel",
          "model_module_version": "1.2.0",
          "state": {
            "_model_module": "@jupyter-widgets/base",
            "_model_module_version": "1.2.0",
            "_model_name": "LayoutModel",
            "_view_count": null,
            "_view_module": "@jupyter-widgets/base",
            "_view_module_version": "1.2.0",
            "_view_name": "LayoutView",
            "align_content": null,
            "align_items": null,
            "align_self": null,
            "border": null,
            "bottom": null,
            "display": null,
            "flex": null,
            "flex_flow": null,
            "grid_area": null,
            "grid_auto_columns": null,
            "grid_auto_flow": null,
            "grid_auto_rows": null,
            "grid_column": null,
            "grid_gap": null,
            "grid_row": null,
            "grid_template_areas": null,
            "grid_template_columns": null,
            "grid_template_rows": null,
            "height": null,
            "justify_content": null,
            "justify_items": null,
            "left": null,
            "margin": null,
            "max_height": null,
            "max_width": null,
            "min_height": null,
            "min_width": null,
            "object_fit": null,
            "object_position": null,
            "order": null,
            "overflow": null,
            "overflow_x": null,
            "overflow_y": null,
            "padding": null,
            "right": null,
            "top": null,
            "visibility": null,
            "width": null
          }
        },
        "ee5c26279e274dd098306b0b7c59b871": {
          "model_module": "@jupyter-widgets/controls",
          "model_name": "DescriptionStyleModel",
          "model_module_version": "1.5.0",
          "state": {
            "_model_module": "@jupyter-widgets/controls",
            "_model_module_version": "1.5.0",
            "_model_name": "DescriptionStyleModel",
            "_view_count": null,
            "_view_module": "@jupyter-widgets/base",
            "_view_module_version": "1.2.0",
            "_view_name": "StyleView",
            "description_width": ""
          }
        },
        "6f266f6b76034834843ca12a76f80edf": {
          "model_module": "@jupyter-widgets/base",
          "model_name": "LayoutModel",
          "model_module_version": "1.2.0",
          "state": {
            "_model_module": "@jupyter-widgets/base",
            "_model_module_version": "1.2.0",
            "_model_name": "LayoutModel",
            "_view_count": null,
            "_view_module": "@jupyter-widgets/base",
            "_view_module_version": "1.2.0",
            "_view_name": "LayoutView",
            "align_content": null,
            "align_items": null,
            "align_self": null,
            "border": null,
            "bottom": null,
            "display": null,
            "flex": null,
            "flex_flow": null,
            "grid_area": null,
            "grid_auto_columns": null,
            "grid_auto_flow": null,
            "grid_auto_rows": null,
            "grid_column": null,
            "grid_gap": null,
            "grid_row": null,
            "grid_template_areas": null,
            "grid_template_columns": null,
            "grid_template_rows": null,
            "height": null,
            "justify_content": null,
            "justify_items": null,
            "left": null,
            "margin": null,
            "max_height": null,
            "max_width": null,
            "min_height": null,
            "min_width": null,
            "object_fit": null,
            "object_position": null,
            "order": null,
            "overflow": null,
            "overflow_x": null,
            "overflow_y": null,
            "padding": null,
            "right": null,
            "top": null,
            "visibility": null,
            "width": null
          }
        },
        "b87174c3bb9e452c87522e85562def2f": {
          "model_module": "@jupyter-widgets/controls",
          "model_name": "ProgressStyleModel",
          "model_module_version": "1.5.0",
          "state": {
            "_model_module": "@jupyter-widgets/controls",
            "_model_module_version": "1.5.0",
            "_model_name": "ProgressStyleModel",
            "_view_count": null,
            "_view_module": "@jupyter-widgets/base",
            "_view_module_version": "1.2.0",
            "_view_name": "StyleView",
            "bar_color": null,
            "description_width": ""
          }
        },
        "9b337a29c9e64c4e92ec0c2c6c659105": {
          "model_module": "@jupyter-widgets/base",
          "model_name": "LayoutModel",
          "model_module_version": "1.2.0",
          "state": {
            "_model_module": "@jupyter-widgets/base",
            "_model_module_version": "1.2.0",
            "_model_name": "LayoutModel",
            "_view_count": null,
            "_view_module": "@jupyter-widgets/base",
            "_view_module_version": "1.2.0",
            "_view_name": "LayoutView",
            "align_content": null,
            "align_items": null,
            "align_self": null,
            "border": null,
            "bottom": null,
            "display": null,
            "flex": null,
            "flex_flow": null,
            "grid_area": null,
            "grid_auto_columns": null,
            "grid_auto_flow": null,
            "grid_auto_rows": null,
            "grid_column": null,
            "grid_gap": null,
            "grid_row": null,
            "grid_template_areas": null,
            "grid_template_columns": null,
            "grid_template_rows": null,
            "height": null,
            "justify_content": null,
            "justify_items": null,
            "left": null,
            "margin": null,
            "max_height": null,
            "max_width": null,
            "min_height": null,
            "min_width": null,
            "object_fit": null,
            "object_position": null,
            "order": null,
            "overflow": null,
            "overflow_x": null,
            "overflow_y": null,
            "padding": null,
            "right": null,
            "top": null,
            "visibility": null,
            "width": null
          }
        },
        "0f5eb44c99534a5cb3713ad8bf338fb2": {
          "model_module": "@jupyter-widgets/controls",
          "model_name": "DescriptionStyleModel",
          "model_module_version": "1.5.0",
          "state": {
            "_model_module": "@jupyter-widgets/controls",
            "_model_module_version": "1.5.0",
            "_model_name": "DescriptionStyleModel",
            "_view_count": null,
            "_view_module": "@jupyter-widgets/base",
            "_view_module_version": "1.2.0",
            "_view_name": "StyleView",
            "description_width": ""
          }
        },
        "47c735753b984ad3bf4319d620736ba7": {
          "model_module": "@jupyter-widgets/controls",
          "model_name": "HBoxModel",
          "model_module_version": "1.5.0",
          "state": {
            "_dom_classes": [],
            "_model_module": "@jupyter-widgets/controls",
            "_model_module_version": "1.5.0",
            "_model_name": "HBoxModel",
            "_view_count": null,
            "_view_module": "@jupyter-widgets/controls",
            "_view_module_version": "1.5.0",
            "_view_name": "HBoxView",
            "box_style": "",
            "children": [
              "IPY_MODEL_f9faae0c7fed4befaa344c59c6f67781",
              "IPY_MODEL_58b80686cc6742b09fc362d6520391ca",
              "IPY_MODEL_069993eb1c0d4a939a7aa2eb3b9a868e"
            ],
            "layout": "IPY_MODEL_3c14fbc7c05d4e539d06d422377ec4fe"
          }
        },
        "f9faae0c7fed4befaa344c59c6f67781": {
          "model_module": "@jupyter-widgets/controls",
          "model_name": "HTMLModel",
          "model_module_version": "1.5.0",
          "state": {
            "_dom_classes": [],
            "_model_module": "@jupyter-widgets/controls",
            "_model_module_version": "1.5.0",
            "_model_name": "HTMLModel",
            "_view_count": null,
            "_view_module": "@jupyter-widgets/controls",
            "_view_module_version": "1.5.0",
            "_view_name": "HTMLView",
            "description": "",
            "description_tooltip": null,
            "layout": "IPY_MODEL_6505e29a77404100a3dae8a761796c7b",
            "placeholder": "​",
            "style": "IPY_MODEL_2b44d107e57a4cd28be5aa36418443c2",
            "value": "Downloading metadata: 100%"
          }
        },
        "58b80686cc6742b09fc362d6520391ca": {
          "model_module": "@jupyter-widgets/controls",
          "model_name": "FloatProgressModel",
          "model_module_version": "1.5.0",
          "state": {
            "_dom_classes": [],
            "_model_module": "@jupyter-widgets/controls",
            "_model_module_version": "1.5.0",
            "_model_name": "FloatProgressModel",
            "_view_count": null,
            "_view_module": "@jupyter-widgets/controls",
            "_view_module_version": "1.5.0",
            "_view_name": "ProgressView",
            "bar_style": "success",
            "description": "",
            "description_tooltip": null,
            "layout": "IPY_MODEL_45071461b87348c59aafe171e214847d",
            "max": 30394,
            "min": 0,
            "orientation": "horizontal",
            "style": "IPY_MODEL_0093ac2e08e14cd5b1da0ce40f690f3d",
            "value": 30394
          }
        },
        "069993eb1c0d4a939a7aa2eb3b9a868e": {
          "model_module": "@jupyter-widgets/controls",
          "model_name": "HTMLModel",
          "model_module_version": "1.5.0",
          "state": {
            "_dom_classes": [],
            "_model_module": "@jupyter-widgets/controls",
            "_model_module_version": "1.5.0",
            "_model_name": "HTMLModel",
            "_view_count": null,
            "_view_module": "@jupyter-widgets/controls",
            "_view_module_version": "1.5.0",
            "_view_name": "HTMLView",
            "description": "",
            "description_tooltip": null,
            "layout": "IPY_MODEL_041aa2c19b834f8a96bfad09d53b8a37",
            "placeholder": "​",
            "style": "IPY_MODEL_2da3607390304b90aa033cfa3c945e42",
            "value": " 30.4k/30.4k [00:00&lt;00:00, 1.83MB/s]"
          }
        },
        "3c14fbc7c05d4e539d06d422377ec4fe": {
          "model_module": "@jupyter-widgets/base",
          "model_name": "LayoutModel",
          "model_module_version": "1.2.0",
          "state": {
            "_model_module": "@jupyter-widgets/base",
            "_model_module_version": "1.2.0",
            "_model_name": "LayoutModel",
            "_view_count": null,
            "_view_module": "@jupyter-widgets/base",
            "_view_module_version": "1.2.0",
            "_view_name": "LayoutView",
            "align_content": null,
            "align_items": null,
            "align_self": null,
            "border": null,
            "bottom": null,
            "display": null,
            "flex": null,
            "flex_flow": null,
            "grid_area": null,
            "grid_auto_columns": null,
            "grid_auto_flow": null,
            "grid_auto_rows": null,
            "grid_column": null,
            "grid_gap": null,
            "grid_row": null,
            "grid_template_areas": null,
            "grid_template_columns": null,
            "grid_template_rows": null,
            "height": null,
            "justify_content": null,
            "justify_items": null,
            "left": null,
            "margin": null,
            "max_height": null,
            "max_width": null,
            "min_height": null,
            "min_width": null,
            "object_fit": null,
            "object_position": null,
            "order": null,
            "overflow": null,
            "overflow_x": null,
            "overflow_y": null,
            "padding": null,
            "right": null,
            "top": null,
            "visibility": null,
            "width": null
          }
        },
        "6505e29a77404100a3dae8a761796c7b": {
          "model_module": "@jupyter-widgets/base",
          "model_name": "LayoutModel",
          "model_module_version": "1.2.0",
          "state": {
            "_model_module": "@jupyter-widgets/base",
            "_model_module_version": "1.2.0",
            "_model_name": "LayoutModel",
            "_view_count": null,
            "_view_module": "@jupyter-widgets/base",
            "_view_module_version": "1.2.0",
            "_view_name": "LayoutView",
            "align_content": null,
            "align_items": null,
            "align_self": null,
            "border": null,
            "bottom": null,
            "display": null,
            "flex": null,
            "flex_flow": null,
            "grid_area": null,
            "grid_auto_columns": null,
            "grid_auto_flow": null,
            "grid_auto_rows": null,
            "grid_column": null,
            "grid_gap": null,
            "grid_row": null,
            "grid_template_areas": null,
            "grid_template_columns": null,
            "grid_template_rows": null,
            "height": null,
            "justify_content": null,
            "justify_items": null,
            "left": null,
            "margin": null,
            "max_height": null,
            "max_width": null,
            "min_height": null,
            "min_width": null,
            "object_fit": null,
            "object_position": null,
            "order": null,
            "overflow": null,
            "overflow_x": null,
            "overflow_y": null,
            "padding": null,
            "right": null,
            "top": null,
            "visibility": null,
            "width": null
          }
        },
        "2b44d107e57a4cd28be5aa36418443c2": {
          "model_module": "@jupyter-widgets/controls",
          "model_name": "DescriptionStyleModel",
          "model_module_version": "1.5.0",
          "state": {
            "_model_module": "@jupyter-widgets/controls",
            "_model_module_version": "1.5.0",
            "_model_name": "DescriptionStyleModel",
            "_view_count": null,
            "_view_module": "@jupyter-widgets/base",
            "_view_module_version": "1.2.0",
            "_view_name": "StyleView",
            "description_width": ""
          }
        },
        "45071461b87348c59aafe171e214847d": {
          "model_module": "@jupyter-widgets/base",
          "model_name": "LayoutModel",
          "model_module_version": "1.2.0",
          "state": {
            "_model_module": "@jupyter-widgets/base",
            "_model_module_version": "1.2.0",
            "_model_name": "LayoutModel",
            "_view_count": null,
            "_view_module": "@jupyter-widgets/base",
            "_view_module_version": "1.2.0",
            "_view_name": "LayoutView",
            "align_content": null,
            "align_items": null,
            "align_self": null,
            "border": null,
            "bottom": null,
            "display": null,
            "flex": null,
            "flex_flow": null,
            "grid_area": null,
            "grid_auto_columns": null,
            "grid_auto_flow": null,
            "grid_auto_rows": null,
            "grid_column": null,
            "grid_gap": null,
            "grid_row": null,
            "grid_template_areas": null,
            "grid_template_columns": null,
            "grid_template_rows": null,
            "height": null,
            "justify_content": null,
            "justify_items": null,
            "left": null,
            "margin": null,
            "max_height": null,
            "max_width": null,
            "min_height": null,
            "min_width": null,
            "object_fit": null,
            "object_position": null,
            "order": null,
            "overflow": null,
            "overflow_x": null,
            "overflow_y": null,
            "padding": null,
            "right": null,
            "top": null,
            "visibility": null,
            "width": null
          }
        },
        "0093ac2e08e14cd5b1da0ce40f690f3d": {
          "model_module": "@jupyter-widgets/controls",
          "model_name": "ProgressStyleModel",
          "model_module_version": "1.5.0",
          "state": {
            "_model_module": "@jupyter-widgets/controls",
            "_model_module_version": "1.5.0",
            "_model_name": "ProgressStyleModel",
            "_view_count": null,
            "_view_module": "@jupyter-widgets/base",
            "_view_module_version": "1.2.0",
            "_view_name": "StyleView",
            "bar_color": null,
            "description_width": ""
          }
        },
        "041aa2c19b834f8a96bfad09d53b8a37": {
          "model_module": "@jupyter-widgets/base",
          "model_name": "LayoutModel",
          "model_module_version": "1.2.0",
          "state": {
            "_model_module": "@jupyter-widgets/base",
            "_model_module_version": "1.2.0",
            "_model_name": "LayoutModel",
            "_view_count": null,
            "_view_module": "@jupyter-widgets/base",
            "_view_module_version": "1.2.0",
            "_view_name": "LayoutView",
            "align_content": null,
            "align_items": null,
            "align_self": null,
            "border": null,
            "bottom": null,
            "display": null,
            "flex": null,
            "flex_flow": null,
            "grid_area": null,
            "grid_auto_columns": null,
            "grid_auto_flow": null,
            "grid_auto_rows": null,
            "grid_column": null,
            "grid_gap": null,
            "grid_row": null,
            "grid_template_areas": null,
            "grid_template_columns": null,
            "grid_template_rows": null,
            "height": null,
            "justify_content": null,
            "justify_items": null,
            "left": null,
            "margin": null,
            "max_height": null,
            "max_width": null,
            "min_height": null,
            "min_width": null,
            "object_fit": null,
            "object_position": null,
            "order": null,
            "overflow": null,
            "overflow_x": null,
            "overflow_y": null,
            "padding": null,
            "right": null,
            "top": null,
            "visibility": null,
            "width": null
          }
        },
        "2da3607390304b90aa033cfa3c945e42": {
          "model_module": "@jupyter-widgets/controls",
          "model_name": "DescriptionStyleModel",
          "model_module_version": "1.5.0",
          "state": {
            "_model_module": "@jupyter-widgets/controls",
            "_model_module_version": "1.5.0",
            "_model_name": "DescriptionStyleModel",
            "_view_count": null,
            "_view_module": "@jupyter-widgets/base",
            "_view_module_version": "1.2.0",
            "_view_name": "StyleView",
            "description_width": ""
          }
        },
        "60fb515714b043baa64183374d5dbca2": {
          "model_module": "@jupyter-widgets/controls",
          "model_name": "HBoxModel",
          "model_module_version": "1.5.0",
          "state": {
            "_dom_classes": [],
            "_model_module": "@jupyter-widgets/controls",
            "_model_module_version": "1.5.0",
            "_model_name": "HBoxModel",
            "_view_count": null,
            "_view_module": "@jupyter-widgets/controls",
            "_view_module_version": "1.5.0",
            "_view_name": "HBoxView",
            "box_style": "",
            "children": [
              "IPY_MODEL_d50ad85cbf0e4dcea99152857c207a97",
              "IPY_MODEL_afbdb7b13bd24ce89ba0bdc095a83078",
              "IPY_MODEL_0577a974032a4698862f86d0ca333417"
            ],
            "layout": "IPY_MODEL_6e5f178921474f008cea96f990396c60"
          }
        },
        "d50ad85cbf0e4dcea99152857c207a97": {
          "model_module": "@jupyter-widgets/controls",
          "model_name": "HTMLModel",
          "model_module_version": "1.5.0",
          "state": {
            "_dom_classes": [],
            "_model_module": "@jupyter-widgets/controls",
            "_model_module_version": "1.5.0",
            "_model_name": "HTMLModel",
            "_view_count": null,
            "_view_module": "@jupyter-widgets/controls",
            "_view_module_version": "1.5.0",
            "_view_name": "HTMLView",
            "description": "",
            "description_tooltip": null,
            "layout": "IPY_MODEL_15e12c2e4f144d1e89bc063906f81a31",
            "placeholder": "​",
            "style": "IPY_MODEL_e5749db7265e4fab949b21f29be0230c",
            "value": "Downloading readme: 100%"
          }
        },
        "afbdb7b13bd24ce89ba0bdc095a83078": {
          "model_module": "@jupyter-widgets/controls",
          "model_name": "FloatProgressModel",
          "model_module_version": "1.5.0",
          "state": {
            "_dom_classes": [],
            "_model_module": "@jupyter-widgets/controls",
            "_model_module_version": "1.5.0",
            "_model_name": "FloatProgressModel",
            "_view_count": null,
            "_view_module": "@jupyter-widgets/controls",
            "_view_module_version": "1.5.0",
            "_view_name": "ProgressView",
            "bar_style": "success",
            "description": "",
            "description_tooltip": null,
            "layout": "IPY_MODEL_4ac948c347864f5b9331564069eb23e7",
            "max": 16258,
            "min": 0,
            "orientation": "horizontal",
            "style": "IPY_MODEL_61d9163d5b0d4e1f92867085d5d9649d",
            "value": 16258
          }
        },
        "0577a974032a4698862f86d0ca333417": {
          "model_module": "@jupyter-widgets/controls",
          "model_name": "HTMLModel",
          "model_module_version": "1.5.0",
          "state": {
            "_dom_classes": [],
            "_model_module": "@jupyter-widgets/controls",
            "_model_module_version": "1.5.0",
            "_model_name": "HTMLModel",
            "_view_count": null,
            "_view_module": "@jupyter-widgets/controls",
            "_view_module_version": "1.5.0",
            "_view_name": "HTMLView",
            "description": "",
            "description_tooltip": null,
            "layout": "IPY_MODEL_d6dbe378493c41f5ac817cb249d8b427",
            "placeholder": "​",
            "style": "IPY_MODEL_afdfef4af67245a4b9161cbdcc535b51",
            "value": " 16.3k/16.3k [00:00&lt;00:00, 682kB/s]"
          }
        },
        "6e5f178921474f008cea96f990396c60": {
          "model_module": "@jupyter-widgets/base",
          "model_name": "LayoutModel",
          "model_module_version": "1.2.0",
          "state": {
            "_model_module": "@jupyter-widgets/base",
            "_model_module_version": "1.2.0",
            "_model_name": "LayoutModel",
            "_view_count": null,
            "_view_module": "@jupyter-widgets/base",
            "_view_module_version": "1.2.0",
            "_view_name": "LayoutView",
            "align_content": null,
            "align_items": null,
            "align_self": null,
            "border": null,
            "bottom": null,
            "display": null,
            "flex": null,
            "flex_flow": null,
            "grid_area": null,
            "grid_auto_columns": null,
            "grid_auto_flow": null,
            "grid_auto_rows": null,
            "grid_column": null,
            "grid_gap": null,
            "grid_row": null,
            "grid_template_areas": null,
            "grid_template_columns": null,
            "grid_template_rows": null,
            "height": null,
            "justify_content": null,
            "justify_items": null,
            "left": null,
            "margin": null,
            "max_height": null,
            "max_width": null,
            "min_height": null,
            "min_width": null,
            "object_fit": null,
            "object_position": null,
            "order": null,
            "overflow": null,
            "overflow_x": null,
            "overflow_y": null,
            "padding": null,
            "right": null,
            "top": null,
            "visibility": null,
            "width": null
          }
        },
        "15e12c2e4f144d1e89bc063906f81a31": {
          "model_module": "@jupyter-widgets/base",
          "model_name": "LayoutModel",
          "model_module_version": "1.2.0",
          "state": {
            "_model_module": "@jupyter-widgets/base",
            "_model_module_version": "1.2.0",
            "_model_name": "LayoutModel",
            "_view_count": null,
            "_view_module": "@jupyter-widgets/base",
            "_view_module_version": "1.2.0",
            "_view_name": "LayoutView",
            "align_content": null,
            "align_items": null,
            "align_self": null,
            "border": null,
            "bottom": null,
            "display": null,
            "flex": null,
            "flex_flow": null,
            "grid_area": null,
            "grid_auto_columns": null,
            "grid_auto_flow": null,
            "grid_auto_rows": null,
            "grid_column": null,
            "grid_gap": null,
            "grid_row": null,
            "grid_template_areas": null,
            "grid_template_columns": null,
            "grid_template_rows": null,
            "height": null,
            "justify_content": null,
            "justify_items": null,
            "left": null,
            "margin": null,
            "max_height": null,
            "max_width": null,
            "min_height": null,
            "min_width": null,
            "object_fit": null,
            "object_position": null,
            "order": null,
            "overflow": null,
            "overflow_x": null,
            "overflow_y": null,
            "padding": null,
            "right": null,
            "top": null,
            "visibility": null,
            "width": null
          }
        },
        "e5749db7265e4fab949b21f29be0230c": {
          "model_module": "@jupyter-widgets/controls",
          "model_name": "DescriptionStyleModel",
          "model_module_version": "1.5.0",
          "state": {
            "_model_module": "@jupyter-widgets/controls",
            "_model_module_version": "1.5.0",
            "_model_name": "DescriptionStyleModel",
            "_view_count": null,
            "_view_module": "@jupyter-widgets/base",
            "_view_module_version": "1.2.0",
            "_view_name": "StyleView",
            "description_width": ""
          }
        },
        "4ac948c347864f5b9331564069eb23e7": {
          "model_module": "@jupyter-widgets/base",
          "model_name": "LayoutModel",
          "model_module_version": "1.2.0",
          "state": {
            "_model_module": "@jupyter-widgets/base",
            "_model_module_version": "1.2.0",
            "_model_name": "LayoutModel",
            "_view_count": null,
            "_view_module": "@jupyter-widgets/base",
            "_view_module_version": "1.2.0",
            "_view_name": "LayoutView",
            "align_content": null,
            "align_items": null,
            "align_self": null,
            "border": null,
            "bottom": null,
            "display": null,
            "flex": null,
            "flex_flow": null,
            "grid_area": null,
            "grid_auto_columns": null,
            "grid_auto_flow": null,
            "grid_auto_rows": null,
            "grid_column": null,
            "grid_gap": null,
            "grid_row": null,
            "grid_template_areas": null,
            "grid_template_columns": null,
            "grid_template_rows": null,
            "height": null,
            "justify_content": null,
            "justify_items": null,
            "left": null,
            "margin": null,
            "max_height": null,
            "max_width": null,
            "min_height": null,
            "min_width": null,
            "object_fit": null,
            "object_position": null,
            "order": null,
            "overflow": null,
            "overflow_x": null,
            "overflow_y": null,
            "padding": null,
            "right": null,
            "top": null,
            "visibility": null,
            "width": null
          }
        },
        "61d9163d5b0d4e1f92867085d5d9649d": {
          "model_module": "@jupyter-widgets/controls",
          "model_name": "ProgressStyleModel",
          "model_module_version": "1.5.0",
          "state": {
            "_model_module": "@jupyter-widgets/controls",
            "_model_module_version": "1.5.0",
            "_model_name": "ProgressStyleModel",
            "_view_count": null,
            "_view_module": "@jupyter-widgets/base",
            "_view_module_version": "1.2.0",
            "_view_name": "StyleView",
            "bar_color": null,
            "description_width": ""
          }
        },
        "d6dbe378493c41f5ac817cb249d8b427": {
          "model_module": "@jupyter-widgets/base",
          "model_name": "LayoutModel",
          "model_module_version": "1.2.0",
          "state": {
            "_model_module": "@jupyter-widgets/base",
            "_model_module_version": "1.2.0",
            "_model_name": "LayoutModel",
            "_view_count": null,
            "_view_module": "@jupyter-widgets/base",
            "_view_module_version": "1.2.0",
            "_view_name": "LayoutView",
            "align_content": null,
            "align_items": null,
            "align_self": null,
            "border": null,
            "bottom": null,
            "display": null,
            "flex": null,
            "flex_flow": null,
            "grid_area": null,
            "grid_auto_columns": null,
            "grid_auto_flow": null,
            "grid_auto_rows": null,
            "grid_column": null,
            "grid_gap": null,
            "grid_row": null,
            "grid_template_areas": null,
            "grid_template_columns": null,
            "grid_template_rows": null,
            "height": null,
            "justify_content": null,
            "justify_items": null,
            "left": null,
            "margin": null,
            "max_height": null,
            "max_width": null,
            "min_height": null,
            "min_width": null,
            "object_fit": null,
            "object_position": null,
            "order": null,
            "overflow": null,
            "overflow_x": null,
            "overflow_y": null,
            "padding": null,
            "right": null,
            "top": null,
            "visibility": null,
            "width": null
          }
        },
        "afdfef4af67245a4b9161cbdcc535b51": {
          "model_module": "@jupyter-widgets/controls",
          "model_name": "DescriptionStyleModel",
          "model_module_version": "1.5.0",
          "state": {
            "_model_module": "@jupyter-widgets/controls",
            "_model_module_version": "1.5.0",
            "_model_name": "DescriptionStyleModel",
            "_view_count": null,
            "_view_module": "@jupyter-widgets/base",
            "_view_module_version": "1.2.0",
            "_view_name": "StyleView",
            "description_width": ""
          }
        },
        "e5c61473a4a946caae49404b6b55e645": {
          "model_module": "@jupyter-widgets/controls",
          "model_name": "HBoxModel",
          "model_module_version": "1.5.0",
          "state": {
            "_dom_classes": [],
            "_model_module": "@jupyter-widgets/controls",
            "_model_module_version": "1.5.0",
            "_model_name": "HBoxModel",
            "_view_count": null,
            "_view_module": "@jupyter-widgets/controls",
            "_view_module_version": "1.5.0",
            "_view_name": "HBoxView",
            "box_style": "",
            "children": [
              "IPY_MODEL_1fe94464489f42e8953e9caede414bbe",
              "IPY_MODEL_5cb19e5a952d460581c9d7fd5d96a63e",
              "IPY_MODEL_09bcb7aca2da4495828144e048bad93c"
            ],
            "layout": "IPY_MODEL_abf3b5c357014a258d23a1a71d1d402c"
          }
        },
        "1fe94464489f42e8953e9caede414bbe": {
          "model_module": "@jupyter-widgets/controls",
          "model_name": "HTMLModel",
          "model_module_version": "1.5.0",
          "state": {
            "_dom_classes": [],
            "_model_module": "@jupyter-widgets/controls",
            "_model_module_version": "1.5.0",
            "_model_name": "HTMLModel",
            "_view_count": null,
            "_view_module": "@jupyter-widgets/controls",
            "_view_module_version": "1.5.0",
            "_view_name": "HTMLView",
            "description": "",
            "description_tooltip": null,
            "layout": "IPY_MODEL_77b85b7ed6e5416685d6610a93cc525e",
            "placeholder": "​",
            "style": "IPY_MODEL_aa513848b7db4fa89ee046e9e7b4a882",
            "value": "Downloading: 100%"
          }
        },
        "5cb19e5a952d460581c9d7fd5d96a63e": {
          "model_module": "@jupyter-widgets/controls",
          "model_name": "FloatProgressModel",
          "model_module_version": "1.5.0",
          "state": {
            "_dom_classes": [],
            "_model_module": "@jupyter-widgets/controls",
            "_model_module_version": "1.5.0",
            "_model_name": "FloatProgressModel",
            "_view_count": null,
            "_view_module": "@jupyter-widgets/controls",
            "_view_module_version": "1.5.0",
            "_view_name": "ProgressView",
            "bar_style": "success",
            "description": "",
            "description_tooltip": null,
            "layout": "IPY_MODEL_e3f58a97707a458f8b96e15dc399ba34",
            "max": 1660,
            "min": 0,
            "orientation": "horizontal",
            "style": "IPY_MODEL_2b274f82531d4b55b624bbb8065237fa",
            "value": 1660
          }
        },
        "09bcb7aca2da4495828144e048bad93c": {
          "model_module": "@jupyter-widgets/controls",
          "model_name": "HTMLModel",
          "model_module_version": "1.5.0",
          "state": {
            "_dom_classes": [],
            "_model_module": "@jupyter-widgets/controls",
            "_model_module_version": "1.5.0",
            "_model_name": "HTMLModel",
            "_view_count": null,
            "_view_module": "@jupyter-widgets/controls",
            "_view_module_version": "1.5.0",
            "_view_name": "HTMLView",
            "description": "",
            "description_tooltip": null,
            "layout": "IPY_MODEL_0ab0aed1014a41ba88c3c84c587199c4",
            "placeholder": "​",
            "style": "IPY_MODEL_3e7177891ddf4ee3a15217edbf0aacd5",
            "value": " 1.66k/1.66k [00:00&lt;00:00, 73.1kB/s]"
          }
        },
        "abf3b5c357014a258d23a1a71d1d402c": {
          "model_module": "@jupyter-widgets/base",
          "model_name": "LayoutModel",
          "model_module_version": "1.2.0",
          "state": {
            "_model_module": "@jupyter-widgets/base",
            "_model_module_version": "1.2.0",
            "_model_name": "LayoutModel",
            "_view_count": null,
            "_view_module": "@jupyter-widgets/base",
            "_view_module_version": "1.2.0",
            "_view_name": "LayoutView",
            "align_content": null,
            "align_items": null,
            "align_self": null,
            "border": null,
            "bottom": null,
            "display": null,
            "flex": null,
            "flex_flow": null,
            "grid_area": null,
            "grid_auto_columns": null,
            "grid_auto_flow": null,
            "grid_auto_rows": null,
            "grid_column": null,
            "grid_gap": null,
            "grid_row": null,
            "grid_template_areas": null,
            "grid_template_columns": null,
            "grid_template_rows": null,
            "height": null,
            "justify_content": null,
            "justify_items": null,
            "left": null,
            "margin": null,
            "max_height": null,
            "max_width": null,
            "min_height": null,
            "min_width": null,
            "object_fit": null,
            "object_position": null,
            "order": null,
            "overflow": null,
            "overflow_x": null,
            "overflow_y": null,
            "padding": null,
            "right": null,
            "top": null,
            "visibility": null,
            "width": null
          }
        },
        "77b85b7ed6e5416685d6610a93cc525e": {
          "model_module": "@jupyter-widgets/base",
          "model_name": "LayoutModel",
          "model_module_version": "1.2.0",
          "state": {
            "_model_module": "@jupyter-widgets/base",
            "_model_module_version": "1.2.0",
            "_model_name": "LayoutModel",
            "_view_count": null,
            "_view_module": "@jupyter-widgets/base",
            "_view_module_version": "1.2.0",
            "_view_name": "LayoutView",
            "align_content": null,
            "align_items": null,
            "align_self": null,
            "border": null,
            "bottom": null,
            "display": null,
            "flex": null,
            "flex_flow": null,
            "grid_area": null,
            "grid_auto_columns": null,
            "grid_auto_flow": null,
            "grid_auto_rows": null,
            "grid_column": null,
            "grid_gap": null,
            "grid_row": null,
            "grid_template_areas": null,
            "grid_template_columns": null,
            "grid_template_rows": null,
            "height": null,
            "justify_content": null,
            "justify_items": null,
            "left": null,
            "margin": null,
            "max_height": null,
            "max_width": null,
            "min_height": null,
            "min_width": null,
            "object_fit": null,
            "object_position": null,
            "order": null,
            "overflow": null,
            "overflow_x": null,
            "overflow_y": null,
            "padding": null,
            "right": null,
            "top": null,
            "visibility": null,
            "width": null
          }
        },
        "aa513848b7db4fa89ee046e9e7b4a882": {
          "model_module": "@jupyter-widgets/controls",
          "model_name": "DescriptionStyleModel",
          "model_module_version": "1.5.0",
          "state": {
            "_model_module": "@jupyter-widgets/controls",
            "_model_module_version": "1.5.0",
            "_model_name": "DescriptionStyleModel",
            "_view_count": null,
            "_view_module": "@jupyter-widgets/base",
            "_view_module_version": "1.2.0",
            "_view_name": "StyleView",
            "description_width": ""
          }
        },
        "e3f58a97707a458f8b96e15dc399ba34": {
          "model_module": "@jupyter-widgets/base",
          "model_name": "LayoutModel",
          "model_module_version": "1.2.0",
          "state": {
            "_model_module": "@jupyter-widgets/base",
            "_model_module_version": "1.2.0",
            "_model_name": "LayoutModel",
            "_view_count": null,
            "_view_module": "@jupyter-widgets/base",
            "_view_module_version": "1.2.0",
            "_view_name": "LayoutView",
            "align_content": null,
            "align_items": null,
            "align_self": null,
            "border": null,
            "bottom": null,
            "display": null,
            "flex": null,
            "flex_flow": null,
            "grid_area": null,
            "grid_auto_columns": null,
            "grid_auto_flow": null,
            "grid_auto_rows": null,
            "grid_column": null,
            "grid_gap": null,
            "grid_row": null,
            "grid_template_areas": null,
            "grid_template_columns": null,
            "grid_template_rows": null,
            "height": null,
            "justify_content": null,
            "justify_items": null,
            "left": null,
            "margin": null,
            "max_height": null,
            "max_width": null,
            "min_height": null,
            "min_width": null,
            "object_fit": null,
            "object_position": null,
            "order": null,
            "overflow": null,
            "overflow_x": null,
            "overflow_y": null,
            "padding": null,
            "right": null,
            "top": null,
            "visibility": null,
            "width": null
          }
        },
        "2b274f82531d4b55b624bbb8065237fa": {
          "model_module": "@jupyter-widgets/controls",
          "model_name": "ProgressStyleModel",
          "model_module_version": "1.5.0",
          "state": {
            "_model_module": "@jupyter-widgets/controls",
            "_model_module_version": "1.5.0",
            "_model_name": "ProgressStyleModel",
            "_view_count": null,
            "_view_module": "@jupyter-widgets/base",
            "_view_module_version": "1.2.0",
            "_view_name": "StyleView",
            "bar_color": null,
            "description_width": ""
          }
        },
        "0ab0aed1014a41ba88c3c84c587199c4": {
          "model_module": "@jupyter-widgets/base",
          "model_name": "LayoutModel",
          "model_module_version": "1.2.0",
          "state": {
            "_model_module": "@jupyter-widgets/base",
            "_model_module_version": "1.2.0",
            "_model_name": "LayoutModel",
            "_view_count": null,
            "_view_module": "@jupyter-widgets/base",
            "_view_module_version": "1.2.0",
            "_view_name": "LayoutView",
            "align_content": null,
            "align_items": null,
            "align_self": null,
            "border": null,
            "bottom": null,
            "display": null,
            "flex": null,
            "flex_flow": null,
            "grid_area": null,
            "grid_auto_columns": null,
            "grid_auto_flow": null,
            "grid_auto_rows": null,
            "grid_column": null,
            "grid_gap": null,
            "grid_row": null,
            "grid_template_areas": null,
            "grid_template_columns": null,
            "grid_template_rows": null,
            "height": null,
            "justify_content": null,
            "justify_items": null,
            "left": null,
            "margin": null,
            "max_height": null,
            "max_width": null,
            "min_height": null,
            "min_width": null,
            "object_fit": null,
            "object_position": null,
            "order": null,
            "overflow": null,
            "overflow_x": null,
            "overflow_y": null,
            "padding": null,
            "right": null,
            "top": null,
            "visibility": null,
            "width": null
          }
        },
        "3e7177891ddf4ee3a15217edbf0aacd5": {
          "model_module": "@jupyter-widgets/controls",
          "model_name": "DescriptionStyleModel",
          "model_module_version": "1.5.0",
          "state": {
            "_model_module": "@jupyter-widgets/controls",
            "_model_module_version": "1.5.0",
            "_model_name": "DescriptionStyleModel",
            "_view_count": null,
            "_view_module": "@jupyter-widgets/base",
            "_view_module_version": "1.2.0",
            "_view_name": "StyleView",
            "description_width": ""
          }
        },
        "61e1263155354c848d40671f1980418e": {
          "model_module": "@jupyter-widgets/controls",
          "model_name": "HBoxModel",
          "model_module_version": "1.5.0",
          "state": {
            "_dom_classes": [],
            "_model_module": "@jupyter-widgets/controls",
            "_model_module_version": "1.5.0",
            "_model_name": "HBoxModel",
            "_view_count": null,
            "_view_module": "@jupyter-widgets/controls",
            "_view_module_version": "1.5.0",
            "_view_name": "HBoxView",
            "box_style": "",
            "children": [
              "IPY_MODEL_4069be40c9ea420aa9973c1a83f29f7a",
              "IPY_MODEL_87dcded6cd71427aa4f10c3d221f324d",
              "IPY_MODEL_a9401fd55665482c9e2a7fdba5a98d13"
            ],
            "layout": "IPY_MODEL_25d7004e31f844768ce750d0e6aeeef4"
          }
        },
        "4069be40c9ea420aa9973c1a83f29f7a": {
          "model_module": "@jupyter-widgets/controls",
          "model_name": "HTMLModel",
          "model_module_version": "1.5.0",
          "state": {
            "_dom_classes": [],
            "_model_module": "@jupyter-widgets/controls",
            "_model_module_version": "1.5.0",
            "_model_name": "HTMLModel",
            "_view_count": null,
            "_view_module": "@jupyter-widgets/controls",
            "_view_module_version": "1.5.0",
            "_view_name": "HTMLView",
            "description": "",
            "description_tooltip": null,
            "layout": "IPY_MODEL_560beac9eceb4d3b93e519bf3cd519ca",
            "placeholder": "​",
            "style": "IPY_MODEL_9d9010c2210b4271bf830e1bf4a3bbf5",
            "value": "Downloading: 100%"
          }
        },
        "87dcded6cd71427aa4f10c3d221f324d": {
          "model_module": "@jupyter-widgets/controls",
          "model_name": "FloatProgressModel",
          "model_module_version": "1.5.0",
          "state": {
            "_dom_classes": [],
            "_model_module": "@jupyter-widgets/controls",
            "_model_module_version": "1.5.0",
            "_model_name": "FloatProgressModel",
            "_view_count": null,
            "_view_module": "@jupyter-widgets/controls",
            "_view_module_version": "1.5.0",
            "_view_name": "ProgressView",
            "bar_style": "success",
            "description": "",
            "description_tooltip": null,
            "layout": "IPY_MODEL_f7dd8583a76546f191234196f01f013f",
            "max": 235072360,
            "min": 0,
            "orientation": "horizontal",
            "style": "IPY_MODEL_06846fa1b6e5430497b06a0f5ffddbd1",
            "value": 235072360
          }
        },
        "a9401fd55665482c9e2a7fdba5a98d13": {
          "model_module": "@jupyter-widgets/controls",
          "model_name": "HTMLModel",
          "model_module_version": "1.5.0",
          "state": {
            "_dom_classes": [],
            "_model_module": "@jupyter-widgets/controls",
            "_model_module_version": "1.5.0",
            "_model_name": "HTMLModel",
            "_view_count": null,
            "_view_module": "@jupyter-widgets/controls",
            "_view_module_version": "1.5.0",
            "_view_name": "HTMLView",
            "description": "",
            "description_tooltip": null,
            "layout": "IPY_MODEL_12856d1ec08e46108b3f6502a11cc981",
            "placeholder": "​",
            "style": "IPY_MODEL_1cf95ad02cab49bdaceeffa44e6e198f",
            "value": " 235M/235M [00:15&lt;00:00, 17.2MB/s]"
          }
        },
        "25d7004e31f844768ce750d0e6aeeef4": {
          "model_module": "@jupyter-widgets/base",
          "model_name": "LayoutModel",
          "model_module_version": "1.2.0",
          "state": {
            "_model_module": "@jupyter-widgets/base",
            "_model_module_version": "1.2.0",
            "_model_name": "LayoutModel",
            "_view_count": null,
            "_view_module": "@jupyter-widgets/base",
            "_view_module_version": "1.2.0",
            "_view_name": "LayoutView",
            "align_content": null,
            "align_items": null,
            "align_self": null,
            "border": null,
            "bottom": null,
            "display": null,
            "flex": null,
            "flex_flow": null,
            "grid_area": null,
            "grid_auto_columns": null,
            "grid_auto_flow": null,
            "grid_auto_rows": null,
            "grid_column": null,
            "grid_gap": null,
            "grid_row": null,
            "grid_template_areas": null,
            "grid_template_columns": null,
            "grid_template_rows": null,
            "height": null,
            "justify_content": null,
            "justify_items": null,
            "left": null,
            "margin": null,
            "max_height": null,
            "max_width": null,
            "min_height": null,
            "min_width": null,
            "object_fit": null,
            "object_position": null,
            "order": null,
            "overflow": null,
            "overflow_x": null,
            "overflow_y": null,
            "padding": null,
            "right": null,
            "top": null,
            "visibility": null,
            "width": null
          }
        },
        "560beac9eceb4d3b93e519bf3cd519ca": {
          "model_module": "@jupyter-widgets/base",
          "model_name": "LayoutModel",
          "model_module_version": "1.2.0",
          "state": {
            "_model_module": "@jupyter-widgets/base",
            "_model_module_version": "1.2.0",
            "_model_name": "LayoutModel",
            "_view_count": null,
            "_view_module": "@jupyter-widgets/base",
            "_view_module_version": "1.2.0",
            "_view_name": "LayoutView",
            "align_content": null,
            "align_items": null,
            "align_self": null,
            "border": null,
            "bottom": null,
            "display": null,
            "flex": null,
            "flex_flow": null,
            "grid_area": null,
            "grid_auto_columns": null,
            "grid_auto_flow": null,
            "grid_auto_rows": null,
            "grid_column": null,
            "grid_gap": null,
            "grid_row": null,
            "grid_template_areas": null,
            "grid_template_columns": null,
            "grid_template_rows": null,
            "height": null,
            "justify_content": null,
            "justify_items": null,
            "left": null,
            "margin": null,
            "max_height": null,
            "max_width": null,
            "min_height": null,
            "min_width": null,
            "object_fit": null,
            "object_position": null,
            "order": null,
            "overflow": null,
            "overflow_x": null,
            "overflow_y": null,
            "padding": null,
            "right": null,
            "top": null,
            "visibility": null,
            "width": null
          }
        },
        "9d9010c2210b4271bf830e1bf4a3bbf5": {
          "model_module": "@jupyter-widgets/controls",
          "model_name": "DescriptionStyleModel",
          "model_module_version": "1.5.0",
          "state": {
            "_model_module": "@jupyter-widgets/controls",
            "_model_module_version": "1.5.0",
            "_model_name": "DescriptionStyleModel",
            "_view_count": null,
            "_view_module": "@jupyter-widgets/base",
            "_view_module_version": "1.2.0",
            "_view_name": "StyleView",
            "description_width": ""
          }
        },
        "f7dd8583a76546f191234196f01f013f": {
          "model_module": "@jupyter-widgets/base",
          "model_name": "LayoutModel",
          "model_module_version": "1.2.0",
          "state": {
            "_model_module": "@jupyter-widgets/base",
            "_model_module_version": "1.2.0",
            "_model_name": "LayoutModel",
            "_view_count": null,
            "_view_module": "@jupyter-widgets/base",
            "_view_module_version": "1.2.0",
            "_view_name": "LayoutView",
            "align_content": null,
            "align_items": null,
            "align_self": null,
            "border": null,
            "bottom": null,
            "display": null,
            "flex": null,
            "flex_flow": null,
            "grid_area": null,
            "grid_auto_columns": null,
            "grid_auto_flow": null,
            "grid_auto_rows": null,
            "grid_column": null,
            "grid_gap": null,
            "grid_row": null,
            "grid_template_areas": null,
            "grid_template_columns": null,
            "grid_template_rows": null,
            "height": null,
            "justify_content": null,
            "justify_items": null,
            "left": null,
            "margin": null,
            "max_height": null,
            "max_width": null,
            "min_height": null,
            "min_width": null,
            "object_fit": null,
            "object_position": null,
            "order": null,
            "overflow": null,
            "overflow_x": null,
            "overflow_y": null,
            "padding": null,
            "right": null,
            "top": null,
            "visibility": null,
            "width": null
          }
        },
        "06846fa1b6e5430497b06a0f5ffddbd1": {
          "model_module": "@jupyter-widgets/controls",
          "model_name": "ProgressStyleModel",
          "model_module_version": "1.5.0",
          "state": {
            "_model_module": "@jupyter-widgets/controls",
            "_model_module_version": "1.5.0",
            "_model_name": "ProgressStyleModel",
            "_view_count": null,
            "_view_module": "@jupyter-widgets/base",
            "_view_module_version": "1.2.0",
            "_view_name": "StyleView",
            "bar_color": null,
            "description_width": ""
          }
        },
        "12856d1ec08e46108b3f6502a11cc981": {
          "model_module": "@jupyter-widgets/base",
          "model_name": "LayoutModel",
          "model_module_version": "1.2.0",
          "state": {
            "_model_module": "@jupyter-widgets/base",
            "_model_module_version": "1.2.0",
            "_model_name": "LayoutModel",
            "_view_count": null,
            "_view_module": "@jupyter-widgets/base",
            "_view_module_version": "1.2.0",
            "_view_name": "LayoutView",
            "align_content": null,
            "align_items": null,
            "align_self": null,
            "border": null,
            "bottom": null,
            "display": null,
            "flex": null,
            "flex_flow": null,
            "grid_area": null,
            "grid_auto_columns": null,
            "grid_auto_flow": null,
            "grid_auto_rows": null,
            "grid_column": null,
            "grid_gap": null,
            "grid_row": null,
            "grid_template_areas": null,
            "grid_template_columns": null,
            "grid_template_rows": null,
            "height": null,
            "justify_content": null,
            "justify_items": null,
            "left": null,
            "margin": null,
            "max_height": null,
            "max_width": null,
            "min_height": null,
            "min_width": null,
            "object_fit": null,
            "object_position": null,
            "order": null,
            "overflow": null,
            "overflow_x": null,
            "overflow_y": null,
            "padding": null,
            "right": null,
            "top": null,
            "visibility": null,
            "width": null
          }
        },
        "1cf95ad02cab49bdaceeffa44e6e198f": {
          "model_module": "@jupyter-widgets/controls",
          "model_name": "DescriptionStyleModel",
          "model_module_version": "1.5.0",
          "state": {
            "_model_module": "@jupyter-widgets/controls",
            "_model_module_version": "1.5.0",
            "_model_name": "DescriptionStyleModel",
            "_view_count": null,
            "_view_module": "@jupyter-widgets/base",
            "_view_module_version": "1.2.0",
            "_view_name": "StyleView",
            "description_width": ""
          }
        },
        "18e958c7ef24467fb032129f3ba41d0b": {
          "model_module": "@jupyter-widgets/controls",
          "model_name": "HBoxModel",
          "model_module_version": "1.5.0",
          "state": {
            "_dom_classes": [],
            "_model_module": "@jupyter-widgets/controls",
            "_model_module_version": "1.5.0",
            "_model_name": "HBoxModel",
            "_view_count": null,
            "_view_module": "@jupyter-widgets/controls",
            "_view_module_version": "1.5.0",
            "_view_name": "HBoxView",
            "box_style": "",
            "children": [
              "IPY_MODEL_25dd176817a44040b99f376b8645cae6",
              "IPY_MODEL_f709e269b649469297f5c9ac35e4688b",
              "IPY_MODEL_ba03128fde4d41e0b5794d068ac8beb4"
            ],
            "layout": "IPY_MODEL_abfd0fc65ae44bec901441c028137920"
          }
        },
        "25dd176817a44040b99f376b8645cae6": {
          "model_module": "@jupyter-widgets/controls",
          "model_name": "HTMLModel",
          "model_module_version": "1.5.0",
          "state": {
            "_dom_classes": [],
            "_model_module": "@jupyter-widgets/controls",
            "_model_module_version": "1.5.0",
            "_model_name": "HTMLModel",
            "_view_count": null,
            "_view_module": "@jupyter-widgets/controls",
            "_view_module_version": "1.5.0",
            "_view_name": "HTMLView",
            "description": "",
            "description_tooltip": null,
            "layout": "IPY_MODEL_cf77ced8ff1945fdbdd01e4cea4d5d90",
            "placeholder": "​",
            "style": "IPY_MODEL_ca6152a95fe6409e98a6c7096b381bc4",
            "value": "100%"
          }
        },
        "f709e269b649469297f5c9ac35e4688b": {
          "model_module": "@jupyter-widgets/controls",
          "model_name": "FloatProgressModel",
          "model_module_version": "1.5.0",
          "state": {
            "_dom_classes": [],
            "_model_module": "@jupyter-widgets/controls",
            "_model_module_version": "1.5.0",
            "_model_name": "FloatProgressModel",
            "_view_count": null,
            "_view_module": "@jupyter-widgets/controls",
            "_view_module_version": "1.5.0",
            "_view_name": "ProgressView",
            "bar_style": "success",
            "description": "",
            "description_tooltip": null,
            "layout": "IPY_MODEL_b080a37e86354777a2ffedd6d1df290d",
            "max": 1,
            "min": 0,
            "orientation": "horizontal",
            "style": "IPY_MODEL_93a9b111d132472ea008668bb44607b1",
            "value": 1
          }
        },
        "ba03128fde4d41e0b5794d068ac8beb4": {
          "model_module": "@jupyter-widgets/controls",
          "model_name": "HTMLModel",
          "model_module_version": "1.5.0",
          "state": {
            "_dom_classes": [],
            "_model_module": "@jupyter-widgets/controls",
            "_model_module_version": "1.5.0",
            "_model_name": "HTMLModel",
            "_view_count": null,
            "_view_module": "@jupyter-widgets/controls",
            "_view_module_version": "1.5.0",
            "_view_name": "HTMLView",
            "description": "",
            "description_tooltip": null,
            "layout": "IPY_MODEL_2349e451f9e94dfcb3a7bd44b9c2731d",
            "placeholder": "​",
            "style": "IPY_MODEL_2c96fd6f1e224f48aa6e7fb19c2556f7",
            "value": " 1/1 [00:00&lt;00:00, 23.00it/s]"
          }
        },
        "abfd0fc65ae44bec901441c028137920": {
          "model_module": "@jupyter-widgets/base",
          "model_name": "LayoutModel",
          "model_module_version": "1.2.0",
          "state": {
            "_model_module": "@jupyter-widgets/base",
            "_model_module_version": "1.2.0",
            "_model_name": "LayoutModel",
            "_view_count": null,
            "_view_module": "@jupyter-widgets/base",
            "_view_module_version": "1.2.0",
            "_view_name": "LayoutView",
            "align_content": null,
            "align_items": null,
            "align_self": null,
            "border": null,
            "bottom": null,
            "display": null,
            "flex": null,
            "flex_flow": null,
            "grid_area": null,
            "grid_auto_columns": null,
            "grid_auto_flow": null,
            "grid_auto_rows": null,
            "grid_column": null,
            "grid_gap": null,
            "grid_row": null,
            "grid_template_areas": null,
            "grid_template_columns": null,
            "grid_template_rows": null,
            "height": null,
            "justify_content": null,
            "justify_items": null,
            "left": null,
            "margin": null,
            "max_height": null,
            "max_width": null,
            "min_height": null,
            "min_width": null,
            "object_fit": null,
            "object_position": null,
            "order": null,
            "overflow": null,
            "overflow_x": null,
            "overflow_y": null,
            "padding": null,
            "right": null,
            "top": null,
            "visibility": null,
            "width": null
          }
        },
        "cf77ced8ff1945fdbdd01e4cea4d5d90": {
          "model_module": "@jupyter-widgets/base",
          "model_name": "LayoutModel",
          "model_module_version": "1.2.0",
          "state": {
            "_model_module": "@jupyter-widgets/base",
            "_model_module_version": "1.2.0",
            "_model_name": "LayoutModel",
            "_view_count": null,
            "_view_module": "@jupyter-widgets/base",
            "_view_module_version": "1.2.0",
            "_view_name": "LayoutView",
            "align_content": null,
            "align_items": null,
            "align_self": null,
            "border": null,
            "bottom": null,
            "display": null,
            "flex": null,
            "flex_flow": null,
            "grid_area": null,
            "grid_auto_columns": null,
            "grid_auto_flow": null,
            "grid_auto_rows": null,
            "grid_column": null,
            "grid_gap": null,
            "grid_row": null,
            "grid_template_areas": null,
            "grid_template_columns": null,
            "grid_template_rows": null,
            "height": null,
            "justify_content": null,
            "justify_items": null,
            "left": null,
            "margin": null,
            "max_height": null,
            "max_width": null,
            "min_height": null,
            "min_width": null,
            "object_fit": null,
            "object_position": null,
            "order": null,
            "overflow": null,
            "overflow_x": null,
            "overflow_y": null,
            "padding": null,
            "right": null,
            "top": null,
            "visibility": null,
            "width": null
          }
        },
        "ca6152a95fe6409e98a6c7096b381bc4": {
          "model_module": "@jupyter-widgets/controls",
          "model_name": "DescriptionStyleModel",
          "model_module_version": "1.5.0",
          "state": {
            "_model_module": "@jupyter-widgets/controls",
            "_model_module_version": "1.5.0",
            "_model_name": "DescriptionStyleModel",
            "_view_count": null,
            "_view_module": "@jupyter-widgets/base",
            "_view_module_version": "1.2.0",
            "_view_name": "StyleView",
            "description_width": ""
          }
        },
        "b080a37e86354777a2ffedd6d1df290d": {
          "model_module": "@jupyter-widgets/base",
          "model_name": "LayoutModel",
          "model_module_version": "1.2.0",
          "state": {
            "_model_module": "@jupyter-widgets/base",
            "_model_module_version": "1.2.0",
            "_model_name": "LayoutModel",
            "_view_count": null,
            "_view_module": "@jupyter-widgets/base",
            "_view_module_version": "1.2.0",
            "_view_name": "LayoutView",
            "align_content": null,
            "align_items": null,
            "align_self": null,
            "border": null,
            "bottom": null,
            "display": null,
            "flex": null,
            "flex_flow": null,
            "grid_area": null,
            "grid_auto_columns": null,
            "grid_auto_flow": null,
            "grid_auto_rows": null,
            "grid_column": null,
            "grid_gap": null,
            "grid_row": null,
            "grid_template_areas": null,
            "grid_template_columns": null,
            "grid_template_rows": null,
            "height": null,
            "justify_content": null,
            "justify_items": null,
            "left": null,
            "margin": null,
            "max_height": null,
            "max_width": null,
            "min_height": null,
            "min_width": null,
            "object_fit": null,
            "object_position": null,
            "order": null,
            "overflow": null,
            "overflow_x": null,
            "overflow_y": null,
            "padding": null,
            "right": null,
            "top": null,
            "visibility": null,
            "width": null
          }
        },
        "93a9b111d132472ea008668bb44607b1": {
          "model_module": "@jupyter-widgets/controls",
          "model_name": "ProgressStyleModel",
          "model_module_version": "1.5.0",
          "state": {
            "_model_module": "@jupyter-widgets/controls",
            "_model_module_version": "1.5.0",
            "_model_name": "ProgressStyleModel",
            "_view_count": null,
            "_view_module": "@jupyter-widgets/base",
            "_view_module_version": "1.2.0",
            "_view_name": "StyleView",
            "bar_color": null,
            "description_width": ""
          }
        },
        "2349e451f9e94dfcb3a7bd44b9c2731d": {
          "model_module": "@jupyter-widgets/base",
          "model_name": "LayoutModel",
          "model_module_version": "1.2.0",
          "state": {
            "_model_module": "@jupyter-widgets/base",
            "_model_module_version": "1.2.0",
            "_model_name": "LayoutModel",
            "_view_count": null,
            "_view_module": "@jupyter-widgets/base",
            "_view_module_version": "1.2.0",
            "_view_name": "LayoutView",
            "align_content": null,
            "align_items": null,
            "align_self": null,
            "border": null,
            "bottom": null,
            "display": null,
            "flex": null,
            "flex_flow": null,
            "grid_area": null,
            "grid_auto_columns": null,
            "grid_auto_flow": null,
            "grid_auto_rows": null,
            "grid_column": null,
            "grid_gap": null,
            "grid_row": null,
            "grid_template_areas": null,
            "grid_template_columns": null,
            "grid_template_rows": null,
            "height": null,
            "justify_content": null,
            "justify_items": null,
            "left": null,
            "margin": null,
            "max_height": null,
            "max_width": null,
            "min_height": null,
            "min_width": null,
            "object_fit": null,
            "object_position": null,
            "order": null,
            "overflow": null,
            "overflow_x": null,
            "overflow_y": null,
            "padding": null,
            "right": null,
            "top": null,
            "visibility": null,
            "width": null
          }
        },
        "2c96fd6f1e224f48aa6e7fb19c2556f7": {
          "model_module": "@jupyter-widgets/controls",
          "model_name": "DescriptionStyleModel",
          "model_module_version": "1.5.0",
          "state": {
            "_model_module": "@jupyter-widgets/controls",
            "_model_module_version": "1.5.0",
            "_model_name": "DescriptionStyleModel",
            "_view_count": null,
            "_view_module": "@jupyter-widgets/base",
            "_view_module_version": "1.2.0",
            "_view_name": "StyleView",
            "description_width": ""
          }
        }
      }
    },
    "accelerator": "GPU"
  },
  "cells": [
    {
      "cell_type": "markdown",
      "source": [
        "# Sentence Reconstruction"
      ],
      "metadata": {
        "id": "ElNaMbLnRdHR"
      }
    },
    {
      "cell_type": "markdown",
      "source": [
        "The purpose of this project is to take in input a sequence of words corresponding to a random permutation of a given english sentence, and reconstruct the original sentence. \n",
        "\n",
        "The otuput can be either produced in a single shot, or through an iterative (autoregressive) loop generating a single token at a time.\n",
        "\n",
        "CONSTRAINTS:\n",
        "* No pretrained model can be used.\n",
        "* The neural network models should have less the 20M parameters.\n"
      ],
      "metadata": {
        "id": "oXr4iGUGRms8"
      }
    },
    {
      "cell_type": "markdown",
      "source": [
        "# Dataset\n",
        "\n",
        "The dataset is composed by a snapshot of wikipedia. We restricted the vocabolary to the 10K most frequent words, and only took sentences making use of this vocabulary. In addition, we restricted to sequences with a length between 3 and 30 words.\n",
        "\n",
        "(Ignore the error, if any) "
      ],
      "metadata": {
        "id": "iQ8k-L-WUK7l"
      }
    },
    {
      "cell_type": "code",
      "source": [
        "!pip install datasets\n",
        "!pip3 install apache-beam"
      ],
      "metadata": {
        "id": "0xmXLLfaUKA6",
        "colab": {
          "base_uri": "https://localhost:8080/"
        },
        "outputId": "79a3da51-d993-4d40-a334-6481a75547fa"
      },
      "execution_count": 1,
      "outputs": [
        {
          "output_type": "stream",
          "name": "stdout",
          "text": [
            "Looking in indexes: https://pypi.org/simple, https://us-python.pkg.dev/colab-wheels/public/simple/\n",
            "Collecting datasets\n",
            "  Downloading datasets-2.12.0-py3-none-any.whl (474 kB)\n",
            "\u001b[2K     \u001b[90m━━━━━━━━━━━━━━━━━━━━━━━━━━━━━━━━━━━━━━\u001b[0m \u001b[32m474.6/474.6 kB\u001b[0m \u001b[31m14.2 MB/s\u001b[0m eta \u001b[36m0:00:00\u001b[0m\n",
            "\u001b[?25hRequirement already satisfied: numpy>=1.17 in /usr/local/lib/python3.10/dist-packages (from datasets) (1.22.4)\n",
            "Requirement already satisfied: pyarrow>=8.0.0 in /usr/local/lib/python3.10/dist-packages (from datasets) (9.0.0)\n",
            "Collecting dill<0.3.7,>=0.3.0 (from datasets)\n",
            "  Downloading dill-0.3.6-py3-none-any.whl (110 kB)\n",
            "\u001b[2K     \u001b[90m━━━━━━━━━━━━━━━━━━━━━━━━━━━━━━━━━━━━━━━\u001b[0m \u001b[32m110.5/110.5 kB\u001b[0m \u001b[31m5.8 MB/s\u001b[0m eta \u001b[36m0:00:00\u001b[0m\n",
            "\u001b[?25hRequirement already satisfied: pandas in /usr/local/lib/python3.10/dist-packages (from datasets) (1.5.3)\n",
            "Requirement already satisfied: requests>=2.19.0 in /usr/local/lib/python3.10/dist-packages (from datasets) (2.27.1)\n",
            "Requirement already satisfied: tqdm>=4.62.1 in /usr/local/lib/python3.10/dist-packages (from datasets) (4.65.0)\n",
            "Collecting xxhash (from datasets)\n",
            "  Downloading xxhash-3.2.0-cp310-cp310-manylinux_2_17_x86_64.manylinux2014_x86_64.whl (212 kB)\n",
            "\u001b[2K     \u001b[90m━━━━━━━━━━━━━━━━━━━━━━━━━━━━━━━━━━━━━━\u001b[0m \u001b[32m212.5/212.5 kB\u001b[0m \u001b[31m21.6 MB/s\u001b[0m eta \u001b[36m0:00:00\u001b[0m\n",
            "\u001b[?25hCollecting multiprocess (from datasets)\n",
            "  Downloading multiprocess-0.70.14-py310-none-any.whl (134 kB)\n",
            "\u001b[2K     \u001b[90m━━━━━━━━━━━━━━━━━━━━━━━━━━━━━━━━━━━━━━\u001b[0m \u001b[32m134.3/134.3 kB\u001b[0m \u001b[31m16.8 MB/s\u001b[0m eta \u001b[36m0:00:00\u001b[0m\n",
            "\u001b[?25hRequirement already satisfied: fsspec[http]>=2021.11.1 in /usr/local/lib/python3.10/dist-packages (from datasets) (2023.4.0)\n",
            "Collecting aiohttp (from datasets)\n",
            "  Downloading aiohttp-3.8.4-cp310-cp310-manylinux_2_17_x86_64.manylinux2014_x86_64.whl (1.0 MB)\n",
            "\u001b[2K     \u001b[90m━━━━━━━━━━━━━━━━━━━━━━━━━━━━━━━━━━━━━━━━\u001b[0m \u001b[32m1.0/1.0 MB\u001b[0m \u001b[31m46.4 MB/s\u001b[0m eta \u001b[36m0:00:00\u001b[0m\n",
            "\u001b[?25hCollecting huggingface-hub<1.0.0,>=0.11.0 (from datasets)\n",
            "  Downloading huggingface_hub-0.15.1-py3-none-any.whl (236 kB)\n",
            "\u001b[2K     \u001b[90m━━━━━━━━━━━━━━━━━━━━━━━━━━━━━━━━━━━━━━\u001b[0m \u001b[32m236.8/236.8 kB\u001b[0m \u001b[31m26.1 MB/s\u001b[0m eta \u001b[36m0:00:00\u001b[0m\n",
            "\u001b[?25hRequirement already satisfied: packaging in /usr/local/lib/python3.10/dist-packages (from datasets) (23.1)\n",
            "Collecting responses<0.19 (from datasets)\n",
            "  Downloading responses-0.18.0-py3-none-any.whl (38 kB)\n",
            "Requirement already satisfied: pyyaml>=5.1 in /usr/local/lib/python3.10/dist-packages (from datasets) (6.0)\n",
            "Requirement already satisfied: attrs>=17.3.0 in /usr/local/lib/python3.10/dist-packages (from aiohttp->datasets) (23.1.0)\n",
            "Requirement already satisfied: charset-normalizer<4.0,>=2.0 in /usr/local/lib/python3.10/dist-packages (from aiohttp->datasets) (2.0.12)\n",
            "Collecting multidict<7.0,>=4.5 (from aiohttp->datasets)\n",
            "  Downloading multidict-6.0.4-cp310-cp310-manylinux_2_17_x86_64.manylinux2014_x86_64.whl (114 kB)\n",
            "\u001b[2K     \u001b[90m━━━━━━━━━━━━━━━━━━━━━━━━━━━━━━━━━━━━━━\u001b[0m \u001b[32m114.5/114.5 kB\u001b[0m \u001b[31m14.4 MB/s\u001b[0m eta \u001b[36m0:00:00\u001b[0m\n",
            "\u001b[?25hCollecting async-timeout<5.0,>=4.0.0a3 (from aiohttp->datasets)\n",
            "  Downloading async_timeout-4.0.2-py3-none-any.whl (5.8 kB)\n",
            "Collecting yarl<2.0,>=1.0 (from aiohttp->datasets)\n",
            "  Downloading yarl-1.9.2-cp310-cp310-manylinux_2_17_x86_64.manylinux2014_x86_64.whl (268 kB)\n",
            "\u001b[2K     \u001b[90m━━━━━━━━━━━━━━━━━━━━━━━━━━━━━━━━━━━━━━\u001b[0m \u001b[32m268.8/268.8 kB\u001b[0m \u001b[31m19.7 MB/s\u001b[0m eta \u001b[36m0:00:00\u001b[0m\n",
            "\u001b[?25hCollecting frozenlist>=1.1.1 (from aiohttp->datasets)\n",
            "  Downloading frozenlist-1.3.3-cp310-cp310-manylinux_2_5_x86_64.manylinux1_x86_64.manylinux_2_17_x86_64.manylinux2014_x86_64.whl (149 kB)\n",
            "\u001b[2K     \u001b[90m━━━━━━━━━━━━━━━━━━━━━━━━━━━━━━━━━━━━━━\u001b[0m \u001b[32m149.6/149.6 kB\u001b[0m \u001b[31m14.3 MB/s\u001b[0m eta \u001b[36m0:00:00\u001b[0m\n",
            "\u001b[?25hCollecting aiosignal>=1.1.2 (from aiohttp->datasets)\n",
            "  Downloading aiosignal-1.3.1-py3-none-any.whl (7.6 kB)\n",
            "Requirement already satisfied: filelock in /usr/local/lib/python3.10/dist-packages (from huggingface-hub<1.0.0,>=0.11.0->datasets) (3.12.0)\n",
            "Requirement already satisfied: typing-extensions>=3.7.4.3 in /usr/local/lib/python3.10/dist-packages (from huggingface-hub<1.0.0,>=0.11.0->datasets) (4.5.0)\n",
            "Requirement already satisfied: urllib3<1.27,>=1.21.1 in /usr/local/lib/python3.10/dist-packages (from requests>=2.19.0->datasets) (1.26.15)\n",
            "Requirement already satisfied: certifi>=2017.4.17 in /usr/local/lib/python3.10/dist-packages (from requests>=2.19.0->datasets) (2022.12.7)\n",
            "Requirement already satisfied: idna<4,>=2.5 in /usr/local/lib/python3.10/dist-packages (from requests>=2.19.0->datasets) (3.4)\n",
            "Requirement already satisfied: python-dateutil>=2.8.1 in /usr/local/lib/python3.10/dist-packages (from pandas->datasets) (2.8.2)\n",
            "Requirement already satisfied: pytz>=2020.1 in /usr/local/lib/python3.10/dist-packages (from pandas->datasets) (2022.7.1)\n",
            "Requirement already satisfied: six>=1.5 in /usr/local/lib/python3.10/dist-packages (from python-dateutil>=2.8.1->pandas->datasets) (1.16.0)\n",
            "Installing collected packages: xxhash, multidict, frozenlist, dill, async-timeout, yarl, responses, multiprocess, huggingface-hub, aiosignal, aiohttp, datasets\n",
            "Successfully installed aiohttp-3.8.4 aiosignal-1.3.1 async-timeout-4.0.2 datasets-2.12.0 dill-0.3.6 frozenlist-1.3.3 huggingface-hub-0.15.1 multidict-6.0.4 multiprocess-0.70.14 responses-0.18.0 xxhash-3.2.0 yarl-1.9.2\n",
            "Looking in indexes: https://pypi.org/simple, https://us-python.pkg.dev/colab-wheels/public/simple/\n",
            "Collecting apache-beam\n",
            "  Downloading apache_beam-2.48.0-cp310-cp310-manylinux_2_17_x86_64.manylinux2014_x86_64.whl (14.3 MB)\n",
            "\u001b[2K     \u001b[90m━━━━━━━━━━━━━━━━━━━━━━━━━━━━━━━━━━━━━━━━\u001b[0m \u001b[32m14.3/14.3 MB\u001b[0m \u001b[31m59.7 MB/s\u001b[0m eta \u001b[36m0:00:00\u001b[0m\n",
            "\u001b[?25hCollecting crcmod<2.0,>=1.7 (from apache-beam)\n",
            "  Downloading crcmod-1.7.tar.gz (89 kB)\n",
            "\u001b[2K     \u001b[90m━━━━━━━━━━━━━━━━━━━━━━━━━━━━━━━━━━━━━━━━\u001b[0m \u001b[32m89.7/89.7 kB\u001b[0m \u001b[31m12.5 MB/s\u001b[0m eta \u001b[36m0:00:00\u001b[0m\n",
            "\u001b[?25h  Preparing metadata (setup.py) ... \u001b[?25l\u001b[?25hdone\n",
            "Collecting orjson<4.0 (from apache-beam)\n",
            "  Downloading orjson-3.9.1-cp310-cp310-manylinux_2_17_x86_64.manylinux2014_x86_64.whl (136 kB)\n",
            "\u001b[2K     \u001b[90m━━━━━━━━━━━━━━━━━━━━━━━━━━━━━━━━━━━━━━\u001b[0m \u001b[32m137.0/137.0 kB\u001b[0m \u001b[31m19.1 MB/s\u001b[0m eta \u001b[36m0:00:00\u001b[0m\n",
            "\u001b[?25hCollecting dill<0.3.2,>=0.3.1.1 (from apache-beam)\n",
            "  Downloading dill-0.3.1.1.tar.gz (151 kB)\n",
            "\u001b[2K     \u001b[90m━━━━━━━━━━━━━━━━━━━━━━━━━━━━━━━━━━━━━━\u001b[0m \u001b[32m152.0/152.0 kB\u001b[0m \u001b[31m17.5 MB/s\u001b[0m eta \u001b[36m0:00:00\u001b[0m\n",
            "\u001b[?25h  Preparing metadata (setup.py) ... \u001b[?25l\u001b[?25hdone\n",
            "Requirement already satisfied: cloudpickle~=2.2.1 in /usr/local/lib/python3.10/dist-packages (from apache-beam) (2.2.1)\n",
            "Collecting fastavro<2,>=0.23.6 (from apache-beam)\n",
            "  Downloading fastavro-1.7.4-cp310-cp310-manylinux_2_17_x86_64.manylinux2014_x86_64.whl (2.6 MB)\n",
            "\u001b[2K     \u001b[90m━━━━━━━━━━━━━━━━━━━━━━━━━━━━━━━━━━━━━━━━\u001b[0m \u001b[32m2.6/2.6 MB\u001b[0m \u001b[31m102.8 MB/s\u001b[0m eta \u001b[36m0:00:00\u001b[0m\n",
            "\u001b[?25hCollecting fasteners<1.0,>=0.3 (from apache-beam)\n",
            "  Downloading fasteners-0.18-py3-none-any.whl (18 kB)\n",
            "Requirement already satisfied: grpcio!=1.48.0,<2,>=1.33.1 in /usr/local/lib/python3.10/dist-packages (from apache-beam) (1.54.0)\n",
            "Collecting hdfs<3.0.0,>=2.1.0 (from apache-beam)\n",
            "  Downloading hdfs-2.7.0-py3-none-any.whl (34 kB)\n",
            "Requirement already satisfied: httplib2<0.23.0,>=0.8 in /usr/local/lib/python3.10/dist-packages (from apache-beam) (0.21.0)\n",
            "Requirement already satisfied: numpy<1.25.0,>=1.14.3 in /usr/local/lib/python3.10/dist-packages (from apache-beam) (1.22.4)\n",
            "Collecting objsize<0.7.0,>=0.6.1 (from apache-beam)\n",
            "  Downloading objsize-0.6.1-py3-none-any.whl (9.3 kB)\n",
            "Collecting pymongo<5.0.0,>=3.8.0 (from apache-beam)\n",
            "  Downloading pymongo-4.3.3-cp310-cp310-manylinux_2_17_x86_64.manylinux2014_x86_64.whl (492 kB)\n",
            "\u001b[2K     \u001b[90m━━━━━━━━━━━━━━━━━━━━━━━━━━━━━━━━━━━━━━\u001b[0m \u001b[32m492.9/492.9 kB\u001b[0m \u001b[31m46.6 MB/s\u001b[0m eta \u001b[36m0:00:00\u001b[0m\n",
            "\u001b[?25hRequirement already satisfied: proto-plus<2,>=1.7.1 in /usr/local/lib/python3.10/dist-packages (from apache-beam) (1.22.2)\n",
            "Requirement already satisfied: protobuf<4.24.0,>=3.20.3 in /usr/local/lib/python3.10/dist-packages (from apache-beam) (3.20.3)\n",
            "Requirement already satisfied: pydot<2,>=1.2.0 in /usr/local/lib/python3.10/dist-packages (from apache-beam) (1.4.2)\n",
            "Requirement already satisfied: python-dateutil<3,>=2.8.0 in /usr/local/lib/python3.10/dist-packages (from apache-beam) (2.8.2)\n",
            "Requirement already satisfied: pytz>=2018.3 in /usr/local/lib/python3.10/dist-packages (from apache-beam) (2022.7.1)\n",
            "Requirement already satisfied: regex>=2020.6.8 in /usr/local/lib/python3.10/dist-packages (from apache-beam) (2022.10.31)\n",
            "Requirement already satisfied: requests<3.0.0,>=2.24.0 in /usr/local/lib/python3.10/dist-packages (from apache-beam) (2.27.1)\n",
            "Requirement already satisfied: typing-extensions>=3.7.0 in /usr/local/lib/python3.10/dist-packages (from apache-beam) (4.5.0)\n",
            "Collecting zstandard<1,>=0.18.0 (from apache-beam)\n",
            "  Downloading zstandard-0.21.0-cp310-cp310-manylinux_2_17_x86_64.manylinux2014_x86_64.whl (2.7 MB)\n",
            "\u001b[2K     \u001b[90m━━━━━━━━━━━━━━━━━━━━━━━━━━━━━━━━━━━━━━━━\u001b[0m \u001b[32m2.7/2.7 MB\u001b[0m \u001b[31m97.9 MB/s\u001b[0m eta \u001b[36m0:00:00\u001b[0m\n",
            "\u001b[?25hRequirement already satisfied: pyarrow<12.0.0,>=3.0.0 in /usr/local/lib/python3.10/dist-packages (from apache-beam) (9.0.0)\n",
            "Collecting docopt (from hdfs<3.0.0,>=2.1.0->apache-beam)\n",
            "  Downloading docopt-0.6.2.tar.gz (25 kB)\n",
            "  Preparing metadata (setup.py) ... \u001b[?25l\u001b[?25hdone\n",
            "Requirement already satisfied: six>=1.9.0 in /usr/local/lib/python3.10/dist-packages (from hdfs<3.0.0,>=2.1.0->apache-beam) (1.16.0)\n",
            "Requirement already satisfied: pyparsing!=3.0.0,!=3.0.1,!=3.0.2,!=3.0.3,<4,>=2.4.2 in /usr/local/lib/python3.10/dist-packages (from httplib2<0.23.0,>=0.8->apache-beam) (3.0.9)\n",
            "Collecting dnspython<3.0.0,>=1.16.0 (from pymongo<5.0.0,>=3.8.0->apache-beam)\n",
            "  Downloading dnspython-2.3.0-py3-none-any.whl (283 kB)\n",
            "\u001b[2K     \u001b[90m━━━━━━━━━━━━━━━━━━━━━━━━━━━━━━━━━━━━━━\u001b[0m \u001b[32m283.7/283.7 kB\u001b[0m \u001b[31m36.1 MB/s\u001b[0m eta \u001b[36m0:00:00\u001b[0m\n",
            "\u001b[?25hRequirement already satisfied: urllib3<1.27,>=1.21.1 in /usr/local/lib/python3.10/dist-packages (from requests<3.0.0,>=2.24.0->apache-beam) (1.26.15)\n",
            "Requirement already satisfied: certifi>=2017.4.17 in /usr/local/lib/python3.10/dist-packages (from requests<3.0.0,>=2.24.0->apache-beam) (2022.12.7)\n",
            "Requirement already satisfied: charset-normalizer~=2.0.0 in /usr/local/lib/python3.10/dist-packages (from requests<3.0.0,>=2.24.0->apache-beam) (2.0.12)\n",
            "Requirement already satisfied: idna<4,>=2.5 in /usr/local/lib/python3.10/dist-packages (from requests<3.0.0,>=2.24.0->apache-beam) (3.4)\n",
            "Building wheels for collected packages: crcmod, dill, docopt\n",
            "  Building wheel for crcmod (setup.py) ... \u001b[?25l\u001b[?25hdone\n",
            "  Created wheel for crcmod: filename=crcmod-1.7-cp310-cp310-linux_x86_64.whl size=37107 sha256=e82d2e85672df2d089fdaf99bef12b5f93d83611b99e1dc2a9170ad1d869c38e\n",
            "  Stored in directory: /root/.cache/pip/wheels/85/4c/07/72215c529bd59d67e3dac29711d7aba1b692f543c808ba9e86\n",
            "  Building wheel for dill (setup.py) ... \u001b[?25l\u001b[?25hdone\n",
            "  Created wheel for dill: filename=dill-0.3.1.1-py3-none-any.whl size=78545 sha256=65451624352c09b55792bd65262a0d3c23fa53b132582a1959193b03c08e54c7\n",
            "  Stored in directory: /root/.cache/pip/wheels/ea/e2/86/64980d90e297e7bf2ce588c2b96e818f5399c515c4bb8a7e4f\n",
            "  Building wheel for docopt (setup.py) ... \u001b[?25l\u001b[?25hdone\n",
            "  Created wheel for docopt: filename=docopt-0.6.2-py2.py3-none-any.whl size=13707 sha256=7fadc0dee2fe7ca6b9e0eff7d44aa1c44a79e423559a895415a84e7fb8ddd126\n",
            "  Stored in directory: /root/.cache/pip/wheels/fc/ab/d4/5da2067ac95b36618c629a5f93f809425700506f72c9732fac\n",
            "Successfully built crcmod dill docopt\n",
            "Installing collected packages: docopt, crcmod, zstandard, orjson, objsize, fasteners, fastavro, dnspython, dill, pymongo, hdfs, apache-beam\n",
            "  Attempting uninstall: dill\n",
            "    Found existing installation: dill 0.3.6\n",
            "    Uninstalling dill-0.3.6:\n",
            "      Successfully uninstalled dill-0.3.6\n",
            "\u001b[31mERROR: pip's dependency resolver does not currently take into account all the packages that are installed. This behaviour is the source of the following dependency conflicts.\n",
            "multiprocess 0.70.14 requires dill>=0.3.6, but you have dill 0.3.1.1 which is incompatible.\u001b[0m\u001b[31m\n",
            "\u001b[0mSuccessfully installed apache-beam-2.48.0 crcmod-1.7 dill-0.3.1.1 dnspython-2.3.0 docopt-0.6.2 fastavro-1.7.4 fasteners-0.18 hdfs-2.7.0 objsize-0.6.1 orjson-3.9.1 pymongo-4.3.3 zstandard-0.21.0\n"
          ]
        }
      ]
    },
    {
      "cell_type": "code",
      "source": [
        "from random import Random\n",
        "\n",
        "# Instantiate the Random instance with random seed = 42 to ensure reproducibility\n",
        "randomizer = Random(42)"
      ],
      "metadata": {
        "id": "INZIMG8itLHh"
      },
      "execution_count": 2,
      "outputs": []
    },
    {
      "cell_type": "code",
      "execution_count": 3,
      "metadata": {
        "id": "jRVmQCKdRb54"
      },
      "outputs": [],
      "source": [
        "from keras.preprocessing.text import Tokenizer\n",
        "from keras.utils import to_categorical, pad_sequences\n",
        "import numpy as np \n",
        "import pickle\n",
        "import gdown\n",
        "import random"
      ]
    },
    {
      "cell_type": "code",
      "source": [
        "from datasets import load_dataset\n",
        "\n",
        "dataset = load_dataset(\"wikipedia\", \"20220301.simple\")\n",
        "\n",
        "data = dataset['train'][:20000]['text']"
      ],
      "metadata": {
        "id": "AoeyVDv9uDwx",
        "colab": {
          "base_uri": "https://localhost:8080/",
          "height": 264,
          "referenced_widgets": [
            "ffa2b0418f25464fa2ad635a0e28066d",
            "da6029c1de654f1da64699143b72042d",
            "69f27e30496148af8efdebf2cbaf4ae4",
            "d98daa80e7a040f4b714a407e1cc0f27",
            "aaf6b674af73454c912a448e88174d44",
            "44290a4f58304331a275dd02e83e0b87",
            "ee5c26279e274dd098306b0b7c59b871",
            "6f266f6b76034834843ca12a76f80edf",
            "b87174c3bb9e452c87522e85562def2f",
            "9b337a29c9e64c4e92ec0c2c6c659105",
            "0f5eb44c99534a5cb3713ad8bf338fb2",
            "47c735753b984ad3bf4319d620736ba7",
            "f9faae0c7fed4befaa344c59c6f67781",
            "58b80686cc6742b09fc362d6520391ca",
            "069993eb1c0d4a939a7aa2eb3b9a868e",
            "3c14fbc7c05d4e539d06d422377ec4fe",
            "6505e29a77404100a3dae8a761796c7b",
            "2b44d107e57a4cd28be5aa36418443c2",
            "45071461b87348c59aafe171e214847d",
            "0093ac2e08e14cd5b1da0ce40f690f3d",
            "041aa2c19b834f8a96bfad09d53b8a37",
            "2da3607390304b90aa033cfa3c945e42",
            "60fb515714b043baa64183374d5dbca2",
            "d50ad85cbf0e4dcea99152857c207a97",
            "afbdb7b13bd24ce89ba0bdc095a83078",
            "0577a974032a4698862f86d0ca333417",
            "6e5f178921474f008cea96f990396c60",
            "15e12c2e4f144d1e89bc063906f81a31",
            "e5749db7265e4fab949b21f29be0230c",
            "4ac948c347864f5b9331564069eb23e7",
            "61d9163d5b0d4e1f92867085d5d9649d",
            "d6dbe378493c41f5ac817cb249d8b427",
            "afdfef4af67245a4b9161cbdcc535b51",
            "e5c61473a4a946caae49404b6b55e645",
            "1fe94464489f42e8953e9caede414bbe",
            "5cb19e5a952d460581c9d7fd5d96a63e",
            "09bcb7aca2da4495828144e048bad93c",
            "abf3b5c357014a258d23a1a71d1d402c",
            "77b85b7ed6e5416685d6610a93cc525e",
            "aa513848b7db4fa89ee046e9e7b4a882",
            "e3f58a97707a458f8b96e15dc399ba34",
            "2b274f82531d4b55b624bbb8065237fa",
            "0ab0aed1014a41ba88c3c84c587199c4",
            "3e7177891ddf4ee3a15217edbf0aacd5",
            "61e1263155354c848d40671f1980418e",
            "4069be40c9ea420aa9973c1a83f29f7a",
            "87dcded6cd71427aa4f10c3d221f324d",
            "a9401fd55665482c9e2a7fdba5a98d13",
            "25d7004e31f844768ce750d0e6aeeef4",
            "560beac9eceb4d3b93e519bf3cd519ca",
            "9d9010c2210b4271bf830e1bf4a3bbf5",
            "f7dd8583a76546f191234196f01f013f",
            "06846fa1b6e5430497b06a0f5ffddbd1",
            "12856d1ec08e46108b3f6502a11cc981",
            "1cf95ad02cab49bdaceeffa44e6e198f",
            "18e958c7ef24467fb032129f3ba41d0b",
            "25dd176817a44040b99f376b8645cae6",
            "f709e269b649469297f5c9ac35e4688b",
            "ba03128fde4d41e0b5794d068ac8beb4",
            "abfd0fc65ae44bec901441c028137920",
            "cf77ced8ff1945fdbdd01e4cea4d5d90",
            "ca6152a95fe6409e98a6c7096b381bc4",
            "b080a37e86354777a2ffedd6d1df290d",
            "93a9b111d132472ea008668bb44607b1",
            "2349e451f9e94dfcb3a7bd44b9c2731d",
            "2c96fd6f1e224f48aa6e7fb19c2556f7"
          ]
        },
        "outputId": "2415e2b6-dbd8-4b20-a7c4-00a22029e4c6"
      },
      "execution_count": 4,
      "outputs": [
        {
          "output_type": "display_data",
          "data": {
            "text/plain": [
              "Downloading builder script:   0%|          | 0.00/35.9k [00:00<?, ?B/s]"
            ],
            "application/vnd.jupyter.widget-view+json": {
              "version_major": 2,
              "version_minor": 0,
              "model_id": "ffa2b0418f25464fa2ad635a0e28066d"
            }
          },
          "metadata": {}
        },
        {
          "output_type": "display_data",
          "data": {
            "text/plain": [
              "Downloading metadata:   0%|          | 0.00/30.4k [00:00<?, ?B/s]"
            ],
            "application/vnd.jupyter.widget-view+json": {
              "version_major": 2,
              "version_minor": 0,
              "model_id": "47c735753b984ad3bf4319d620736ba7"
            }
          },
          "metadata": {}
        },
        {
          "output_type": "display_data",
          "data": {
            "text/plain": [
              "Downloading readme:   0%|          | 0.00/16.3k [00:00<?, ?B/s]"
            ],
            "application/vnd.jupyter.widget-view+json": {
              "version_major": 2,
              "version_minor": 0,
              "model_id": "60fb515714b043baa64183374d5dbca2"
            }
          },
          "metadata": {}
        },
        {
          "output_type": "stream",
          "name": "stdout",
          "text": [
            "Downloading and preparing dataset wikipedia/20220301.simple to /root/.cache/huggingface/datasets/wikipedia/20220301.simple/2.0.0/aa542ed919df55cc5d3347f42dd4521d05ca68751f50dbc32bae2a7f1e167559...\n"
          ]
        },
        {
          "output_type": "display_data",
          "data": {
            "text/plain": [
              "Downloading:   0%|          | 0.00/1.66k [00:00<?, ?B/s]"
            ],
            "application/vnd.jupyter.widget-view+json": {
              "version_major": 2,
              "version_minor": 0,
              "model_id": "e5c61473a4a946caae49404b6b55e645"
            }
          },
          "metadata": {}
        },
        {
          "output_type": "display_data",
          "data": {
            "text/plain": [
              "Downloading:   0%|          | 0.00/235M [00:00<?, ?B/s]"
            ],
            "application/vnd.jupyter.widget-view+json": {
              "version_major": 2,
              "version_minor": 0,
              "model_id": "61e1263155354c848d40671f1980418e"
            }
          },
          "metadata": {}
        },
        {
          "output_type": "stream",
          "name": "stdout",
          "text": [
            "Dataset wikipedia downloaded and prepared to /root/.cache/huggingface/datasets/wikipedia/20220301.simple/2.0.0/aa542ed919df55cc5d3347f42dd4521d05ca68751f50dbc32bae2a7f1e167559. Subsequent calls will reuse this data.\n"
          ]
        },
        {
          "output_type": "display_data",
          "data": {
            "text/plain": [
              "  0%|          | 0/1 [00:00<?, ?it/s]"
            ],
            "application/vnd.jupyter.widget-view+json": {
              "version_major": 2,
              "version_minor": 0,
              "model_id": "18e958c7ef24467fb032129f3ba41d0b"
            }
          },
          "metadata": {}
        }
      ]
    },
    {
      "cell_type": "code",
      "source": [
        "#run this cell only the first time to create and save the tokenizer and the date\n",
        "dump = True\n",
        "\n",
        "tokenizer = Tokenizer(split=' ', filters='!\"#$%&()*+,-./:;=?@[\\\\]^_`{|}~\\t\\n', num_words=10000, oov_token='<unk>')\n",
        "\n",
        "corpus = []\n",
        "\n",
        "# Split of each piece of text into sentences\n",
        "for elem in data:\n",
        "  corpus += elem.lower().replace(\"\\n\", \"\").split(\".\")[:]\n",
        "\n",
        "print(\"corpus dim: \",len(corpus))\n",
        "\n",
        "#add a start and an end token\n",
        "corpus = ['<start> '+s+' <end>' for s in corpus]\n",
        "\n",
        "# Tokenization\t\n",
        "tokenizer.fit_on_texts(corpus)\n",
        "\n",
        "if dump:\n",
        "    with open('tokenizer.pickle', 'wb') as handle:\n",
        "        pickle.dump(tokenizer, handle, protocol=pickle.HIGHEST_PROTOCOL)\n",
        "\n",
        "original_data = [sen for sen in tokenizer.texts_to_sequences(corpus) if (len(sen) <= 32 and len(sen)>4 and not(1 in sen))]\n",
        "\n",
        "if dump:\n",
        "    with open('original.pickle', 'wb') as handle:\n",
        "        pickle.dump(original_data, handle, protocol=pickle.HIGHEST_PROTOCOL)\n",
        "\n",
        "print (\"filtered sentences: \",len(original_data))\n",
        "\n",
        "sos = tokenizer.word_index['<start>']\n",
        "eos = tokenizer.word_index['<end>']\n",
        "\n",
        "tokenizer.word_index['<pad>'] = 0\n",
        "tokenizer.index_word[0] = '<pad>'"
      ],
      "metadata": {
        "colab": {
          "base_uri": "https://localhost:8080/"
        },
        "id": "OzcYlWm8trh9",
        "outputId": "863d6b34-40c1-416e-854d-9763931a0546"
      },
      "execution_count": 5,
      "outputs": [
        {
          "output_type": "stream",
          "name": "stdout",
          "text": [
            "corpus dim:  510023\n",
            "filtered sentences:  137301\n"
          ]
        }
      ]
    },
    {
      "cell_type": "markdown",
      "source": [
        "We now create two additional datasets. \n",
        "* shuffled_data contains scrumbled sequences, and will be the input to the model. \n",
        "* target_data is the same as original data but offset by one timestep.\n",
        "It is only useful if you plan to do some language modeling with a teacher forcing technique. You might decide to ignore it.\n"
      ],
      "metadata": {
        "id": "K1woGS7a4Ez4"
      }
    },
    {
      "cell_type": "code",
      "source": [
        "shuffled_data = [random.sample(s[1:-1],len(s)-2) for s in original_data]\n",
        "shuffled_data = [[sos]+s+[eos] for s in shuffled_data]\n",
        "target_data = [s[1:] for s in original_data]"
      ],
      "metadata": {
        "id": "rs4cerfa4D15"
      },
      "execution_count": 6,
      "outputs": []
    },
    {
      "cell_type": "markdown",
      "source": [
        "Let us look at some examples:"
      ],
      "metadata": {
        "id": "mGNwATns6hQ0"
      }
    },
    {
      "cell_type": "code",
      "source": [
        "i = np.random.randint(len(original_data))\n",
        "print(\"original sentence: \",original_data[i])\n",
        "print(\"shuffled sentecen: \",shuffled_data[i])"
      ],
      "metadata": {
        "id": "ChbvR6ue6lpj",
        "colab": {
          "base_uri": "https://localhost:8080/"
        },
        "outputId": "4f6b8451-202d-4536-cbf3-597689acf925"
      },
      "execution_count": null,
      "outputs": [
        {
          "output_type": "stream",
          "name": "stdout",
          "text": [
            "original sentence:  [2, 4, 1954, 256, 10, 8, 256, 7, 4, 52, 68, 3]\n",
            "shuffled sentecen:  [2, 8, 256, 10, 1954, 4, 256, 4, 7, 68, 52, 3]\n"
          ]
        }
      ]
    },
    {
      "cell_type": "markdown",
      "source": [
        "Let us look at detokenized data:"
      ],
      "metadata": {
        "id": "er0FoTdc8sLq"
      }
    },
    {
      "cell_type": "code",
      "source": [
        "i = np.random.randint(len(original_data))\n",
        "print(\"original sentence: \",tokenizer.sequences_to_texts([original_data[i]])[0])\n",
        "print(\"shuffled sentence: \",tokenizer.sequences_to_texts([shuffled_data[i]])[0])"
      ],
      "metadata": {
        "id": "OMKM9B1w8yWX",
        "colab": {
          "base_uri": "https://localhost:8080/"
        },
        "outputId": "c5f56ab3-7448-406f-c31c-1c12e742f703"
      },
      "execution_count": null,
      "outputs": [
        {
          "output_type": "stream",
          "name": "stdout",
          "text": [
            "original sentence:  <start> the illinois river is a river in the united states <end>\n",
            "shuffled sentence:  <start> a river is illinois the river the in states united <end>\n"
          ]
        }
      ]
    },
    {
      "cell_type": "markdown",
      "source": [
        "You goal is to reconstruct the original sentence out of the shuffled one."
      ],
      "metadata": {
        "id": "Kja87gEg9Rje"
      }
    },
    {
      "cell_type": "markdown",
      "source": [
        "# Additional material"
      ],
      "metadata": {
        "id": "s6pe2f8h9gmG"
      }
    },
    {
      "cell_type": "markdown",
      "source": [
        "Here we provide a few additional functions that could be useful to you."
      ],
      "metadata": {
        "id": "EA6su74d9o7v"
      }
    },
    {
      "cell_type": "markdown",
      "source": [
        "As usual, you are supposed to divide your data in training and test set. Reserve at least 30% of data for testing.\n",
        "\n",
        "You are likely to need a validation set too."
      ],
      "metadata": {
        "id": "MhD75oyt-AO8"
      }
    },
    {
      "cell_type": "code",
      "source": [
        "from sklearn.model_selection import train_test_split\n",
        "\n",
        "x_train, x_test, c_train, c_test, y_train, y_test = train_test_split(original_data, shuffled_data, target_data, test_size = 0.3, random_state = 42)\n"
      ],
      "metadata": {
        "id": "dIDuV_Sj9oZo"
      },
      "execution_count": 7,
      "outputs": []
    },
    {
      "cell_type": "markdown",
      "source": [
        "Depending from the model you plan to build, you might require padding the input sequence"
      ],
      "metadata": {
        "id": "eOjaBx8d-lEw"
      }
    },
    {
      "cell_type": "code",
      "source": [
        "max_sequence_len = max([len(x) for x in original_data])\n",
        "print(\"max_sequence_len: \", max_sequence_len)\n",
        "\n",
        "x_train = pad_sequences(x_train, maxlen=max_sequence_len, padding='post')\n",
        "x_test = pad_sequences(x_test, maxlen=max_sequence_len, padding='post')\n",
        "c_train = pad_sequences(c_train, maxlen=max_sequence_len, padding='post')\n",
        "c_test = pad_sequences(c_test, maxlen=max_sequence_len, padding='post')\n",
        "y_train = pad_sequences(y_train, maxlen=max_sequence_len, padding='post')\n",
        "y_test = pad_sequences(y_test, maxlen=max_sequence_len, padding='post')"
      ],
      "metadata": {
        "id": "cbZ1tSFN-kWj",
        "outputId": "5b730c1d-8a4c-4f9a-84e0-ff944c11d940",
        "colab": {
          "base_uri": "https://localhost:8080/"
        }
      },
      "execution_count": 8,
      "outputs": [
        {
          "output_type": "stream",
          "name": "stdout",
          "text": [
            "max_sequence_len:  32\n"
          ]
        }
      ]
    },
    {
      "cell_type": "code",
      "source": [
        "print(\"x_train size:\", len(x_train))\n",
        "assert(len(x_train)==len(c_train)==len(y_train))"
      ],
      "metadata": {
        "id": "2PVzEwm8-8Yj",
        "colab": {
          "base_uri": "https://localhost:8080/"
        },
        "outputId": "eccdac12-598f-424d-da86-ed33af4b685e"
      },
      "execution_count": null,
      "outputs": [
        {
          "output_type": "stream",
          "name": "stdout",
          "text": [
            "x_train size: 96110\n"
          ]
        }
      ]
    },
    {
      "cell_type": "markdown",
      "source": [
        "Let us finally have a look at the distribution of data w.r.t. their lenght."
      ],
      "metadata": {
        "id": "4jrATEiF_mMo"
      }
    },
    {
      "cell_type": "code",
      "source": [
        "import matplotlib.pyplot as plt\n",
        "plt.hist([len(x)-2 for x in original_data],27)"
      ],
      "metadata": {
        "id": "KmzOMET9_jxp",
        "colab": {
          "base_uri": "https://localhost:8080/",
          "height": 569
        },
        "outputId": "218b5b65-b6d2-4877-fcdc-d658176d3f6e"
      },
      "execution_count": null,
      "outputs": [
        {
          "output_type": "execute_result",
          "data": {
            "text/plain": [
              "(array([ 3897.,  5516.,  6180.,  7633., 10474., 11260., 11167., 10501.,\n",
              "         9768.,  8942.,  7828.,  7010.,  6126.,  5236.,  4551.,  3922.,\n",
              "         3260.,  2695.,  2306.,  1922.,  1611.,  1299.,  1126.,   827.,\n",
              "          773.,   586.,   885.]),\n",
              " array([ 3.,  4.,  5.,  6.,  7.,  8.,  9., 10., 11., 12., 13., 14., 15.,\n",
              "        16., 17., 18., 19., 20., 21., 22., 23., 24., 25., 26., 27., 28.,\n",
              "        29., 30.]),\n",
              " <BarContainer object of 27 artists>)"
            ]
          },
          "metadata": {},
          "execution_count": 10
        },
        {
          "output_type": "display_data",
          "data": {
            "text/plain": [
              "<Figure size 640x480 with 1 Axes>"
            ],
            "image/png": "[encoded data removed]"
          },
          "metadata": {}
        }
      ]
    },
    {
      "cell_type": "markdown",
      "source": [
        "# Metrics"
      ],
      "metadata": {
        "id": "Fo8MazCGBTv3"
      }
    },
    {
      "cell_type": "markdown",
      "source": [
        "Let s be the source string and p your prediction. The quality of the results will be measured according to the following metric:\n",
        "\n",
        "1.  look for the longest substring w between s and p\n",
        "2.  compute |w|/|s|\n",
        "\n",
        "If the match is exact, the score is 1. \n",
        "\n",
        "When computing the score, you should NON consider the start and end tokens.\n",
        "\n"
      ],
      "metadata": {
        "id": "G0NOkuO0CfPo"
      }
    },
    {
      "cell_type": "markdown",
      "source": [
        "The longest common substring can be computed with the SequenceMatcher function of difflib, that allows a simple definition of our metric."
      ],
      "metadata": {
        "id": "a-aUrdlXDdVf"
      }
    },
    {
      "cell_type": "code",
      "source": [
        "from difflib import SequenceMatcher\n",
        "\n",
        "def score(s,p):\n",
        "  match = SequenceMatcher(None, s, p).find_longest_match()\n",
        "  #print(match.size)\n",
        "  return (match.size/max(len(p), len(s)))"
      ],
      "metadata": {
        "id": "ulpTRdrF_huh"
      },
      "execution_count": 9,
      "outputs": []
    },
    {
      "cell_type": "markdown",
      "source": [
        "Let's do an example."
      ],
      "metadata": {
        "id": "RB2YfjXNExM-"
      }
    },
    {
      "cell_type": "code",
      "source": [
        "original = \"at first henry wanted to be friends with the king of france\"\n",
        "generated = \"henry wanted to be friends with king of france at the first\"\n",
        "\n",
        "print(\"your score is \",score(original,generated))"
      ],
      "metadata": {
        "id": "h17C8bVjEwur",
        "colab": {
          "base_uri": "https://localhost:8080/"
        },
        "outputId": "f7b73cd0-faf0-49e2-93c9-00bd991f39a4"
      },
      "execution_count": null,
      "outputs": [
        {
          "output_type": "stream",
          "name": "stdout",
          "text": [
            "your score is  0.5423728813559322\n"
          ]
        }
      ]
    },
    {
      "cell_type": "markdown",
      "source": [
        "The score must be computed as an average of at least 10K random examples taken form the test set."
      ],
      "metadata": {
        "id": "BET8GqBvFugR"
      }
    },
    {
      "cell_type": "markdown",
      "source": [
        "# What to deliver"
      ],
      "metadata": {
        "id": "4fwo7xj4GBW1"
      }
    },
    {
      "cell_type": "markdown",
      "source": [
        "You are supposed to deliver a single notebook, suitably commented. \n",
        "The notebook should describe a single model, although you may briefly discuss additional attempts you did.\n",
        "\n",
        "The notebook should contain a full trace of the training. \n",
        "Weights should be made available on request.\n",
        "\n",
        "You must also give a clear assesment of the performance of the model, computed with the metric that has been given to you.\n",
        "\n",
        "# Good work!"
      ],
      "metadata": {
        "id": "i6uITuxOGHfJ"
      }
    },
    {
      "cell_type": "markdown",
      "source": [
        "## Libraries\n",
        "Installing keras_nlp and importing useful classes and functions"
      ],
      "metadata": {
        "id": "EY5xPn4ChhGN"
      }
    },
    {
      "cell_type": "code",
      "source": [
        "!pip install keras-nlp --upgrade"
      ],
      "metadata": {
        "colab": {
          "base_uri": "https://localhost:8080/"
        },
        "id": "o5cIFGbi1zY9",
        "outputId": "fb9a9bb4-aaec-4803-dec6-2ed33c994c19"
      },
      "execution_count": 10,
      "outputs": [
        {
          "output_type": "stream",
          "name": "stdout",
          "text": [
            "Looking in indexes: https://pypi.org/simple, https://us-python.pkg.dev/colab-wheels/public/simple/\n",
            "Collecting keras-nlp\n",
            "  Downloading keras_nlp-0.5.2-py3-none-any.whl (527 kB)\n",
            "\u001b[2K     \u001b[90m━━━━━━━━━━━━━━━━━━━━━━━━━━━━━━━━━━━━━━\u001b[0m \u001b[32m527.7/527.7 kB\u001b[0m \u001b[31m27.9 MB/s\u001b[0m eta \u001b[36m0:00:00\u001b[0m\n",
            "\u001b[?25hRequirement already satisfied: absl-py in /usr/local/lib/python3.10/dist-packages (from keras-nlp) (1.4.0)\n",
            "Requirement already satisfied: numpy in /usr/local/lib/python3.10/dist-packages (from keras-nlp) (1.22.4)\n",
            "Requirement already satisfied: packaging in /usr/local/lib/python3.10/dist-packages (from keras-nlp) (23.1)\n",
            "Collecting tensorflow-text (from keras-nlp)\n",
            "  Downloading tensorflow_text-2.12.1-cp310-cp310-manylinux_2_17_x86_64.manylinux2014_x86_64.whl (6.0 MB)\n",
            "\u001b[2K     \u001b[90m━━━━━━━━━━━━━━━━━━━━━━━━━━━━━━━━━━━━━━━━\u001b[0m \u001b[32m6.0/6.0 MB\u001b[0m \u001b[31m95.1 MB/s\u001b[0m eta \u001b[36m0:00:00\u001b[0m\n",
            "\u001b[?25hRequirement already satisfied: tensorflow-hub>=0.8.0 in /usr/local/lib/python3.10/dist-packages (from tensorflow-text->keras-nlp) (0.13.0)\n",
            "Requirement already satisfied: tensorflow<2.13,>=2.12.0 in /usr/local/lib/python3.10/dist-packages (from tensorflow-text->keras-nlp) (2.12.0)\n",
            "Requirement already satisfied: astunparse>=1.6.0 in /usr/local/lib/python3.10/dist-packages (from tensorflow<2.13,>=2.12.0->tensorflow-text->keras-nlp) (1.6.3)\n",
            "Requirement already satisfied: flatbuffers>=2.0 in /usr/local/lib/python3.10/dist-packages (from tensorflow<2.13,>=2.12.0->tensorflow-text->keras-nlp) (23.3.3)\n",
            "Requirement already satisfied: gast<=0.4.0,>=0.2.1 in /usr/local/lib/python3.10/dist-packages (from tensorflow<2.13,>=2.12.0->tensorflow-text->keras-nlp) (0.4.0)\n",
            "Requirement already satisfied: google-pasta>=0.1.1 in /usr/local/lib/python3.10/dist-packages (from tensorflow<2.13,>=2.12.0->tensorflow-text->keras-nlp) (0.2.0)\n",
            "Requirement already satisfied: grpcio<2.0,>=1.24.3 in /usr/local/lib/python3.10/dist-packages (from tensorflow<2.13,>=2.12.0->tensorflow-text->keras-nlp) (1.54.0)\n",
            "Requirement already satisfied: h5py>=2.9.0 in /usr/local/lib/python3.10/dist-packages (from tensorflow<2.13,>=2.12.0->tensorflow-text->keras-nlp) (3.8.0)\n",
            "Requirement already satisfied: jax>=0.3.15 in /usr/local/lib/python3.10/dist-packages (from tensorflow<2.13,>=2.12.0->tensorflow-text->keras-nlp) (0.4.10)\n",
            "Requirement already satisfied: keras<2.13,>=2.12.0 in /usr/local/lib/python3.10/dist-packages (from tensorflow<2.13,>=2.12.0->tensorflow-text->keras-nlp) (2.12.0)\n",
            "Requirement already satisfied: libclang>=13.0.0 in /usr/local/lib/python3.10/dist-packages (from tensorflow<2.13,>=2.12.0->tensorflow-text->keras-nlp) (16.0.0)\n",
            "Requirement already satisfied: opt-einsum>=2.3.2 in /usr/local/lib/python3.10/dist-packages (from tensorflow<2.13,>=2.12.0->tensorflow-text->keras-nlp) (3.3.0)\n",
            "Requirement already satisfied: protobuf!=4.21.0,!=4.21.1,!=4.21.2,!=4.21.3,!=4.21.4,!=4.21.5,<5.0.0dev,>=3.20.3 in /usr/local/lib/python3.10/dist-packages (from tensorflow<2.13,>=2.12.0->tensorflow-text->keras-nlp) (3.20.3)\n",
            "Requirement already satisfied: setuptools in /usr/local/lib/python3.10/dist-packages (from tensorflow<2.13,>=2.12.0->tensorflow-text->keras-nlp) (67.7.2)\n",
            "Requirement already satisfied: six>=1.12.0 in /usr/local/lib/python3.10/dist-packages (from tensorflow<2.13,>=2.12.0->tensorflow-text->keras-nlp) (1.16.0)\n",
            "Requirement already satisfied: tensorboard<2.13,>=2.12 in /usr/local/lib/python3.10/dist-packages (from tensorflow<2.13,>=2.12.0->tensorflow-text->keras-nlp) (2.12.2)\n",
            "Requirement already satisfied: tensorflow-estimator<2.13,>=2.12.0 in /usr/local/lib/python3.10/dist-packages (from tensorflow<2.13,>=2.12.0->tensorflow-text->keras-nlp) (2.12.0)\n",
            "Requirement already satisfied: termcolor>=1.1.0 in /usr/local/lib/python3.10/dist-packages (from tensorflow<2.13,>=2.12.0->tensorflow-text->keras-nlp) (2.3.0)\n",
            "Requirement already satisfied: typing-extensions>=3.6.6 in /usr/local/lib/python3.10/dist-packages (from tensorflow<2.13,>=2.12.0->tensorflow-text->keras-nlp) (4.5.0)\n",
            "Requirement already satisfied: wrapt<1.15,>=1.11.0 in /usr/local/lib/python3.10/dist-packages (from tensorflow<2.13,>=2.12.0->tensorflow-text->keras-nlp) (1.14.1)\n",
            "Requirement already satisfied: tensorflow-io-gcs-filesystem>=0.23.1 in /usr/local/lib/python3.10/dist-packages (from tensorflow<2.13,>=2.12.0->tensorflow-text->keras-nlp) (0.32.0)\n",
            "Requirement already satisfied: wheel<1.0,>=0.23.0 in /usr/local/lib/python3.10/dist-packages (from astunparse>=1.6.0->tensorflow<2.13,>=2.12.0->tensorflow-text->keras-nlp) (0.40.0)\n",
            "Requirement already satisfied: ml-dtypes>=0.1.0 in /usr/local/lib/python3.10/dist-packages (from jax>=0.3.15->tensorflow<2.13,>=2.12.0->tensorflow-text->keras-nlp) (0.1.0)\n",
            "Requirement already satisfied: scipy>=1.7 in /usr/local/lib/python3.10/dist-packages (from jax>=0.3.15->tensorflow<2.13,>=2.12.0->tensorflow-text->keras-nlp) (1.10.1)\n",
            "Requirement already satisfied: google-auth<3,>=1.6.3 in /usr/local/lib/python3.10/dist-packages (from tensorboard<2.13,>=2.12->tensorflow<2.13,>=2.12.0->tensorflow-text->keras-nlp) (2.17.3)\n",
            "Requirement already satisfied: google-auth-oauthlib<1.1,>=0.5 in /usr/local/lib/python3.10/dist-packages (from tensorboard<2.13,>=2.12->tensorflow<2.13,>=2.12.0->tensorflow-text->keras-nlp) (1.0.0)\n",
            "Requirement already satisfied: markdown>=2.6.8 in /usr/local/lib/python3.10/dist-packages (from tensorboard<2.13,>=2.12->tensorflow<2.13,>=2.12.0->tensorflow-text->keras-nlp) (3.4.3)\n",
            "Requirement already satisfied: requests<3,>=2.21.0 in /usr/local/lib/python3.10/dist-packages (from tensorboard<2.13,>=2.12->tensorflow<2.13,>=2.12.0->tensorflow-text->keras-nlp) (2.27.1)\n",
            "Requirement already satisfied: tensorboard-data-server<0.8.0,>=0.7.0 in /usr/local/lib/python3.10/dist-packages (from tensorboard<2.13,>=2.12->tensorflow<2.13,>=2.12.0->tensorflow-text->keras-nlp) (0.7.0)\n",
            "Requirement already satisfied: tensorboard-plugin-wit>=1.6.0 in /usr/local/lib/python3.10/dist-packages (from tensorboard<2.13,>=2.12->tensorflow<2.13,>=2.12.0->tensorflow-text->keras-nlp) (1.8.1)\n",
            "Requirement already satisfied: werkzeug>=1.0.1 in /usr/local/lib/python3.10/dist-packages (from tensorboard<2.13,>=2.12->tensorflow<2.13,>=2.12.0->tensorflow-text->keras-nlp) (2.3.0)\n",
            "Requirement already satisfied: cachetools<6.0,>=2.0.0 in /usr/local/lib/python3.10/dist-packages (from google-auth<3,>=1.6.3->tensorboard<2.13,>=2.12->tensorflow<2.13,>=2.12.0->tensorflow-text->keras-nlp) (5.3.0)\n",
            "Requirement already satisfied: pyasn1-modules>=0.2.1 in /usr/local/lib/python3.10/dist-packages (from google-auth<3,>=1.6.3->tensorboard<2.13,>=2.12->tensorflow<2.13,>=2.12.0->tensorflow-text->keras-nlp) (0.3.0)\n",
            "Requirement already satisfied: rsa<5,>=3.1.4 in /usr/local/lib/python3.10/dist-packages (from google-auth<3,>=1.6.3->tensorboard<2.13,>=2.12->tensorflow<2.13,>=2.12.0->tensorflow-text->keras-nlp) (4.9)\n",
            "Requirement already satisfied: requests-oauthlib>=0.7.0 in /usr/local/lib/python3.10/dist-packages (from google-auth-oauthlib<1.1,>=0.5->tensorboard<2.13,>=2.12->tensorflow<2.13,>=2.12.0->tensorflow-text->keras-nlp) (1.3.1)\n",
            "Requirement already satisfied: urllib3<1.27,>=1.21.1 in /usr/local/lib/python3.10/dist-packages (from requests<3,>=2.21.0->tensorboard<2.13,>=2.12->tensorflow<2.13,>=2.12.0->tensorflow-text->keras-nlp) (1.26.15)\n",
            "Requirement already satisfied: certifi>=2017.4.17 in /usr/local/lib/python3.10/dist-packages (from requests<3,>=2.21.0->tensorboard<2.13,>=2.12->tensorflow<2.13,>=2.12.0->tensorflow-text->keras-nlp) (2022.12.7)\n",
            "Requirement already satisfied: charset-normalizer~=2.0.0 in /usr/local/lib/python3.10/dist-packages (from requests<3,>=2.21.0->tensorboard<2.13,>=2.12->tensorflow<2.13,>=2.12.0->tensorflow-text->keras-nlp) (2.0.12)\n",
            "Requirement already satisfied: idna<4,>=2.5 in /usr/local/lib/python3.10/dist-packages (from requests<3,>=2.21.0->tensorboard<2.13,>=2.12->tensorflow<2.13,>=2.12.0->tensorflow-text->keras-nlp) (3.4)\n",
            "Requirement already satisfied: MarkupSafe>=2.1.1 in /usr/local/lib/python3.10/dist-packages (from werkzeug>=1.0.1->tensorboard<2.13,>=2.12->tensorflow<2.13,>=2.12.0->tensorflow-text->keras-nlp) (2.1.2)\n",
            "Requirement already satisfied: pyasn1<0.6.0,>=0.4.6 in /usr/local/lib/python3.10/dist-packages (from pyasn1-modules>=0.2.1->google-auth<3,>=1.6.3->tensorboard<2.13,>=2.12->tensorflow<2.13,>=2.12.0->tensorflow-text->keras-nlp) (0.5.0)\n",
            "Requirement already satisfied: oauthlib>=3.0.0 in /usr/local/lib/python3.10/dist-packages (from requests-oauthlib>=0.7.0->google-auth-oauthlib<1.1,>=0.5->tensorboard<2.13,>=2.12->tensorflow<2.13,>=2.12.0->tensorflow-text->keras-nlp) (3.2.2)\n",
            "Installing collected packages: tensorflow-text, keras-nlp\n",
            "Successfully installed keras-nlp-0.5.2 tensorflow-text-2.12.1\n"
          ]
        }
      ]
    },
    {
      "cell_type": "code",
      "source": [
        "# importing the layers that will be used throughout the model\n",
        "from keras_nlp.layers import TransformerEncoder, TransformerDecoder,\\\n",
        "                              SinePositionEncoding\n",
        "\n",
        "# importing tensorflow, the layers used, the model class,\n",
        "# the loss function, the optimizer and the callback functions\n",
        "import tensorflow as tf\n",
        "from tensorflow.keras.layers import  Add, Concatenate, Dense, Embedding, Input\n",
        "from tensorflow.keras.models import Model\n",
        "from tensorflow.keras.losses import CategoricalCrossentropy\n",
        "from tensorflow.keras.optimizers import Adam\n",
        "from tensorflow.keras.callbacks import EarlyStopping, ModelCheckpoint\n",
        "\n",
        "from sklearn.preprocessing import LabelEncoder\n",
        "from keras.utils import plot_model"
      ],
      "metadata": {
        "id": "iA6ZwVxr1q-_"
      },
      "execution_count": 11,
      "outputs": []
    },
    {
      "cell_type": "markdown",
      "source": [
        "## Data processing\n",
        "Below I describe how I processed the data.\n",
        "\n",
        "If a word is [100, 58, 0, 2, 8, 85, 7, 0, 9, 0], I want to obtain [7, 5, 0, 1, 3, 6, 2, 0, 4, 0]. This array of 10 words is \"normalized\" in such a way that the smallest number is 0 and the next smallest number is represented by a 1 (such that in the array there are all consecutive integers): in the example above, in the second array, we have all integers between 0 and 7. In the example above it is possible to see that the 0s in the first array are represented by 0s in the second array (because zero is the smallest number), instead 100 is represented by a 7 (notice that this a toy example and in our dataset the zeros are always at the end because it represents the padding).\n",
        "\n",
        "To do it I will use the ```LabelEncoder``` of the scikit learn library. This operation is computed on x_train, x_test, y_train, y_test, c_train and c_test. When passing an array to the ```fit``` method of this class, I add always a zero such that the padding is always represented by a zero also in the \"normalized\" version.\n",
        "\n",
        "Then I want to obtain a one hot encoded version of the arrays y_train and y_test.\n",
        "To do it I will use the ```to_categorical``` function of keras. To this function I set the parameter ```num_classes=33``` such that I will obtain an array of 33 numbers for each word. I choose 33 because each word in the dataset could be composed of at most 32 different tokens (in which there are always the starting and the ending token), but I want to include in any case the token that represents the padding (that could not be present if a sentence is 30 words long).\n",
        "\n",
        "I perform this operation because the model will produce in output a 32x33 matrix and in this way the comparison is easier; moreover we could use the ```CategoricalCrossentropy``` as loss function (more details on it below).\n",
        "\n",
        "Another reason for which I decided to do it, is to reduce the \"standard deviation\" of the output: in this way the words produced by the network could assume 33 different values, that is the maximum number of different tokens that could make each sentence (plus the padding). I do it because the goal is to reconstruct a shuffled sentence, so it is better to consider only the words that are present in the original sentence. Once I have obtained the words in this way, I can call a simple function that will give me a list containing the original tokens of those words (that could be passed to the tokenizer object to obtain the reordered sentence in natural language)."
      ],
      "metadata": {
        "id": "x3VIpw5kAUW0"
      }
    },
    {
      "cell_type": "code",
      "source": [
        "# example\n",
        "le = LabelEncoder()\n",
        "a = np.array([2, 1230, 53, 43, 216, 7, 4, 287, 66, 117, 64, 149, 3898, 3])\n",
        "le.fit(a)\n",
        "b = le.transform(a)\n",
        "to_categorical(b, num_classes=32)"
      ],
      "metadata": {
        "colab": {
          "base_uri": "https://localhost:8080/"
        },
        "id": "kPutqWxj3dF1",
        "outputId": "5616246f-7f18-41b3-de2c-a8002fdea2e0"
      },
      "execution_count": null,
      "outputs": [
        {
          "output_type": "execute_result",
          "data": {
            "text/plain": [
              "array([[1., 0., 0., 0., 0., 0., 0., 0., 0., 0., 0., 0., 0., 0., 0., 0.,\n",
              "        0., 0., 0., 0., 0., 0., 0., 0., 0., 0., 0., 0., 0., 0., 0., 0.],\n",
              "       [0., 0., 0., 0., 0., 0., 0., 0., 0., 0., 0., 0., 1., 0., 0., 0.,\n",
              "        0., 0., 0., 0., 0., 0., 0., 0., 0., 0., 0., 0., 0., 0., 0., 0.],\n",
              "       [0., 0., 0., 0., 0., 1., 0., 0., 0., 0., 0., 0., 0., 0., 0., 0.,\n",
              "        0., 0., 0., 0., 0., 0., 0., 0., 0., 0., 0., 0., 0., 0., 0., 0.],\n",
              "       [0., 0., 0., 0., 1., 0., 0., 0., 0., 0., 0., 0., 0., 0., 0., 0.,\n",
              "        0., 0., 0., 0., 0., 0., 0., 0., 0., 0., 0., 0., 0., 0., 0., 0.],\n",
              "       [0., 0., 0., 0., 0., 0., 0., 0., 0., 0., 1., 0., 0., 0., 0., 0.,\n",
              "        0., 0., 0., 0., 0., 0., 0., 0., 0., 0., 0., 0., 0., 0., 0., 0.],\n",
              "       [0., 0., 0., 1., 0., 0., 0., 0., 0., 0., 0., 0., 0., 0., 0., 0.,\n",
              "        0., 0., 0., 0., 0., 0., 0., 0., 0., 0., 0., 0., 0., 0., 0., 0.],\n",
              "       [0., 0., 1., 0., 0., 0., 0., 0., 0., 0., 0., 0., 0., 0., 0., 0.,\n",
              "        0., 0., 0., 0., 0., 0., 0., 0., 0., 0., 0., 0., 0., 0., 0., 0.],\n",
              "       [0., 0., 0., 0., 0., 0., 0., 0., 0., 0., 0., 1., 0., 0., 0., 0.,\n",
              "        0., 0., 0., 0., 0., 0., 0., 0., 0., 0., 0., 0., 0., 0., 0., 0.],\n",
              "       [0., 0., 0., 0., 0., 0., 0., 1., 0., 0., 0., 0., 0., 0., 0., 0.,\n",
              "        0., 0., 0., 0., 0., 0., 0., 0., 0., 0., 0., 0., 0., 0., 0., 0.],\n",
              "       [0., 0., 0., 0., 0., 0., 0., 0., 1., 0., 0., 0., 0., 0., 0., 0.,\n",
              "        0., 0., 0., 0., 0., 0., 0., 0., 0., 0., 0., 0., 0., 0., 0., 0.],\n",
              "       [0., 0., 0., 0., 0., 0., 1., 0., 0., 0., 0., 0., 0., 0., 0., 0.,\n",
              "        0., 0., 0., 0., 0., 0., 0., 0., 0., 0., 0., 0., 0., 0., 0., 0.],\n",
              "       [0., 0., 0., 0., 0., 0., 0., 0., 0., 1., 0., 0., 0., 0., 0., 0.,\n",
              "        0., 0., 0., 0., 0., 0., 0., 0., 0., 0., 0., 0., 0., 0., 0., 0.],\n",
              "       [0., 0., 0., 0., 0., 0., 0., 0., 0., 0., 0., 0., 0., 1., 0., 0.,\n",
              "        0., 0., 0., 0., 0., 0., 0., 0., 0., 0., 0., 0., 0., 0., 0., 0.],\n",
              "       [0., 1., 0., 0., 0., 0., 0., 0., 0., 0., 0., 0., 0., 0., 0., 0.,\n",
              "        0., 0., 0., 0., 0., 0., 0., 0., 0., 0., 0., 0., 0., 0., 0., 0.]],\n",
              "      dtype=float32)"
            ]
          },
          "metadata": {},
          "execution_count": 21
        }
      ]
    },
    {
      "cell_type": "code",
      "source": [
        "def get_new_sequence(x_sequence, y_sequence, c_sequence, max_sequence_len=32):\n",
        "  new_x_sequence = []\n",
        "  new_y_sequence = []\n",
        "  new_c_sequence = []\n",
        "  print(\"data to process: \", len(x_sequence))\n",
        "\n",
        "  for i in range(len(x_sequence)):\n",
        "    if i%10000 == 0:\n",
        "      print(\"processed: \", i)\n",
        "\n",
        "    le = LabelEncoder()\n",
        "    le.fit(np.append(x_sequence[i],0))\n",
        "    new_x = le.transform(x_sequence[i])\n",
        "    new_y = le.transform(y_sequence[i])\n",
        "    new_c = le.transform(c_sequence[i])\n",
        "    \n",
        "    new_x_sequence.append(new_x)\n",
        "    new_y_sequence.append(new_y)\n",
        "    new_c_sequence.append(new_c)\n",
        "\n",
        "  # obtain the one hot encoded version of y\n",
        "  new_y_sequence = [to_categorical(new_y, num_classes=max_sequence_len+1) \\\n",
        "                    for new_y in new_y_sequence]\n",
        "\n",
        "  return new_x_sequence, new_y_sequence, new_c_sequence\n",
        "\n",
        "x_train_normalized, y_train_one_hot, c_train_normalized = get_new_sequence(x_train, y_train, c_train)\n",
        "x_train_normalized = np.array(x_train_normalized)\n",
        "y_train_one_hot = np.array(y_train_one_hot)\n",
        "c_train_normalized = np.array(c_train_normalized)\n",
        "\n",
        "x_test_normalized, y_test_one_hot, c_test_normalized = get_new_sequence(x_test, y_test, c_test)\n",
        "x_test_normalized = np.array(x_test_normalized)\n",
        "y_test_one_hot = np.array(y_test_one_hot)\n",
        "c_test_normalized = np.array(c_test_normalized)"
      ],
      "metadata": {
        "colab": {
          "base_uri": "https://localhost:8080/"
        },
        "id": "nObW-qzsAZtP",
        "outputId": "8d232dee-e37e-4fcd-e35e-d4eeddb0b793"
      },
      "execution_count": 12,
      "outputs": [
        {
          "output_type": "stream",
          "name": "stdout",
          "text": [
            "data to process:  96110\n",
            "processed:  0\n",
            "processed:  10000\n",
            "processed:  20000\n",
            "processed:  30000\n",
            "processed:  40000\n",
            "processed:  50000\n",
            "processed:  60000\n",
            "processed:  70000\n",
            "processed:  80000\n",
            "processed:  90000\n",
            "data to process:  41191\n",
            "processed:  0\n",
            "processed:  10000\n",
            "processed:  20000\n",
            "processed:  30000\n",
            "processed:  40000\n"
          ]
        }
      ]
    },
    {
      "cell_type": "code",
      "source": [
        "print(\"y_train_one_hot shape\", y_train_one_hot.shape)\n",
        "print(\"x: \", x_train_normalized[0])\n",
        "print(\"y: \", np.argmax(y_train_one_hot[0], axis=-1))\n",
        "print(\"c: \", c_train_normalized[0])"
      ],
      "metadata": {
        "colab": {
          "base_uri": "https://localhost:8080/"
        },
        "id": "Df-cpLu3tT45",
        "outputId": "09413067-7df6-4e21-d4fb-25a12a831a7c"
      },
      "execution_count": null,
      "outputs": [
        {
          "output_type": "stream",
          "name": "stdout",
          "text": [
            "y_train_one_hot shape (96110, 32, 33)\n",
            "y_test_one_hot shape (41191, 32, 33)\n",
            "x:  [1 6 5 4 9 7 3 8 2 0 0 0 0 0 0 0 0 0 0 0 0 0 0 0 0 0 0 0 0 0 0 0]\n",
            "y:  [6 5 4 9 7 3 8 2 0 0 0 0 0 0 0 0 0 0 0 0 0 0 0 0 0 0 0 0 0 0 0 0]\n"
          ]
        }
      ]
    },
    {
      "cell_type": "markdown",
      "source": [
        "## Defining the model\n",
        "The model uses an architecture based on the transformers, because (as showed in the paper [Attention Is All You Need](https://arxiv.org/pdf/1706.03762.pdf)) they are really effective in task concerning the natural language processing. Moreover the transformers uses multiple heads for attention mechanism, that in this case is useful to focus on different part of the sentence (in order to reorder it).\n",
        "\n",
        "The model will produce a word at each iteration and it will condition its future predictions based on that.\n",
        "\n",
        "The model developed is composed by three Input layers, three Embedding layers, a SinePositionEncoding layer, one Add layer, one Concatenate layer, a stack of TransformerEncoder, a stack of TransformerDecoder and a Dense layer.\n",
        "\n",
        "The **Input** layers will always receive a sentence of 32 tokens. The first one will receive the shuffled data; the second one will receive the \"normalized\" shuffled data; the third one will receive the original sentence (at training time) or the predicted words (at testing time). \n",
        "\n",
        "The **Embedding** layer will create an embedding of the input.\n",
        "The first embedding layer processes the first input, a sentence where the tokens could assume 10000 different values. Its hyper parameters are the dimension of the vocabulary, the dimension of the embedding and mask_zero.\n",
        "The second embedding layer processes the second input. The only parameter that chenges with respect to the previous one is the input shape, that in this case is 33 (because this layer will receive only \"normalized\" senteces that will have numbers between 0 and 32). The third layer is equal to the second one, but it processes the third input.\n",
        "\n",
        "The **SinePositionEncoding** is used to encode the position of the character of the third input, because the position is important to retrieve the correct target sentence. \n",
        "\n",
        "The **Concatenate** layer is used to concatenate the first and the second embeddings. The output of this layer will be processed by the first encoder. I decide to give to the network both those inputs (and concatenate them) because I want that the network learn the link between them and use this information to performe a better prediction.\n",
        "\n",
        "The **Transformer Encoders** will process the input information. The hyper parameter are the internal dimensionality of the FeedForward layer (usually 4 times bigger than the embedding dimesionality), the number of parallel attention layers and the dropout rate. The activation function used is the gaussian error linear unit.\n",
        "\n",
        "Every **Transformer Decoder** will produce the output based on the encoding of the last transformer encoder and as second parameter will receive the third input (if it is the first decoder) or the output of the previous decoder. The hyper parameters are the same of the encoders. \n",
        "\n",
        "The **Dense** layer has 33 units (as the maximum number of different tokens that could be present in a sentence + the padding). The activation function is a softmax and the final output is a 32x33 matrix. The output is composed by 32 arrays of probability: each array represent a word and in it there are 33 probabilities representing each a possible different word of the received input.\n",
        "\n",
        "Doing ```tf.argmax(pred, axis=-1)``` on the output of the network we will obtain an array of this type ```[5, 11, 5, 9, 11, 11, 11, 7, 10, 9, 2, 0, 0, 0, 0, 0, 0, 0, 0, 0, 0, 0, 0, 0, 0, 0, 0, 0, 0, 0, 0]``` where each number represents a word with respect to the \"denormalized\" sentence.\n",
        "\n",
        "To obtain, from the output of the network, the \"denormalized\" tokens, I will build a function in the last part of the notebook.\n"
      ],
      "metadata": {
        "id": "z00LI7rTYt3u"
      }
    },
    {
      "cell_type": "code",
      "source": [
        "def get_model(num_layer, embedding_dim, feedforward_dim, num_heads, dropout, \n",
        "              input_shape, output_shape, vocabulary_dim=10000):\n",
        "  \n",
        "  shuffled_data = Input(shape=input_shape)\n",
        "  embedding_layer1 = Embedding(input_dim=vocabulary_dim, \n",
        "                              output_dim=embedding_dim, mask_zero=True)(shuffled_data)\n",
        "  shuffled_data_norm = Input(shape=input_shape)\n",
        "  embedding_layer2 = Embedding(input_dim=input_shape[0]+1, \n",
        "                              output_dim=embedding_dim, mask_zero=True)(shuffled_data_norm)\n",
        "  \n",
        "  #concatenate = Concatenate()([embedding_layer1, embedding_layer2])\n",
        "\n",
        "  x_normalized = Input(shape=input_shape)\n",
        "  embedding_layer3 = Embedding(input_dim=input_shape[0]+1, \n",
        "                               output_dim=embedding_dim, mask_zero=True)(x_normalized)\n",
        "  positional_encoding = SinePositionEncoding()(embedding_layer3)\n",
        "  embedding_layer3 = Add()([embedding_layer3, positional_encoding])\n",
        "\n",
        "  \n",
        "  encoder1 = TransformerEncoder(feedforward_dim, num_heads, dropout=dropout,\n",
        "                               activation=tf.keras.activations.gelu)(embedding_layer1) \n",
        "  encoder1 = TransformerEncoder(feedforward_dim, num_heads, dropout=dropout,\n",
        "                               activation=tf.keras.activations.gelu)(encoder1)\n",
        "\n",
        "  encoder2 = TransformerEncoder(feedforward_dim, num_heads, dropout=dropout,\n",
        "                               activation=tf.keras.activations.gelu)(embedding_layer2)\n",
        "  encoder2 = TransformerEncoder(feedforward_dim, num_heads, dropout=dropout,\n",
        "                               activation=tf.keras.activations.gelu)(encoder2)                             \n",
        "\n",
        "  concatenate = Concatenate()([encoder1, encoder2])\n",
        "\n",
        "  encoder = TransformerEncoder(2*feedforward_dim, num_heads, dropout=dropout,\n",
        "                              activation=tf.keras.activations.gelu)(concatenate)\n",
        "  encoder = TransformerEncoder(2*feedforward_dim, num_heads, dropout=dropout,\n",
        "                              activation=tf.keras.activations.gelu)(encoder)                              \n",
        "\n",
        "  decoder = TransformerDecoder(feedforward_dim, num_heads, dropout=dropout,\n",
        "                               activation=tf.keras.activations.gelu)(embedding_layer3, \n",
        "                                                     encoder_sequence=encoder)\n",
        "  for _ in range(num_layer-1):\n",
        "    decoder = TransformerDecoder(feedforward_dim, num_heads, dropout=dropout, \n",
        "                                 activation=tf.keras.activations.gelu)(decoder, \n",
        "                                                       encoder_sequence=encoder)\n",
        "\n",
        "  output = Dense(output_shape, activation='softmax')(decoder)\n",
        "\n",
        "  model = Model([shuffled_data, shuffled_data_norm, x_normalized], output)\n",
        "  model.summary()\n",
        "  return model"
      ],
      "metadata": {
        "id": "5AvEvkhl4v6U"
      },
      "execution_count": 33,
      "outputs": []
    },
    {
      "cell_type": "code",
      "source": [
        "num_layer = 4\n",
        "embedding_dim = 128\n",
        "num_heads = 8\n",
        "feedforward_dim = 512\n",
        "dropout = 0.2\n",
        "\n",
        "model = get_model(num_layer=num_layer, embedding_dim=embedding_dim, \\\n",
        "                  feedforward_dim=feedforward_dim, num_heads=num_heads, dropout=dropout, \\\n",
        "                  input_shape=(max_sequence_len,), \\\n",
        "                  output_shape=max_sequence_len+1)"
      ],
      "metadata": {
        "colab": {
          "base_uri": "https://localhost:8080/"
        },
        "id": "s6OaphDs6H5I",
        "outputId": "3b3c0c89-f90d-4fea-fd33-2d137701f53d"
      },
      "execution_count": 34,
      "outputs": [
        {
          "output_type": "stream",
          "name": "stdout",
          "text": [
            "Model: \"model_2\"\n",
            "__________________________________________________________________________________________________\n",
            " Layer (type)                   Output Shape         Param #     Connected to                     \n",
            "==================================================================================================\n",
            " input_7 (InputLayer)           [(None, 32)]         0           []                               \n",
            "                                                                                                  \n",
            " input_8 (InputLayer)           [(None, 32)]         0           []                               \n",
            "                                                                                                  \n",
            " embedding_6 (Embedding)        (None, 32, 128)      1280000     ['input_7[0][0]']                \n",
            "                                                                                                  \n",
            " embedding_7 (Embedding)        (None, 32, 128)      4224        ['input_8[0][0]']                \n",
            "                                                                                                  \n",
            " transformer_encoder_6 (Transfo  (None, 32, 128)     198272      ['embedding_6[0][0]']            \n",
            " rmerEncoder)                                                                                     \n",
            "                                                                                                  \n",
            " transformer_encoder_8 (Transfo  (None, 32, 128)     198272      ['embedding_7[0][0]']            \n",
            " rmerEncoder)                                                                                     \n",
            "                                                                                                  \n",
            " input_9 (InputLayer)           [(None, 32)]         0           []                               \n",
            "                                                                                                  \n",
            " transformer_encoder_7 (Transfo  (None, 32, 128)     198272      ['transformer_encoder_6[0][0]']  \n",
            " rmerEncoder)                                                                                     \n",
            "                                                                                                  \n",
            " transformer_encoder_9 (Transfo  (None, 32, 128)     198272      ['transformer_encoder_8[0][0]']  \n",
            " rmerEncoder)                                                                                     \n",
            "                                                                                                  \n",
            " embedding_8 (Embedding)        (None, 32, 128)      4224        ['input_9[0][0]']                \n",
            "                                                                                                  \n",
            " concatenate_2 (Concatenate)    (None, 32, 256)      0           ['transformer_encoder_7[0][0]',  \n",
            "                                                                  'transformer_encoder_9[0][0]']  \n",
            "                                                                                                  \n",
            " sine_position_encoding_2 (Sine  (None, 32, 128)     0           ['embedding_8[0][0]']            \n",
            " PositionEncoding)                                                                                \n",
            "                                                                                                  \n",
            " transformer_encoder_10 (Transf  (None, 32, 256)     789760      ['concatenate_2[0][0]']          \n",
            " ormerEncoder)                                                                                    \n",
            "                                                                                                  \n",
            " add_2 (Add)                    (None, 32, 128)      0           ['embedding_8[0][0]',            \n",
            "                                                                  'sine_position_encoding_2[0][0]'\n",
            "                                                                 ]                                \n",
            "                                                                                                  \n",
            " transformer_encoder_11 (Transf  (None, 32, 256)     789760      ['transformer_encoder_10[0][0]'] \n",
            " ormerEncoder)                                                                                    \n",
            "                                                                                                  \n",
            " transformer_decoder_4 (Transfo  (None, 32, 128)     297344      ['add_2[0][0]',                  \n",
            " rmerDecoder)                                                     'transformer_encoder_11[0][0]'] \n",
            "                                                                                                  \n",
            " transformer_decoder_5 (Transfo  (None, 32, 128)     297344      ['transformer_decoder_4[0][0]',  \n",
            " rmerDecoder)                                                     'transformer_encoder_11[0][0]'] \n",
            "                                                                                                  \n",
            " transformer_decoder_6 (Transfo  (None, 32, 128)     297344      ['transformer_decoder_5[0][0]',  \n",
            " rmerDecoder)                                                     'transformer_encoder_11[0][0]'] \n",
            "                                                                                                  \n",
            " transformer_decoder_7 (Transfo  (None, 32, 128)     297344      ['transformer_decoder_6[0][0]',  \n",
            " rmerDecoder)                                                     'transformer_encoder_11[0][0]'] \n",
            "                                                                                                  \n",
            " dense_2 (Dense)                (None, 32, 33)       4257        ['transformer_decoder_7[0][0]']  \n",
            "                                                                                                  \n",
            "==================================================================================================\n",
            "Total params: 4,854,689\n",
            "Trainable params: 4,854,689\n",
            "Non-trainable params: 0\n",
            "__________________________________________________________________________________________________\n"
          ]
        }
      ]
    },
    {
      "cell_type": "code",
      "source": [
        "from keras.utils import plot_model\n",
        "plot_model(model, show_shapes=True, show_layer_activations=True, to_file='model.png')"
      ],
      "metadata": {
        "id": "K66P9_txf06T",
        "outputId": "9c47e1a7-5e74-4a77-f7b8-076fa6757b7b",
        "colab": {
          "base_uri": "https://localhost:8080/",
          "height": 1000
        }
      },
      "execution_count": 35,
      "outputs": [
        {
          "output_type": "execute_result",
          "data": {
            "image/png": "[encoded data removed]",
            "text/plain": [
              "<IPython.core.display.Image object>"
            ]
          },
          "metadata": {},
          "execution_count": 35
        }
      ]
    },
    {
      "cell_type": "markdown",
      "source": [
        "## Training\n",
        "The optimizer used is ```Adam```. The loss function (as previous anticipated) is the ```CategoricalCrossentropy```, such that we could compare the output of the model (a matrix of probabilities) with the ground truth (obviously the ```from_logits``` parameter is False)."
      ],
      "metadata": {
        "id": "vY9pjTwJBJCX"
      }
    },
    {
      "cell_type": "code",
      "source": [
        "import matplotlib.pyplot as plt\n",
        "\n",
        "def display_history(history, accuracy, accuracy_name=None):\n",
        "    mse_training = history.history['loss']\n",
        "    mse_val = history.history['val_loss']\n",
        "    # Visualize the behavior of the loss\n",
        "    plt.plot(mse_training)\n",
        "    plt.plot(mse_val)\n",
        "    plt.grid()\n",
        "    plt.title('Loss during training')\n",
        "    plt.xlabel('Epoch')\n",
        "    plt.legend(['Training', 'Validation'])\n",
        "    plt.show()\n",
        "\n",
        "    if accuracy:\n",
        "      acc_training = history.history[accuracy_name]\n",
        "      acc_val = history.history[f\"val_{accuracy_name}\"]\n",
        "      # and of the accuracy\n",
        "      plt.plot(acc_training)\n",
        "      plt.plot(acc_val)\n",
        "      plt.grid()\n",
        "      plt.title('Accuracy during training')\n",
        "      plt.xlabel('Epoch')\n",
        "      plt.legend(['Training', 'Validation'])\n",
        "      plt.show()"
      ],
      "metadata": {
        "id": "z4c0bayGKspv"
      },
      "execution_count": 16,
      "outputs": []
    },
    {
      "cell_type": "code",
      "source": [
        "optimizer = Adam(learning_rate=1e-3)\n",
        "loss = CategoricalCrossentropy(from_logits=False)\n",
        "\n",
        "model.compile(loss=loss, optimizer=optimizer)"
      ],
      "metadata": {
        "id": "I0Mthi-vBIeY"
      },
      "execution_count": 36,
      "outputs": []
    },
    {
      "cell_type": "code",
      "source": [
        "# this is the folder where I will save the checkpoints\n",
        "!mkdir ckpts"
      ],
      "metadata": {
        "id": "2Q8tYRB4IGzc"
      },
      "execution_count": 18,
      "outputs": []
    },
    {
      "cell_type": "markdown",
      "source": [
        "### Fit method\n",
        "We pass to the fit method as data ```c_train``` (the shuffled sentences), ```c_train_normalized``` (the shuffled sentences \"normalized\") and ```x_train_normalized``` (the original sentence \"normalized\"), and as labels ```y_train_one_hot``` (because the decoder will produce an output shifted by one with respect to x_train). The validation split is 0.1 and the data are shuffled each epoch. The callbacks used are ```EarlyStopping``` (to terminate the training if after 5 epochs there are no improvements of the validation loss) and ```ModelCheckpoint``` (to save the checkpoints)."
      ],
      "metadata": {
        "id": "DrYhm4KbwaK2"
      }
    },
    {
      "cell_type": "code",
      "source": [
        "epochs = 50\n",
        "batch_size = 1024\n",
        "accuracy_name = \"loss\"\n",
        "\n",
        "earlyStopping = EarlyStopping(monitor = f\"val_{accuracy_name}\", mode = 'min', \\\n",
        "                              patience = 5, restore_best_weights = True)\n",
        "modelCheckpoint = ModelCheckpoint('./ckpts/cp-{epoch:04d}.ckpt', \\\n",
        "                                  monitor=f\"val_{accuracy_name}\", mode='min', \\\n",
        "                                  save_weights_only = True, save_best_only = True, save_freq=\"epoch\")\n",
        "\n",
        "history = model.fit([c_train, c_train_normalized,x_train_normalized], y_train_one_hot, validation_split=0.1, \\\n",
        "                    shuffle=True, epochs=epochs, batch_size=batch_size, \\\n",
        "                    callbacks=[earlyStopping, modelCheckpoint])\n",
        "\n",
        "model.save_weights('weights.hdf5')"
      ],
      "metadata": {
        "id": "pbDv-ooZJEI-",
        "outputId": "e0648ab7-ec81-4041-af1e-551a7b5481cc",
        "colab": {
          "base_uri": "https://localhost:8080/"
        }
      },
      "execution_count": 37,
      "outputs": [
        {
          "output_type": "stream",
          "name": "stdout",
          "text": [
            "Epoch 1/50\n",
            "85/85 [==============================] - 108s 703ms/step - loss: 2.5805 - val_loss: 2.2084\n",
            "Epoch 2/50\n",
            "85/85 [==============================] - 56s 662ms/step - loss: 2.2169 - val_loss: 2.1011\n",
            "Epoch 3/50\n",
            "85/85 [==============================] - 57s 672ms/step - loss: 2.0121 - val_loss: 1.8497\n",
            "Epoch 4/50\n",
            "85/85 [==============================] - 57s 667ms/step - loss: 1.8140 - val_loss: 1.6137\n",
            "Epoch 5/50\n",
            "85/85 [==============================] - 57s 677ms/step - loss: 1.6008 - val_loss: 1.4496\n",
            "Epoch 6/50\n",
            "85/85 [==============================] - 57s 674ms/step - loss: 1.4646 - val_loss: 1.3335\n",
            "Epoch 7/50\n",
            "85/85 [==============================] - 57s 669ms/step - loss: 1.4080 - val_loss: 1.2711\n",
            "Epoch 8/50\n",
            "85/85 [==============================] - 57s 669ms/step - loss: 1.2651 - val_loss: 1.1994\n",
            "Epoch 9/50\n",
            "85/85 [==============================] - 57s 676ms/step - loss: 1.1641 - val_loss: 1.1046\n",
            "Epoch 10/50\n",
            "85/85 [==============================] - 57s 671ms/step - loss: 1.0778 - val_loss: 1.0101\n",
            "Epoch 11/50\n",
            "85/85 [==============================] - 57s 671ms/step - loss: 1.0110 - val_loss: 0.9845\n",
            "Epoch 12/50\n",
            "85/85 [==============================] - 57s 665ms/step - loss: 0.9505 - val_loss: 0.9949\n",
            "Epoch 13/50\n",
            "85/85 [==============================] - 57s 674ms/step - loss: 0.8958 - val_loss: 0.9033\n",
            "Epoch 14/50\n",
            "85/85 [==============================] - 57s 671ms/step - loss: 0.8338 - val_loss: 0.8696\n",
            "Epoch 15/50\n",
            "85/85 [==============================] - 57s 670ms/step - loss: 0.7925 - val_loss: 0.8651\n",
            "Epoch 16/50\n",
            "85/85 [==============================] - 58s 679ms/step - loss: 0.7531 - val_loss: 0.8502\n",
            "Epoch 17/50\n",
            "85/85 [==============================] - 58s 678ms/step - loss: 0.7172 - val_loss: 0.8393\n",
            "Epoch 18/50\n",
            "85/85 [==============================] - 56s 665ms/step - loss: 0.6846 - val_loss: 0.8428\n",
            "Epoch 19/50\n",
            "85/85 [==============================] - 57s 673ms/step - loss: 0.6570 - val_loss: 0.8357\n",
            "Epoch 20/50\n",
            "85/85 [==============================] - 56s 664ms/step - loss: 0.6284 - val_loss: 0.8426\n",
            "Epoch 21/50\n",
            "85/85 [==============================] - 56s 660ms/step - loss: 0.6034 - val_loss: 0.8362\n",
            "Epoch 22/50\n",
            "85/85 [==============================] - 56s 664ms/step - loss: 0.5822 - val_loss: 0.8590\n",
            "Epoch 23/50\n",
            "85/85 [==============================] - 56s 660ms/step - loss: 0.5629 - val_loss: 0.8769\n",
            "Epoch 24/50\n",
            "85/85 [==============================] - 56s 662ms/step - loss: 0.5419 - val_loss: 0.8550\n"
          ]
        }
      ]
    },
    {
      "cell_type": "code",
      "source": [
        "display_history(history, False)"
      ],
      "metadata": {
        "id": "96hkEEewLSXM",
        "colab": {
          "base_uri": "https://localhost:8080/",
          "height": 472
        },
        "outputId": "0d32c3ef-f455-4670-b959-2916c4b6285f"
      },
      "execution_count": 38,
      "outputs": [
        {
          "output_type": "display_data",
          "data": {
            "text/plain": [
              "<Figure size 640x480 with 1 Axes>"
            ],
            "image/png": "[encoded data removed]"
          },
          "metadata": {}
        }
      ]
    },
    {
      "cell_type": "markdown",
      "source": [
        "### Loading of the best weights"
      ],
      "metadata": {
        "id": "_eiPsI8GwjU5"
      }
    },
    {
      "cell_type": "code",
      "source": [
        "# latest = tf.train.latest_checkpoint('ckpts')\n",
        "# print(latest)\n",
        "# model.load_weights(latest)"
      ],
      "metadata": {
        "id": "vdTfsrXcIy5g"
      },
      "execution_count": null,
      "outputs": []
    },
    {
      "cell_type": "code",
      "source": [
        "# model.load_weights('weights.hdf5')"
      ],
      "metadata": {
        "id": "EZO4QMxxYDnX"
      },
      "execution_count": null,
      "outputs": []
    },
    {
      "cell_type": "markdown",
      "source": [
        "## Testing the model\n",
        "Division of the test set such that we could use a random part of it (more than 10k samples)."
      ],
      "metadata": {
        "id": "JIzjqf_9-N24"
      }
    },
    {
      "cell_type": "code",
      "source": [
        "print(x_test.shape)"
      ],
      "metadata": {
        "colab": {
          "base_uri": "https://localhost:8080/"
        },
        "id": "i-jJIv2oMNMs",
        "outputId": "58389026-e712-4718-ae09-857a2f50d3fd"
      },
      "execution_count": 21,
      "outputs": [
        {
          "output_type": "stream",
          "name": "stdout",
          "text": [
            "(41191, 32)\n"
          ]
        }
      ]
    },
    {
      "cell_type": "code",
      "source": [
        "_, x_test_10k, _, c_test_10k, _, y_test_10k, _, y_test_one_hot_10k, _, x_test_normalized_10k, _, c_test_normalized_10k = \\\n",
        "  train_test_split(x_test, c_test, y_test, y_test_one_hot, x_test_normalized, c_test_normalized,\n",
        "                  test_size = 0.25, random_state = 42)\n",
        "print(x_test_10k.shape)"
      ],
      "metadata": {
        "colab": {
          "base_uri": "https://localhost:8080/"
        },
        "id": "7YEuxI1OLy-U",
        "outputId": "0637b1bf-f07c-4cf2-9c86-01cb51f39aea"
      },
      "execution_count": 22,
      "outputs": [
        {
          "output_type": "stream",
          "name": "stdout",
          "text": [
            "(10298, 32)\n"
          ]
        }
      ]
    },
    {
      "cell_type": "markdown",
      "source": [
        "### Accuracy function\n",
        "The accuracy function receives in input the labels and the predictions. The labels are in the array ```y_test_one_hot_10k``` and will contain the normalized one hot version of the labels (also the predictions are in this form).\n",
        "\n",
        "For each element in the test set: I compute ```tf.argmax()``` on ```labels[i]``` and ```preds[i]``` to obtain the tokens that make the sentence (with this function I retrieve the indexes containing the highest probability, those indexes represent the words), then those arrays are cut to remove the end token and any padding (if present), and at the end the score is computed . The final result is the average of the scores."
      ],
      "metadata": {
        "id": "UQ0wT4vPcFHo"
      }
    },
    {
      "cell_type": "code",
      "source": [
        "def my_accuracy(labels, preds):\n",
        "  score_tot = 0\n",
        "  for i in range(len(labels)):\n",
        "    pred = preds[i]\n",
        "    label = labels[i]\n",
        "\n",
        "    predicted_id = tf.argmax(pred, axis=-1)\n",
        "    label_id = tf.argmax(label, axis=-1)\n",
        "\n",
        "    # retrieve the index of the first padding token\n",
        "    # then we will remove tokens starting from the index before it\n",
        "    idx_stop = tf.where(label_id == 0) \n",
        "\n",
        "    # cut the sentences up to the stop token\n",
        "    l = label_id[:idx_stop[0,0]-1]\n",
        "    p = predicted_id[:idx_stop[0,0]-1]\n",
        "    \n",
        "    score_tot += score(l.numpy(), p.numpy())\n",
        "\n",
        "  return score_tot / labels.shape[0]"
      ],
      "metadata": {
        "id": "j2pC44yRjdvR"
      },
      "execution_count": 23,
      "outputs": []
    },
    {
      "cell_type": "markdown",
      "source": [
        "### Generate predictions\n",
        "The model will predict a word for time and I will give to the network at each iteration, as input to the decoder, the output of the previous iteration. The initial input to the decoder is the starting token."
      ],
      "metadata": {
        "id": "Ex8mg2ZpjUfS"
      }
    },
    {
      "cell_type": "code",
      "source": [
        "def retrieve_staring_token(c_test_10k, c_test_normalized_10k):\n",
        "  # the starting token is \"2\", so I search the position where it is\n",
        "  # and I obtain the number in the normalized form\n",
        "  idx = np.where(c_test_10k==2)\n",
        "  # obtaining the first token of the normalized version\n",
        "  return c_test_normalized_10k[idx]\n",
        "\n",
        "def denormalize(c_test_10k, c_test_normalized_10k, predicted_id):\n",
        "  res = []\n",
        "  for i in range(c_test_normalized_10k.shape[0]):\n",
        "    try:\n",
        "      idx = np.where(c_test_normalized_10k[i] == predicted_id[i])[0][0]\n",
        "    except:\n",
        "      # when the network give me a token that is not present in the original sentence\n",
        "      idx = 0\n",
        "    original_token = c_test_10k[i, idx]\n",
        "    res.append(original_token)\n",
        "  return np.array(res)"
      ],
      "metadata": {
        "id": "tB6Ixj7qe7Eg"
      },
      "execution_count": 24,
      "outputs": []
    },
    {
      "cell_type": "code",
      "source": [
        "num_test = c_test_10k.shape[0]\n",
        "sentence_max_length = 32\n",
        "\n",
        "# creating a matrix where in the first column there are the starting tokens \n",
        "# I use the retrieve_starting_token function, because the starting token\n",
        "# depends on the \"normalization\" (but it is always 1 or 2)\n",
        "starting_token_norm = retrieve_staring_token(c_test_10k, c_test_normalized_10k)\n",
        "inp_norm = np.concatenate((starting_token_norm.reshape((num_test,1)), \\\n",
        "                np.zeros((num_test,sentence_max_length-1), dtype='int64')), axis=1)\n",
        "\n",
        "# this array below is used only to print the denormalized sentence\n",
        "# at each iteration we add tokens here to obtain the reconstructed sentence\n",
        "inp = np.concatenate((np.array([2]*num_test).reshape((num_test,1)), \\\n",
        "                np.zeros((num_test,sentence_max_length-1), dtype='int64')), axis=1)\n",
        "\n",
        "# iterations\n",
        "for i in range(sentence_max_length-1):\n",
        "  if i%10 == 0:\n",
        "    print(f\"{i} iterations done\")\n",
        "  predictions = model.predict((c_test_10k[:num_test], c_test_normalized_10k[:num_test], tf.constant(inp_norm.tolist())))\n",
        "  predicted_id = tf.argmax(predictions, axis=-1)\n",
        "  inp_norm[:, i+1] = predicted_id[:, i]\n",
        "  \n",
        "  # adding the denormalize token \n",
        "  id_denorm = denormalize(c_test_10k[:num_test], c_test_normalized_10k[:num_test], predicted_id[:, i].numpy())\n",
        "  #id_denorm = id_denorm.reshape((num_test,1))\n",
        "  inp[:, i+1:i+2] = id_denorm.reshape((num_test,1))\n",
        "\n"
      ],
      "metadata": {
        "colab": {
          "base_uri": "https://localhost:8080/"
        },
        "id": "uqa_PdV8jY0i",
        "outputId": "56a7e9db-6c91-411b-a254-58d9558de7a1"
      },
      "execution_count": 39,
      "outputs": [
        {
          "output_type": "stream",
          "name": "stdout",
          "text": [
            "0 iterations done\n",
            "322/322 [==============================] - 9s 24ms/step\n",
            "322/322 [==============================] - 7s 22ms/step\n",
            "322/322 [==============================] - 9s 27ms/step\n",
            "322/322 [==============================] - 7s 21ms/step\n",
            "322/322 [==============================] - 9s 28ms/step\n",
            "322/322 [==============================] - 7s 23ms/step\n",
            "322/322 [==============================] - 8s 25ms/step\n",
            "322/322 [==============================] - 9s 27ms/step\n",
            "322/322 [==============================] - 8s 24ms/step\n",
            "322/322 [==============================] - 8s 25ms/step\n",
            "10 iterations done\n",
            "322/322 [==============================] - 9s 28ms/step\n",
            "322/322 [==============================] - 7s 21ms/step\n",
            "322/322 [==============================] - 7s 22ms/step\n",
            "322/322 [==============================] - 8s 25ms/step\n",
            "322/322 [==============================] - 9s 27ms/step\n",
            "322/322 [==============================] - 7s 21ms/step\n",
            "322/322 [==============================] - 11s 33ms/step\n",
            "322/322 [==============================] - 7s 22ms/step\n",
            "322/322 [==============================] - 7s 22ms/step\n",
            "322/322 [==============================] - 9s 27ms/step\n",
            "20 iterations done\n",
            "322/322 [==============================] - 8s 25ms/step\n",
            "322/322 [==============================] - 8s 24ms/step\n",
            "322/322 [==============================] - 9s 27ms/step\n",
            "322/322 [==============================] - 7s 22ms/step\n",
            "322/322 [==============================] - 9s 28ms/step\n",
            "322/322 [==============================] - 8s 24ms/step\n",
            "322/322 [==============================] - 7s 22ms/step\n",
            "322/322 [==============================] - 8s 24ms/step\n",
            "322/322 [==============================] - 9s 27ms/step\n",
            "322/322 [==============================] - 8s 23ms/step\n",
            "30 iterations done\n",
            "322/322 [==============================] - 8s 24ms/step\n"
          ]
        }
      ]
    },
    {
      "cell_type": "markdown",
      "source": [
        "### Score"
      ],
      "metadata": {
        "id": "zhhjFB43xxd2"
      }
    },
    {
      "cell_type": "code",
      "source": [
        "points = my_accuracy(y_test_one_hot_10k[:num_test], predictions)\n",
        "print(\"accuracy: \", points)"
      ],
      "metadata": {
        "colab": {
          "base_uri": "https://localhost:8080/"
        },
        "id": "DCFagZGHFad0",
        "outputId": "dff97baf-b67e-4fc7-abd3-b57d0497e6c3"
      },
      "execution_count": 40,
      "outputs": [
        {
          "output_type": "stream",
          "name": "stdout",
          "text": [
            "accuracy:  0.4726702553624864\n"
          ]
        }
      ]
    },
    {
      "cell_type": "markdown",
      "source": [
        "### Example of reordered sentence"
      ],
      "metadata": {
        "id": "S_BE5kFQx0I7"
      }
    },
    {
      "cell_type": "code",
      "source": [
        "num = 6\n",
        "label_id = tf.argmax(y_test_one_hot_10k[num], axis=-1)\n",
        "prediction_id = tf.argmax(predictions[num], axis=-1)\n",
        "print(\"ground truth: \", label_id)\n",
        "print(\"prediction: \", prediction_id)\n",
        "\n",
        "print(\"\\n gt: \", tokenizer.sequences_to_texts([x_test_10k[num]]))\n",
        "print(\"output: \", tokenizer.sequences_to_texts([inp[num].tolist()]))\n",
        "# notice that here in the output sentence (the last one printed) \n",
        "# is present the starting token, but it is not produced by the network,\n",
        "# because it produces the output shifted by one.\n",
        "# The starting token is hardcoded by hand at the beginning \n",
        "# (it is done at line 13 in the cell where the iterations to make the predictions are executed).\n",
        "# I print also it such that the ground truth and the output have both the starting token\n"
      ],
      "metadata": {
        "colab": {
          "base_uri": "https://localhost:8080/"
        },
        "id": "1L2P6vUMGLdN",
        "outputId": "9d2a0e15-77dd-4c26-d484-1baa6d5611f6"
      },
      "execution_count": 41,
      "outputs": [
        {
          "output_type": "stream",
          "name": "stdout",
          "text": [
            "ground truth:  tf.Tensor(\n",
            "[ 7 10  5  8  4 12  3  7  4 11  6  9  2  0  0  0  0  0  0  0  0  0  0  0\n",
            "  0  0  0  0  0  0  0  0], shape=(32,), dtype=int64)\n",
            "prediction:  tf.Tensor(\n",
            "[ 7 10  5  8  4 11  3 12  6  9  4  7  2  0  2  0  2  0  2  0  0  0  0  0\n",
            "  0  0  0  0  0  0  0  0], shape=(32,), dtype=int64)\n",
            "\n",
            " gt:  ['<start> later kim was moved to osaka and later to seoul south korea <end> <pad> <pad> <pad> <pad> <pad> <pad> <pad> <pad> <pad> <pad> <pad> <pad> <pad> <pad> <pad> <pad> <pad> <pad>']\n",
            "output:  ['<start> later kim was moved to seoul and osaka south korea to later <end> <pad> <end> <pad> <end> <pad> <end> <pad> <pad> <pad> <pad> <pad> <pad> <pad> <pad> <pad> <pad> <pad> <pad>']\n"
          ]
        }
      ]
    }
  ]
}