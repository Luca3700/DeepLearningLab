{
  "cells": [
    {
      "cell_type": "markdown",
      "metadata": {
        "id": "TSWSrJ-iTazX"
      },
      "source": [
        "# Generating Images with Generative Adversarial Networks (GANs)\n",
        "\n",
        "The purpose of the project is to test the ability of Generative Adversial Networks (GANs) in generating realistic-looking images. \n",
        "\n",
        "## Dataset\n",
        "\n",
        "The dataset used will be FashionMNIST. It contains low resolution ($28 \\times 28$) grey-scale images representing different kind of clothes. The dataset is available on keras and accessable in $\\texttt{tf.keras.datasets.fashion\\_mnist}$. Note that the pixel values for the images are initially in the interval $[0, 255]$. It is required to normalize them since all of the algorithm we will use require them to be in that format. To be fair, you will find the dataset already normalized, do not modify that part of the code.\n",
        "\n",
        "## Metrics\n",
        "\n",
        "Measuring the quality of newly generated images is a non-trivial task. Indeed, there is no label associated to each image, and thus it is impossible to measure the quality image-by-image. For that reason, common metrics uses statistical consideration on a generated dataset to test how well the network recovered the statistics of the original data. One of the most common is the Fréchet Inception Distance (FID). The idea of FID is that in a realistic-looking dataset of images, the statistics of the activation of the last hidden layer in a well-trained classificator should be similar to that of a dataset containing real images. Specifically, regarding FID, the Inception-v3 network is used as a classificator. A real dataset $\\mathbb{D}_r$ and a generated dataset $\\mathbb{D}_g$ are processed by the network, and the activation of the last hidden layer has mean and variance $(\\mu_r, \\Sigma_r)$, $(\\mu_g, \\Sigma_g)$ respectively. Then, FID is computed as:\n",
        "\n",
        "$$\n",
        "    FID(\\mathbb{D}_r, \\mathbb{D}_g) = || \\mu_r - \\mu_g ||^2 + Tr(\\Sigma_r + \\Sigma_g - 2(\\Sigma_r \\ast \\Sigma_g)^{\\frac{1}{2}}) \n",
        "$$\n",
        "\n",
        "A Python implementation of FID can be found in the file $\\texttt{fid.py}$ that you find attached on Virtuale. Its usage is very simple, just generate $10k$ fake images with your GAN, and with the command $\\texttt{fid.get\\_fid(x\\_test, x\\_gen)}$, where $\\texttt{x\\_test}$ is the test set, containing $10k$ real images, you get the value for the FID of your network. Remember that, when passed through that function, $\\texttt{x\\_gen}$ **must** be a dataset of $10k$ images, in the interval $[0, 1]$. The number of $10k$ images is fundamental, since the value of FID strongly depends on the number of input images.\n",
        "\n",
        "## Limitations\n",
        "\n",
        "You are required to implement a vanilla Generative Adversarial Network (GAN), not a variant of it (e.g. PixelGAN, CycleGAN, ... are **not** accepted). The maximum number of parameters is *15 million*, and every pre-trained network can be used as an add-on (the number of parameters for pre-trained network does not count). Clearly, only the training set can be used to train the network, no additional images (Data Augmentation is ok)."
      ]
    },
    {
      "cell_type": "code",
      "execution_count": 1,
      "metadata": {
        "id": "aaubgTXbTazn"
      },
      "outputs": [],
      "source": [
        "import tensorflow as tf\n",
        "from tensorflow.keras import layers\n",
        "from tensorflow.keras.datasets import fashion_mnist\n",
        "\n",
        "import numpy as np\n",
        "from matplotlib import pyplot as plt"
      ]
    },
    {
      "cell_type": "markdown",
      "metadata": {
        "id": "ceos7zgTTazs"
      },
      "source": [
        "The images are normalized in $[0, 1]$. For simplicity, images are padded to have dimension $32 \\times 32$."
      ]
    },
    {
      "cell_type": "code",
      "execution_count": 43,
      "metadata": {
        "colab": {
          "base_uri": "https://localhost:8080/"
        },
        "id": "Es5LDnq0Tazv",
        "outputId": "bc8542ce-509f-450f-e90a-3e8f30fa2c43"
      },
      "outputs": [
        {
          "output_type": "stream",
          "name": "stdout",
          "text": [
            "Downloading data from https://storage.googleapis.com/tensorflow/tf-keras-datasets/train-labels-idx1-ubyte.gz\n",
            "29515/29515 [==============================] - 0s 1us/step\n",
            "Downloading data from https://storage.googleapis.com/tensorflow/tf-keras-datasets/train-images-idx3-ubyte.gz\n",
            "26421880/26421880 [==============================] - 2s 0us/step\n",
            "Downloading data from https://storage.googleapis.com/tensorflow/tf-keras-datasets/t10k-labels-idx1-ubyte.gz\n",
            "5148/5148 [==============================] - 0s 0us/step\n",
            "Downloading data from https://storage.googleapis.com/tensorflow/tf-keras-datasets/t10k-images-idx3-ubyte.gz\n",
            "4422102/4422102 [==============================] - 1s 0us/step\n",
            "Training shape: (60000, 32, 32, 1), Training pixel values: (0.0, 1.0)\n",
            "Test shape: (10000, 32, 32, 1), Test pixel values: (0.0, 1.0)\n"
          ]
        }
      ],
      "source": [
        "# Load the data. Note that the labels y_train and y_test are not loaded since not required.\n",
        "(x_train, _), (x_test, _) = fashion_mnist.load_data()\n",
        "\n",
        "# Normalize and pad the datasets\n",
        "x_train = np.pad(x_train, ((0,0), (2,2), (2,2)))\n",
        "x_train = np.reshape(x_train, x_train.shape + (1, ))\n",
        "x_train = x_train / 255.\n",
        "\n",
        "x_test = np.pad(x_test, ((0,0), (2,2), (2,2)))\n",
        "x_test = np.reshape(x_test, x_test.shape + (1, ))\n",
        "x_test = x_test / 255.\n",
        "\n",
        "print(f\"Training shape: {x_train.shape}, Training pixel values: {x_train.min(), x_train.max()}\")\n",
        "print(f\"Test shape: {x_test.shape}, Test pixel values: {x_test.min(), x_test.max()}\")"
      ]
    },
    {
      "cell_type": "markdown",
      "metadata": {
        "id": "xRRpm4TkTazy"
      },
      "source": [
        "Now, we import the functions for the computation of the FID, and we test that FID(x_train, x_test) is low.\n",
        "\n",
        "_Note: Computing the FID function requires some minutes. Consequently, it is suggested to comment this cell after you tested once, to reduce the execution time of the notebook. To speed-up the process, after a first use, the function will generate a file containing the value of the activations of the test set, so that it does not have to compute it again every time._ \n",
        "\n",
        "**Remember that, when you use the FID function, the first input MUST be the test set, while the second will be the generated images set.**"
      ]
    },
    {
      "cell_type": "code",
      "execution_count": null,
      "metadata": {
        "colab": {
          "base_uri": "https://localhost:8080/"
        },
        "id": "5dPZU1oiTaz1",
        "outputId": "69cbbbb5-8493-4cf0-f8de-31816c96e854"
      },
      "outputs": [
        {
          "output_type": "stream",
          "name": "stdout",
          "text": [
            "Downloading data from https://storage.googleapis.com/tensorflow/keras-applications/inception_v3/inception_v3_weights_tf_dim_ordering_tf_kernels_notop.h5\n",
            "87910968/87910968 [==============================] - 0s 0us/step\n"
          ]
        }
      ],
      "source": [
        "\"\"\"\n",
        "Do not modify this code. This is just for utilities.\n",
        "\"\"\"\n",
        "\n",
        "import os\n",
        "from tensorflow.keras.applications.inception_v3 import InceptionV3\n",
        "\n",
        "# prepare the inception v3 model\n",
        "model = InceptionV3(include_top=False, pooling='avg', input_shape=(299, 299, 3), weights='imagenet')\n",
        "\n",
        "def get_inception_activations(inps, batch_size=100):\n",
        "    \"\"\"\n",
        "    Compute the activation for the model Inception v3 for a given input 'inps'.\n",
        "\n",
        "    Note: inps is assumed to be normalized in [0, 1].\n",
        "    \"\"\"\n",
        "    n_batches = inps.shape[0] // batch_size\n",
        "\n",
        "    act = np.zeros([inps.shape[0], 2048], dtype=np.float32)\n",
        "    for i in range(n_batches):\n",
        "        # Load a batch of data\n",
        "        inp = inps[i * batch_size:(i + 1) * batch_size]\n",
        "\n",
        "        # Resize each image to match the input shape of Inception v3\n",
        "        inpr = tf.image.resize(inp, (299, 299))\n",
        "\n",
        "        # Resize images in the interval [-1, 1], given that inpr is in [0, 1].\n",
        "        inpr = inpr * 2 - 1 \n",
        "\n",
        "        # Predict the activation\n",
        "        act[i * batch_size:(i + 1) * batch_size] = model.predict(inpr, steps=1)\n",
        "\n",
        "        print(f\"Processed {str((i + 1) * batch_size)} images.\")\n",
        "    return act\n",
        "\n",
        "\n",
        "def get_fid(images1, images2):\n",
        "    \"\"\"\n",
        "    Compute the FID between two sets of images.\n",
        "\n",
        "    Note: it can take several minutes.\n",
        "    \"\"\"\n",
        "    from scipy.linalg import sqrtm\n",
        "\n",
        "    shape = np.shape(images1)[1]\n",
        "    print(\"Computing FID for {} dimensional images\".format(images1.shape))\n",
        "\n",
        "    # Inception v3 requires the input to have 3 channel. If this is not the\n",
        "    # case, just copy the same channel three times.\n",
        "    if images1.shape[-1] == 1:\n",
        "        images1 = np.concatenate([images1, images1, images1], axis=-1)\n",
        "        images2 = np.concatenate([images2, images2, images2], axis=-1)\n",
        "\n",
        "    # activation for true images is always the same: we just compute it once\n",
        "    if os.path.exists(\"act_mu.npy\"):\n",
        "        mu1 = np.load(\"act_mu.npy\")\n",
        "        sigma1 = np.load(\"act_sigma.npy\")\n",
        "    else:\n",
        "        act1 = get_inception_activations(images1)\n",
        "        mu1, sigma1 = act1.mean(axis=0), np.cov(act1, rowvar=False)\n",
        "        np.save(\"act_mu.npy\", mu1)\n",
        "        np.save(\"act_sigma.npy\", sigma1)\n",
        "    print('Done stage 1 of 2')\n",
        "\n",
        "    act2 = get_inception_activations(images2)\n",
        "    mu2, sigma2 = act2.mean(axis=0), np.cov(act2, rowvar=False)\n",
        "    print('Done stage 2 of 2')\n",
        "\n",
        "    # calculate sum squared difference between means\n",
        "    ssdiff = np.sum((mu1 - mu2) ** 2.0)\n",
        "\n",
        "    # compute sqrt of product between cov\n",
        "    covmean = sqrtm(sigma1.dot(sigma2))\n",
        "    # check and correct imaginary numbers from sqrt\n",
        "    if np.iscomplexobj(covmean):\n",
        "        covmean = covmean.real\n",
        "\n",
        "    # calculate score\n",
        "    fid = ssdiff + np.trace(sigma1 + sigma2 - 2.0 * covmean)\n",
        "    return fid"
      ]
    },
    {
      "cell_type": "code",
      "execution_count": null,
      "metadata": {
        "colab": {
          "base_uri": "https://localhost:8080/"
        },
        "id": "OogQ0Wt3Taz7",
        "outputId": "9a8442b5-06db-45c7-99f8-60fcdb6874d7"
      },
      "outputs": [
        {
          "output_type": "stream",
          "name": "stdout",
          "text": [
            "Computing FID for (10000, 32, 32, 1) dimensional images\n",
            "1/1 [==============================] - 23s 23s/step\n",
            "Processed 100 images.\n",
            "1/1 [==============================] - 22s 22s/step\n",
            "Processed 200 images.\n",
            "1/1 [==============================] - 22s 22s/step\n",
            "Processed 300 images.\n",
            "1/1 [==============================] - 22s 22s/step\n",
            "Processed 400 images.\n",
            "1/1 [==============================] - 22s 22s/step\n",
            "Processed 500 images.\n",
            "1/1 [==============================] - 21s 21s/step\n",
            "Processed 600 images.\n",
            "1/1 [==============================] - 22s 22s/step\n",
            "Processed 700 images.\n",
            "1/1 [==============================] - 22s 22s/step\n",
            "Processed 800 images.\n",
            "1/1 [==============================] - 21s 21s/step\n",
            "Processed 900 images.\n",
            "1/1 [==============================] - 22s 22s/step\n",
            "Processed 1000 images.\n",
            "1/1 [==============================] - 22s 22s/step\n",
            "Processed 1100 images.\n",
            "1/1 [==============================] - 22s 22s/step\n",
            "Processed 1200 images.\n",
            "1/1 [==============================] - 22s 22s/step\n",
            "Processed 1300 images.\n",
            "1/1 [==============================] - 22s 22s/step\n",
            "Processed 1400 images.\n",
            "1/1 [==============================] - 21s 21s/step\n",
            "Processed 1500 images.\n",
            "1/1 [==============================] - 22s 22s/step\n",
            "Processed 1600 images.\n",
            "1/1 [==============================] - 21s 21s/step\n",
            "Processed 1700 images.\n",
            "1/1 [==============================] - 22s 22s/step\n",
            "Processed 1800 images.\n",
            "1/1 [==============================] - 21s 21s/step\n",
            "Processed 1900 images.\n",
            "1/1 [==============================] - 22s 22s/step\n",
            "Processed 2000 images.\n",
            "1/1 [==============================] - 22s 22s/step\n",
            "Processed 2100 images.\n",
            "1/1 [==============================] - 21s 21s/step\n",
            "Processed 2200 images.\n",
            "1/1 [==============================] - 22s 22s/step\n",
            "Processed 2300 images.\n",
            "1/1 [==============================] - 22s 22s/step\n",
            "Processed 2400 images.\n",
            "1/1 [==============================] - 22s 22s/step\n",
            "Processed 2500 images.\n",
            "1/1 [==============================] - 22s 22s/step\n",
            "Processed 2600 images.\n",
            "1/1 [==============================] - 21s 21s/step\n",
            "Processed 2700 images.\n",
            "1/1 [==============================] - 22s 22s/step\n",
            "Processed 2800 images.\n",
            "1/1 [==============================] - 21s 21s/step\n",
            "Processed 2900 images.\n",
            "1/1 [==============================] - 22s 22s/step\n",
            "Processed 3000 images.\n",
            "1/1 [==============================] - 22s 22s/step\n",
            "Processed 3100 images.\n",
            "1/1 [==============================] - 20s 20s/step\n",
            "Processed 3200 images.\n",
            "1/1 [==============================] - 22s 22s/step\n",
            "Processed 3300 images.\n",
            "1/1 [==============================] - 21s 21s/step\n",
            "Processed 3400 images.\n",
            "1/1 [==============================] - 22s 22s/step\n",
            "Processed 3500 images.\n",
            "1/1 [==============================] - 21s 21s/step\n",
            "Processed 3600 images.\n",
            "1/1 [==============================] - 22s 22s/step\n",
            "Processed 3700 images.\n",
            "1/1 [==============================] - 21s 21s/step\n",
            "Processed 3800 images.\n",
            "1/1 [==============================] - 22s 22s/step\n",
            "Processed 3900 images.\n",
            "1/1 [==============================] - 21s 21s/step\n",
            "Processed 4000 images.\n",
            "1/1 [==============================] - 22s 22s/step\n",
            "Processed 4100 images.\n",
            "1/1 [==============================] - 22s 22s/step\n",
            "Processed 4200 images.\n",
            "1/1 [==============================] - 20s 20s/step\n",
            "Processed 4300 images.\n",
            "1/1 [==============================] - 22s 22s/step\n",
            "Processed 4400 images.\n",
            "1/1 [==============================] - 21s 21s/step\n",
            "Processed 4500 images.\n",
            "1/1 [==============================] - 22s 22s/step\n",
            "Processed 4600 images.\n",
            "1/1 [==============================] - 22s 22s/step\n",
            "Processed 4700 images.\n",
            "1/1 [==============================] - 20s 20s/step\n",
            "Processed 4800 images.\n",
            "1/1 [==============================] - 22s 22s/step\n",
            "Processed 4900 images.\n",
            "1/1 [==============================] - 22s 22s/step\n",
            "Processed 5000 images.\n",
            "1/1 [==============================] - 20s 20s/step\n",
            "Processed 5100 images.\n",
            "1/1 [==============================] - 22s 22s/step\n",
            "Processed 5200 images.\n",
            "1/1 [==============================] - 21s 21s/step\n",
            "Processed 5300 images.\n",
            "1/1 [==============================] - 22s 22s/step\n",
            "Processed 5400 images.\n",
            "1/1 [==============================] - 20s 20s/step\n",
            "Processed 5500 images.\n",
            "1/1 [==============================] - 22s 22s/step\n",
            "Processed 5600 images.\n",
            "1/1 [==============================] - 20s 20s/step\n",
            "Processed 5700 images.\n",
            "1/1 [==============================] - 22s 22s/step\n",
            "Processed 5800 images.\n",
            "1/1 [==============================] - 20s 20s/step\n",
            "Processed 5900 images.\n",
            "1/1 [==============================] - 22s 22s/step\n",
            "Processed 6000 images.\n",
            "1/1 [==============================] - 20s 20s/step\n",
            "Processed 6100 images.\n",
            "1/1 [==============================] - 22s 22s/step\n",
            "Processed 6200 images.\n",
            "1/1 [==============================] - 20s 20s/step\n",
            "Processed 6300 images.\n",
            "1/1 [==============================] - 22s 22s/step\n",
            "Processed 6400 images.\n",
            "1/1 [==============================] - 21s 21s/step\n",
            "Processed 6500 images.\n",
            "1/1 [==============================] - 22s 22s/step\n",
            "Processed 6600 images.\n",
            "1/1 [==============================] - 21s 21s/step\n",
            "Processed 6700 images.\n",
            "1/1 [==============================] - 21s 21s/step\n",
            "Processed 6800 images.\n",
            "1/1 [==============================] - 21s 21s/step\n",
            "Processed 6900 images.\n",
            "1/1 [==============================] - 21s 21s/step\n",
            "Processed 7000 images.\n",
            "1/1 [==============================] - 22s 22s/step\n",
            "Processed 7100 images.\n",
            "1/1 [==============================] - 21s 21s/step\n",
            "Processed 7200 images.\n",
            "1/1 [==============================] - 22s 22s/step\n",
            "Processed 7300 images.\n",
            "1/1 [==============================] - 21s 21s/step\n",
            "Processed 7400 images.\n",
            "1/1 [==============================] - 22s 22s/step\n",
            "Processed 7500 images.\n",
            "1/1 [==============================] - 22s 22s/step\n",
            "Processed 7600 images.\n",
            "1/1 [==============================] - 21s 21s/step\n",
            "Processed 7700 images.\n",
            "1/1 [==============================] - 22s 22s/step\n",
            "Processed 7800 images.\n",
            "1/1 [==============================] - 21s 21s/step\n",
            "Processed 7900 images.\n",
            "1/1 [==============================] - 22s 22s/step\n",
            "Processed 8000 images.\n",
            "1/1 [==============================] - 21s 21s/step\n",
            "Processed 8100 images.\n",
            "1/1 [==============================] - 21s 21s/step\n",
            "Processed 8200 images.\n",
            "1/1 [==============================] - 22s 22s/step\n",
            "Processed 8300 images.\n",
            "1/1 [==============================] - 22s 22s/step\n",
            "Processed 8400 images.\n",
            "1/1 [==============================] - 21s 21s/step\n",
            "Processed 8500 images.\n",
            "1/1 [==============================] - 22s 22s/step\n",
            "Processed 8600 images.\n",
            "1/1 [==============================] - 22s 22s/step\n",
            "Processed 8700 images.\n",
            "1/1 [==============================] - 22s 22s/step\n",
            "Processed 8800 images.\n",
            "1/1 [==============================] - 21s 21s/step\n",
            "Processed 8900 images.\n",
            "1/1 [==============================] - 22s 22s/step\n",
            "Processed 9000 images.\n",
            "1/1 [==============================] - 21s 21s/step\n",
            "Processed 9100 images.\n",
            "1/1 [==============================] - 22s 22s/step\n",
            "Processed 9200 images.\n",
            "1/1 [==============================] - 21s 21s/step\n",
            "Processed 9300 images.\n",
            "1/1 [==============================] - 22s 22s/step\n",
            "Processed 9400 images.\n",
            "1/1 [==============================] - 21s 21s/step\n",
            "Processed 9500 images.\n",
            "1/1 [==============================] - 22s 22s/step\n",
            "Processed 9600 images.\n",
            "1/1 [==============================] - 21s 21s/step\n",
            "Processed 9700 images.\n",
            "1/1 [==============================] - 22s 22s/step\n",
            "Processed 9800 images.\n",
            "1/1 [==============================] - 22s 22s/step\n",
            "Processed 9900 images.\n",
            "1/1 [==============================] - 22s 22s/step\n",
            "Processed 10000 images.\n",
            "Done stage 1 of 2\n",
            "1/1 [==============================] - 21s 21s/step\n",
            "Processed 100 images.\n",
            "1/1 [==============================] - 22s 22s/step\n",
            "Processed 200 images.\n",
            "1/1 [==============================] - 21s 21s/step\n",
            "Processed 300 images.\n",
            "1/1 [==============================] - 22s 22s/step\n",
            "Processed 400 images.\n",
            "1/1 [==============================] - 22s 22s/step\n",
            "Processed 500 images.\n",
            "1/1 [==============================] - 22s 22s/step\n",
            "Processed 600 images.\n",
            "1/1 [==============================] - 22s 22s/step\n",
            "Processed 700 images.\n",
            "1/1 [==============================] - 22s 22s/step\n",
            "Processed 800 images.\n",
            "1/1 [==============================] - 20s 20s/step\n",
            "Processed 900 images.\n",
            "1/1 [==============================] - 22s 22s/step\n",
            "Processed 1000 images.\n",
            "1/1 [==============================] - 20s 20s/step\n",
            "Processed 1100 images.\n",
            "1/1 [==============================] - 22s 22s/step\n",
            "Processed 1200 images.\n",
            "1/1 [==============================] - 20s 20s/step\n",
            "Processed 1300 images.\n",
            "1/1 [==============================] - 22s 22s/step\n",
            "Processed 1400 images.\n",
            "1/1 [==============================] - 20s 20s/step\n",
            "Processed 1500 images.\n",
            "1/1 [==============================] - 22s 22s/step\n",
            "Processed 1600 images.\n",
            "1/1 [==============================] - 20s 20s/step\n",
            "Processed 1700 images.\n",
            "1/1 [==============================] - 22s 22s/step\n",
            "Processed 1800 images.\n",
            "1/1 [==============================] - 22s 22s/step\n",
            "Processed 1900 images.\n",
            "1/1 [==============================] - 22s 22s/step\n",
            "Processed 2000 images.\n",
            "1/1 [==============================] - 22s 22s/step\n",
            "Processed 2100 images.\n",
            "1/1 [==============================] - 22s 22s/step\n",
            "Processed 2200 images.\n",
            "1/1 [==============================] - 22s 22s/step\n",
            "Processed 2300 images.\n",
            "1/1 [==============================] - 25s 25s/step\n",
            "Processed 2400 images.\n",
            "1/1 [==============================] - 22s 22s/step\n",
            "Processed 2500 images.\n",
            "1/1 [==============================] - 22s 22s/step\n",
            "Processed 2600 images.\n",
            "1/1 [==============================] - 20s 20s/step\n",
            "Processed 2700 images.\n",
            "1/1 [==============================] - 22s 22s/step\n",
            "Processed 2800 images.\n",
            "1/1 [==============================] - 20s 20s/step\n",
            "Processed 2900 images.\n",
            "1/1 [==============================] - 22s 22s/step\n",
            "Processed 3000 images.\n",
            "1/1 [==============================] - 22s 22s/step\n",
            "Processed 3100 images.\n",
            "1/1 [==============================] - 20s 20s/step\n",
            "Processed 3200 images.\n",
            "1/1 [==============================] - 22s 22s/step\n",
            "Processed 3300 images.\n",
            "1/1 [==============================] - 22s 22s/step\n",
            "Processed 3400 images.\n",
            "1/1 [==============================] - 20s 20s/step\n",
            "Processed 3500 images.\n",
            "1/1 [==============================] - 22s 22s/step\n",
            "Processed 3600 images.\n",
            "1/1 [==============================] - 21s 21s/step\n",
            "Processed 3700 images.\n",
            "1/1 [==============================] - 22s 22s/step\n",
            "Processed 3800 images.\n",
            "1/1 [==============================] - 22s 22s/step\n",
            "Processed 3900 images.\n",
            "1/1 [==============================] - 21s 21s/step\n",
            "Processed 4000 images.\n",
            "1/1 [==============================] - 22s 22s/step\n",
            "Processed 4100 images.\n",
            "1/1 [==============================] - 21s 21s/step\n",
            "Processed 4200 images.\n",
            "1/1 [==============================] - 22s 22s/step\n",
            "Processed 4300 images.\n",
            "1/1 [==============================] - 22s 22s/step\n",
            "Processed 4400 images.\n",
            "1/1 [==============================] - 21s 21s/step\n",
            "Processed 4500 images.\n",
            "1/1 [==============================] - 22s 22s/step\n",
            "Processed 4600 images.\n",
            "1/1 [==============================] - 21s 21s/step\n",
            "Processed 4700 images.\n",
            "1/1 [==============================] - 22s 22s/step\n",
            "Processed 4800 images.\n",
            "1/1 [==============================] - 21s 21s/step\n",
            "Processed 4900 images.\n",
            "1/1 [==============================] - 22s 22s/step\n",
            "Processed 5000 images.\n",
            "1/1 [==============================] - 21s 21s/step\n",
            "Processed 5100 images.\n",
            "1/1 [==============================] - 22s 22s/step\n",
            "Processed 5200 images.\n",
            "1/1 [==============================] - 21s 21s/step\n",
            "Processed 5300 images.\n",
            "1/1 [==============================] - 22s 22s/step\n",
            "Processed 5400 images.\n",
            "1/1 [==============================] - 21s 21s/step\n",
            "Processed 5500 images.\n",
            "1/1 [==============================] - 22s 22s/step\n",
            "Processed 5600 images.\n",
            "1/1 [==============================] - 22s 22s/step\n",
            "Processed 5700 images.\n",
            "1/1 [==============================] - 21s 21s/step\n",
            "Processed 5800 images.\n",
            "1/1 [==============================] - 22s 22s/step\n",
            "Processed 5900 images.\n",
            "1/1 [==============================] - 21s 21s/step\n",
            "Processed 6000 images.\n",
            "1/1 [==============================] - 23s 23s/step\n",
            "Processed 6100 images.\n",
            "1/1 [==============================] - 29s 29s/step\n",
            "Processed 6200 images.\n",
            "1/1 [==============================] - 22s 22s/step\n",
            "Processed 6300 images.\n",
            "1/1 [==============================] - 24s 24s/step\n",
            "Processed 6400 images.\n",
            "1/1 [==============================] - 27s 27s/step\n",
            "Processed 6500 images.\n",
            "1/1 [==============================] - 26s 26s/step\n",
            "Processed 6600 images.\n",
            "1/1 [==============================] - 21s 21s/step\n",
            "Processed 6700 images.\n",
            "1/1 [==============================] - 22s 22s/step\n",
            "Processed 6800 images.\n",
            "1/1 [==============================] - 22s 22s/step\n",
            "Processed 6900 images.\n",
            "1/1 [==============================] - 21s 21s/step\n",
            "Processed 7000 images.\n",
            "1/1 [==============================] - 22s 22s/step\n",
            "Processed 7100 images.\n",
            "1/1 [==============================] - 21s 21s/step\n",
            "Processed 7200 images.\n",
            "1/1 [==============================] - 22s 22s/step\n",
            "Processed 7300 images.\n",
            "1/1 [==============================] - 22s 22s/step\n",
            "Processed 7400 images.\n",
            "1/1 [==============================] - 25s 25s/step\n",
            "Processed 7500 images.\n",
            "1/1 [==============================] - 22s 22s/step\n",
            "Processed 7600 images.\n",
            "1/1 [==============================] - 21s 21s/step\n",
            "Processed 7700 images.\n",
            "1/1 [==============================] - 21s 21s/step\n",
            "Processed 7800 images.\n",
            "1/1 [==============================] - 22s 22s/step\n",
            "Processed 7900 images.\n",
            "1/1 [==============================] - 21s 21s/step\n",
            "Processed 8000 images.\n",
            "1/1 [==============================] - 22s 22s/step\n",
            "Processed 8100 images.\n",
            "1/1 [==============================] - 22s 22s/step\n",
            "Processed 8200 images.\n",
            "1/1 [==============================] - 20s 20s/step\n",
            "Processed 8300 images.\n",
            "1/1 [==============================] - 22s 22s/step\n",
            "Processed 8400 images.\n",
            "1/1 [==============================] - 20s 20s/step\n",
            "Processed 8500 images.\n",
            "1/1 [==============================] - 22s 22s/step\n",
            "Processed 8600 images.\n",
            "1/1 [==============================] - 20s 20s/step\n",
            "Processed 8700 images.\n",
            "1/1 [==============================] - 22s 22s/step\n",
            "Processed 8800 images.\n",
            "1/1 [==============================] - 22s 22s/step\n",
            "Processed 8900 images.\n",
            "1/1 [==============================] - 20s 20s/step\n",
            "Processed 9000 images.\n",
            "1/1 [==============================] - 22s 22s/step\n",
            "Processed 9100 images.\n",
            "1/1 [==============================] - 20s 20s/step\n",
            "Processed 9200 images.\n",
            "1/1 [==============================] - 22s 22s/step\n",
            "Processed 9300 images.\n",
            "1/1 [==============================] - 21s 21s/step\n",
            "Processed 9400 images.\n",
            "1/1 [==============================] - 22s 22s/step\n",
            "Processed 9500 images.\n",
            "1/1 [==============================] - 22s 22s/step\n",
            "Processed 9600 images.\n",
            "1/1 [==============================] - 21s 21s/step\n",
            "Processed 9700 images.\n",
            "1/1 [==============================] - 22s 22s/step\n",
            "Processed 9800 images.\n",
            "1/1 [==============================] - 21s 21s/step\n",
            "Processed 9900 images.\n",
            "1/1 [==============================] - 22s 22s/step\n",
            "Processed 10000 images.\n",
            "Done stage 2 of 2\n",
            "FID(x_test, x_train) = 2.6792390024659936\n"
          ]
        }
      ],
      "source": [
        "# Compute the FID between the Test set and (the first 10k images of) Train set (should be low)\n",
        "train_fid = get_fid(x_test, x_train[:10_000])\n",
        "\n",
        "# Print out the results\n",
        "print(f\"FID(x_test, x_train) = {train_fid}\")"
      ]
    },
    {
      "cell_type": "markdown",
      "metadata": {
        "id": "onQ7QgToTaz9"
      },
      "source": [
        "# Good work!"
      ]
    },
    {
      "cell_type": "code",
      "source": [
        "!du -h *"
      ],
      "metadata": {
        "colab": {
          "base_uri": "https://localhost:8080/"
        },
        "id": "N8vay_urN-3Q",
        "outputId": "6f101e09-776c-4b29-e9c5-e773e7a0ef9a"
      },
      "execution_count": null,
      "outputs": [
        {
          "output_type": "stream",
          "name": "stdout",
          "text": [
            "12K\tact_mu.npy\n",
            "33M\tact_sigma.npy\n",
            "55M\tsample_data\n"
          ]
        }
      ]
    },
    {
      "cell_type": "code",
      "source": [
        "from tensorflow import keras \n",
        "from keras.layers import BatchNormalization, Conv2D, Conv2DTranspose, Dense, Dropout, Flatten, Input, MaxPooling2D, ReLU, Rescaling, Reshape\n",
        "from keras.models import Model\n",
        "from keras.optimizers import Adam\n",
        "import time\n",
        "import os"
      ],
      "metadata": {
        "id": "ggtSpoZyylbX"
      },
      "execution_count": 37,
      "outputs": []
    },
    {
      "cell_type": "code",
      "source": [
        "plt.imshow(x_train[2,:,:,0])\n",
        "plt.show()"
      ],
      "metadata": {
        "id": "AwOP1L-eno_O",
        "outputId": "ed41e97c-f8b3-44c1-c52a-e470b7701344",
        "colab": {
          "base_uri": "https://localhost:8080/",
          "height": 430
        }
      },
      "execution_count": 46,
      "outputs": [
        {
          "output_type": "display_data",
          "data": {
            "text/plain": [
              "<Figure size 640x480 with 1 Axes>"
            ],
            "image/png": "[encoded data removed]"
          },
          "metadata": {}
        }
      ]
    },
    {
      "cell_type": "code",
      "source": [
        "class GeneratorDistribution(object):\n",
        "  # source: https://aylien.com/blog/introduction-generative-adversarial-networks-code-tensorflow\n",
        "  \n",
        "  def __init__(self, range):\n",
        "    self.range = range\n",
        "\n",
        "  def sample(self, N):\n",
        "    return np.linspace(-self.range, self.range, N) + np.random.random(N) * 0.01"
      ],
      "metadata": {
        "id": "yILRaKwyJSgO"
      },
      "execution_count": 3,
      "outputs": []
    },
    {
      "cell_type": "markdown",
      "source": [
        "## Generator"
      ],
      "metadata": {
        "id": "Oe0GZKdHbpk5"
      }
    },
    {
      "cell_type": "code",
      "source": [
        "def get_generator_model(input_shape=(100,), output_shape=(32,32)):\n",
        "  \"\"\"\n",
        "  return the model of the generator\n",
        "  parameters:\n",
        "  output_shape is a tuple containing two values\n",
        "  \"\"\"\n",
        "  x = Input(shape=input_shape)\n",
        "\n",
        "  u1 = output_shape[0]//16\n",
        "  h1 = 512\n",
        "  dense = Dense(u1*u1*h1)(x)\n",
        "  norm = BatchNormalization()(dense)\n",
        "  layer = ReLU()(norm)\n",
        "  layer = Reshape((u1, u1, h1))(layer)\n",
        "\n",
        "  for i in range(4):\n",
        "    h1 = h1//2\n",
        "    strides = 1\n",
        "    for i in range(2):\n",
        "      layer = Conv2DTranspose(h1, 3, strides, padding='same')(layer)\n",
        "      layer = BatchNormalization()(layer)\n",
        "      layer = ReLU()(layer)\n",
        "      strides = strides * 2\n",
        "\n",
        "  # for i in range(3):\n",
        "  #   h1 = h1//2\n",
        "  #   u2 = u1*2\n",
        "  #   layer = Conv2DTranspose(h1, 3, 2, padding='same')(layer)\n",
        "\n",
        "  #   for i in range(2):\n",
        "  #     layer = Conv2D(h1, 3, 1, padding='same', activation='relu')(layer)\n",
        "\n",
        "  y = Conv2DTranspose(1,1,1, padding='same', activation='sigmoid')(layer)\n",
        "\n",
        "  model = Model(x, y)\n",
        "  print(model.summary())\n",
        "  return model\n"
      ],
      "metadata": {
        "id": "bnBTklQnEiBJ"
      },
      "execution_count": 4,
      "outputs": []
    },
    {
      "cell_type": "code",
      "source": [
        "generator = get_generator_model()"
      ],
      "metadata": {
        "colab": {
          "base_uri": "https://localhost:8080/"
        },
        "id": "HTCZST6j498C",
        "outputId": "4c1fa529-0f58-4501-8517-1e988d4ed721"
      },
      "execution_count": 48,
      "outputs": [
        {
          "output_type": "stream",
          "name": "stdout",
          "text": [
            "Model: \"model_13\"\n",
            "_________________________________________________________________\n",
            " Layer (type)                Output Shape              Param #   \n",
            "=================================================================\n",
            " input_16 (InputLayer)       [(None, 100)]             0         \n",
            "                                                                 \n",
            " dense_26 (Dense)            (None, 2048)              206848    \n",
            "                                                                 \n",
            " batch_normalization_18 (Bat  (None, 2048)             8192      \n",
            " chNormalization)                                                \n",
            "                                                                 \n",
            " re_lu_18 (ReLU)             (None, 2048)              0         \n",
            "                                                                 \n",
            " reshape_2 (Reshape)         (None, 2, 2, 512)         0         \n",
            "                                                                 \n",
            " conv2d_transpose_18 (Conv2D  (None, 2, 2, 256)        1179904   \n",
            " Transpose)                                                      \n",
            "                                                                 \n",
            " batch_normalization_19 (Bat  (None, 2, 2, 256)        1024      \n",
            " chNormalization)                                                \n",
            "                                                                 \n",
            " re_lu_19 (ReLU)             (None, 2, 2, 256)         0         \n",
            "                                                                 \n",
            " conv2d_transpose_19 (Conv2D  (None, 4, 4, 256)        590080    \n",
            " Transpose)                                                      \n",
            "                                                                 \n",
            " batch_normalization_20 (Bat  (None, 4, 4, 256)        1024      \n",
            " chNormalization)                                                \n",
            "                                                                 \n",
            " re_lu_20 (ReLU)             (None, 4, 4, 256)         0         \n",
            "                                                                 \n",
            " conv2d_transpose_20 (Conv2D  (None, 4, 4, 128)        295040    \n",
            " Transpose)                                                      \n",
            "                                                                 \n",
            " batch_normalization_21 (Bat  (None, 4, 4, 128)        512       \n",
            " chNormalization)                                                \n",
            "                                                                 \n",
            " re_lu_21 (ReLU)             (None, 4, 4, 128)         0         \n",
            "                                                                 \n",
            " conv2d_transpose_21 (Conv2D  (None, 8, 8, 128)        147584    \n",
            " Transpose)                                                      \n",
            "                                                                 \n",
            " batch_normalization_22 (Bat  (None, 8, 8, 128)        512       \n",
            " chNormalization)                                                \n",
            "                                                                 \n",
            " re_lu_22 (ReLU)             (None, 8, 8, 128)         0         \n",
            "                                                                 \n",
            " conv2d_transpose_22 (Conv2D  (None, 8, 8, 64)         73792     \n",
            " Transpose)                                                      \n",
            "                                                                 \n",
            " batch_normalization_23 (Bat  (None, 8, 8, 64)         256       \n",
            " chNormalization)                                                \n",
            "                                                                 \n",
            " re_lu_23 (ReLU)             (None, 8, 8, 64)          0         \n",
            "                                                                 \n",
            " conv2d_transpose_23 (Conv2D  (None, 16, 16, 64)       36928     \n",
            " Transpose)                                                      \n",
            "                                                                 \n",
            " batch_normalization_24 (Bat  (None, 16, 16, 64)       256       \n",
            " chNormalization)                                                \n",
            "                                                                 \n",
            " re_lu_24 (ReLU)             (None, 16, 16, 64)        0         \n",
            "                                                                 \n",
            " conv2d_transpose_24 (Conv2D  (None, 16, 16, 32)       18464     \n",
            " Transpose)                                                      \n",
            "                                                                 \n",
            " batch_normalization_25 (Bat  (None, 16, 16, 32)       128       \n",
            " chNormalization)                                                \n",
            "                                                                 \n",
            " re_lu_25 (ReLU)             (None, 16, 16, 32)        0         \n",
            "                                                                 \n",
            " conv2d_transpose_25 (Conv2D  (None, 32, 32, 32)       9248      \n",
            " Transpose)                                                      \n",
            "                                                                 \n",
            " batch_normalization_26 (Bat  (None, 32, 32, 32)       128       \n",
            " chNormalization)                                                \n",
            "                                                                 \n",
            " re_lu_26 (ReLU)             (None, 32, 32, 32)        0         \n",
            "                                                                 \n",
            " conv2d_transpose_26 (Conv2D  (None, 32, 32, 1)        33        \n",
            " Transpose)                                                      \n",
            "                                                                 \n",
            "=================================================================\n",
            "Total params: 2,569,953\n",
            "Trainable params: 2,563,937\n",
            "Non-trainable params: 6,016\n",
            "_________________________________________________________________\n",
            "None\n"
          ]
        }
      ]
    },
    {
      "cell_type": "code",
      "source": [
        "# image generated without training\n",
        "noise = tf.random.normal([1, 100])\n",
        "generated_image = generator(noise, training=False)\n",
        "plt.imshow(generated_image[0, :, :, 0], cmap='gray')"
      ],
      "metadata": {
        "id": "FizgEja5oc8d",
        "outputId": "50976433-892c-4d37-d344-99763f2793f5",
        "colab": {
          "base_uri": "https://localhost:8080/",
          "height": 447
        }
      },
      "execution_count": 49,
      "outputs": [
        {
          "output_type": "execute_result",
          "data": {
            "text/plain": [
              "<matplotlib.image.AxesImage at 0x7f9d9121cdc0>"
            ]
          },
          "metadata": {},
          "execution_count": 49
        },
        {
          "output_type": "display_data",
          "data": {
            "text/plain": [
              "<Figure size 640x480 with 1 Axes>"
            ],
            "image/png": "[encoded data removed]"
          },
          "metadata": {}
        }
      ]
    },
    {
      "cell_type": "markdown",
      "source": [
        "## Discriminator"
      ],
      "metadata": {
        "id": "RZKXUpgkbvjb"
      }
    },
    {
      "cell_type": "code",
      "source": [
        "def get_discriminator_model(input_shape=(32,32,1)):\n",
        "  x = Input(shape=(input_shape))\n",
        "  layer = Rescaling(1./255)(x)\n",
        "\n",
        "  h1 = 32\n",
        "  for i in range(5):\n",
        "    layer = Conv2D(h1, 3, padding='same', activation='relu')(layer)\n",
        "    layer = Conv2D(h1, 3, padding='same', activation='relu')(layer)\n",
        "    layer = MaxPooling2D((2,2), padding='valid')(layer)\n",
        "    h1 = h1*2\n",
        "  \n",
        "  layer = Dropout(.2)(layer)\n",
        "  layer = Flatten()(layer)\n",
        "  layer = Dense(h1//8, activation='relu')(layer)\n",
        "  # layer = Dense(h1//8, activation='relu')(layer)\n",
        "  \n",
        "  y = Dense(1, activation='sigmoid')(layer)\n",
        "\n",
        "  model = Model(x, y)\n",
        "  print(model.summary())\n",
        "  return model"
      ],
      "metadata": {
        "id": "4X5pMsEJ_y6C"
      },
      "execution_count": 31,
      "outputs": []
    },
    {
      "cell_type": "code",
      "source": [
        "discriminator = get_discriminator_model()"
      ],
      "metadata": {
        "colab": {
          "base_uri": "https://localhost:8080/"
        },
        "id": "J33ghwEAgzCA",
        "outputId": "8afd76e2-60c5-4a0a-997c-3bf6d0213547"
      },
      "execution_count": 32,
      "outputs": [
        {
          "output_type": "stream",
          "name": "stdout",
          "text": [
            "Model: \"model_11\"\n",
            "_________________________________________________________________\n",
            " Layer (type)                Output Shape              Param #   \n",
            "=================================================================\n",
            " input_14 (InputLayer)       [(None, 32, 32, 1)]       0         \n",
            "                                                                 \n",
            " rescaling_12 (Rescaling)    (None, 32, 32, 1)         0         \n",
            "                                                                 \n",
            " conv2d_86 (Conv2D)          (None, 32, 32, 32)        320       \n",
            "                                                                 \n",
            " conv2d_87 (Conv2D)          (None, 32, 32, 32)        9248      \n",
            "                                                                 \n",
            " max_pooling2d_44 (MaxPoolin  (None, 16, 16, 32)       0         \n",
            " g2D)                                                            \n",
            "                                                                 \n",
            " conv2d_88 (Conv2D)          (None, 16, 16, 64)        18496     \n",
            "                                                                 \n",
            " conv2d_89 (Conv2D)          (None, 16, 16, 64)        36928     \n",
            "                                                                 \n",
            " max_pooling2d_45 (MaxPoolin  (None, 8, 8, 64)         0         \n",
            " g2D)                                                            \n",
            "                                                                 \n",
            " conv2d_90 (Conv2D)          (None, 8, 8, 128)         73856     \n",
            "                                                                 \n",
            " conv2d_91 (Conv2D)          (None, 8, 8, 128)         147584    \n",
            "                                                                 \n",
            " max_pooling2d_46 (MaxPoolin  (None, 4, 4, 128)        0         \n",
            " g2D)                                                            \n",
            "                                                                 \n",
            " conv2d_92 (Conv2D)          (None, 4, 4, 256)         295168    \n",
            "                                                                 \n",
            " conv2d_93 (Conv2D)          (None, 4, 4, 256)         590080    \n",
            "                                                                 \n",
            " max_pooling2d_47 (MaxPoolin  (None, 2, 2, 256)        0         \n",
            " g2D)                                                            \n",
            "                                                                 \n",
            " conv2d_94 (Conv2D)          (None, 2, 2, 512)         1180160   \n",
            "                                                                 \n",
            " conv2d_95 (Conv2D)          (None, 2, 2, 512)         2359808   \n",
            "                                                                 \n",
            " max_pooling2d_48 (MaxPoolin  (None, 1, 1, 512)        0         \n",
            " g2D)                                                            \n",
            "                                                                 \n",
            " dropout_10 (Dropout)        (None, 1, 1, 512)         0         \n",
            "                                                                 \n",
            " flatten_10 (Flatten)        (None, 512)               0         \n",
            "                                                                 \n",
            " dense_23 (Dense)            (None, 128)               65664     \n",
            "                                                                 \n",
            " dense_24 (Dense)            (None, 1)                 129       \n",
            "                                                                 \n",
            "=================================================================\n",
            "Total params: 4,777,441\n",
            "Trainable params: 4,777,441\n",
            "Non-trainable params: 0\n",
            "_________________________________________________________________\n",
            "None\n"
          ]
        }
      ]
    },
    {
      "cell_type": "markdown",
      "source": [
        "## Loss function and optimizers"
      ],
      "metadata": {
        "id": "hZ1U4Fz7kPL5"
      }
    },
    {
      "cell_type": "code",
      "source": [
        "!mkdir training_checkpoints"
      ],
      "metadata": {
        "id": "aGQQTr-LkHbM"
      },
      "execution_count": 34,
      "outputs": []
    },
    {
      "cell_type": "code",
      "source": [
        "cross_entropy = tf.keras.losses.BinaryCrossentropy(from_logits=True)\n",
        "\n",
        "def discriminator_loss(real_output, fake_output):\n",
        "    real_loss = cross_entropy(tf.ones_like(real_output), real_output)\n",
        "    fake_loss = cross_entropy(tf.zeros_like(fake_output), fake_output)\n",
        "    total_loss = real_loss + fake_loss\n",
        "    return total_loss\n",
        "\n",
        "def generator_loss(fake_output):\n",
        "    return cross_entropy(tf.ones_like(fake_output), fake_output)\n",
        "\n",
        "generator_optimizer = tf.keras.optimizers.Adam(1e-4)\n",
        "discriminator_optimizer = tf.keras.optimizers.Adam(1e-4)\n"
      ],
      "metadata": {
        "id": "cn5ptbkWjy_5"
      },
      "execution_count": 35,
      "outputs": []
    },
    {
      "cell_type": "code",
      "source": [
        "checkpoint_dir = './training_checkpoints'\n",
        "checkpoint_prefix = os.path.join(checkpoint_dir, \"ckpt\")\n",
        "checkpoint = tf.train.Checkpoint(generator_optimizer=generator_optimizer,\n",
        "                                 discriminator_optimizer=discriminator_optimizer,\n",
        "                                 generator=generator,\n",
        "                                 discriminator=discriminator)\n"
      ],
      "metadata": {
        "id": "_8NF1mXLkLlE"
      },
      "execution_count": 38,
      "outputs": []
    },
    {
      "cell_type": "markdown",
      "source": [
        "## Training"
      ],
      "metadata": {
        "id": "LwnRSdwdkc1O"
      }
    },
    {
      "cell_type": "code",
      "source": [
        "EPOCHS = 50\n",
        "noise_dim = 100\n",
        "num_examples_to_generate = 16\n",
        "BATCH_SIZE = num_examples_to_generate\n",
        "\n",
        "# You will reuse this seed overtime (so it's easier)\n",
        "# to visualize progress in the animated GIF)\n",
        "seed = tf.random.normal([num_examples_to_generate, noise_dim])\n"
      ],
      "metadata": {
        "id": "4wR28yNLkgFI"
      },
      "execution_count": 39,
      "outputs": []
    },
    {
      "cell_type": "code",
      "source": [
        "# Notice the use of `tf.function`\n",
        "# This annotation causes the function to be \"compiled\".\n",
        "@tf.function\n",
        "def train_step(images):\n",
        "    noise = tf.random.normal([BATCH_SIZE, noise_dim])\n",
        "\n",
        "    with tf.GradientTape() as gen_tape, tf.GradientTape() as disc_tape:\n",
        "      generated_images = generator(noise, training=True)\n",
        "\n",
        "      real_output = discriminator(images, training=True)\n",
        "      fake_output = discriminator(generated_images, training=True)\n",
        "\n",
        "      gen_loss = generator_loss(fake_output)\n",
        "      disc_loss = discriminator_loss(real_output, fake_output)\n",
        "\n",
        "    gradients_of_generator = gen_tape.gradient(gen_loss, generator.trainable_variables)\n",
        "    gradients_of_discriminator = disc_tape.gradient(disc_loss, discriminator.trainable_variables)\n",
        "\n",
        "    generator_optimizer.apply_gradients(zip(gradients_of_generator, generator.trainable_variables))\n",
        "    discriminator_optimizer.apply_gradients(zip(gradients_of_discriminator, discriminator.trainable_variables))\n"
      ],
      "metadata": {
        "id": "ebkSSrMAlAij"
      },
      "execution_count": 40,
      "outputs": []
    },
    {
      "cell_type": "code",
      "source": [
        "def train(dataset, epochs):\n",
        "  for epoch in range(epochs):\n",
        "    start = time.time()\n",
        "\n",
        "    for image_batch in dataset:\n",
        "      train_step(image_batch)\n",
        "\n",
        "    # Produce images for the GIF as you go\n",
        "    # display.clear_output(wait=True)\n",
        "    # generate_and_save_images(generator,epoch + 1,seed)\n",
        "\n",
        "    # Save the model every 15 epochs\n",
        "    if (epoch + 1) % 15 == 0:\n",
        "      checkpoint.save(file_prefix = checkpoint_prefix)\n",
        "\n",
        "    print ('Time for epoch {} is {} sec'.format(epoch + 1, time.time()-start))\n",
        "\n",
        "  # Generate after the final epoch\n",
        "  # display.clear_output(wait=True)\n",
        "  # generate_and_save_images(generator,epochs,seed)\n",
        "\n",
        "def generate_and_save_images(model, epoch, test_input):\n",
        "  # Notice `training` is set to False.\n",
        "  # This is so all layers run in inference mode (batchnorm).\n",
        "  predictions = model(test_input, training=False)\n",
        "\n",
        "  fig = plt.figure(figsize=(4, 4))\n",
        "\n",
        "  for i in range(predictions.shape[0]):\n",
        "      plt.subplot(4, 4, i+1)\n",
        "      plt.imshow(predictions[i, :, :, 0] * 127.5 + 127.5, cmap='gray')\n",
        "      plt.axis('off')\n",
        "\n",
        "  plt.savefig('image_at_epoch_{:04d}.png'.format(epoch))\n",
        "  plt.show()\n"
      ],
      "metadata": {
        "id": "lr9ex2qZlEMx"
      },
      "execution_count": 41,
      "outputs": []
    },
    {
      "cell_type": "code",
      "source": [
        "train(x_train, EPOCHS)\n"
      ],
      "metadata": {
        "id": "jTBxIjfemc7M"
      },
      "execution_count": null,
      "outputs": []
    }
  ],
  "metadata": {
    "kernelspec": {
      "display_name": "Python 3.8.11 ('ml')",
      "language": "python",
      "name": "python3"
    },
    "language_info": {
      "codemirror_mode": {
        "name": "ipython",
        "version": 3
      },
      "file_extension": ".py",
      "mimetype": "text/x-python",
      "name": "python",
      "nbconvert_exporter": "python",
      "pygments_lexer": "ipython3",
      "version": "3.8.11"
    },
    "orig_nbformat": 4,
    "vscode": {
      "interpreter": {
        "hash": "2db16da740494d35c7f3749582ea0fec8725a5f0d9e976cf583dd1041e9a5f0f"
      }
    },
    "colab": {
      "provenance": []
    }
  },
  "nbformat": 4,
  "nbformat_minor": 0
}