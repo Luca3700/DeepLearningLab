{
  "nbformat": 4,
  "nbformat_minor": 0,
  "metadata": {
    "colab": {
      "provenance": []
    },
    "kernelspec": {
      "name": "python3",
      "display_name": "Python 3"
    },
    "language_info": {
      "name": "python"
    }
  },
  "cells": [
    {
      "cell_type": "markdown",
      "source": [
        "The purpose of the project is to learn the mapping from polar coordinates to a a discrete 10x10 grid of cells in the plane, using a neural network. \n",
        "\n",
        "The supervised dataset is given to you in the form of a generator (to be considered as a black box).\n",
        "\n",
        "The model must achieve an accuracy of 95%, and it will be evaluated in a way **inversely proportional to the number of its parameters: the smaller, the better.**\n",
        "\n",
        "**WARNING**: Any solution taking advantage of meta-knowledge about the generator will be automatically rejected."
      ],
      "metadata": {
        "id": "Zw_326KLT9dF"
      }
    },
    {
      "cell_type": "code",
      "execution_count": 1,
      "metadata": {
        "id": "ynz-4_4cFmbJ"
      },
      "outputs": [],
      "source": [
        "import numpy as np\n",
        "import tensorflow as tf\n",
        "from tensorflow.keras.layers import Input, Dense, Reshape, concatenate\n",
        "from tensorflow.keras.models import Model"
      ]
    },
    {
      "cell_type": "markdown",
      "source": [
        "Here is the generator. It returns triples of the form ((theta,rho),out) where (theta,rho) are the polar coordinates of a point in the first quadrant of the plane, and out is a 10x10 map with \"1\" in the cell corresponding to the point position, and \"0\" everywhere else.\n",
        "\n",
        "By setting flat=True, the resulting map is flattened into a vector with a single dimension 100. You can use this variant, if you wish. "
      ],
      "metadata": {
        "id": "iA01pkKbUt7Q"
      }
    },
    {
      "cell_type": "code",
      "source": [
        "def polar_generator(batchsize,grid=(10,10),noise=.002,flat=False):\n",
        "  while True:\n",
        "    x = np.random.rand(batchsize)\n",
        "    y = np.random.rand(batchsize)\n",
        "    out = np.zeros((batchsize,grid[0],grid[1]))\n",
        "    xc = (x*grid[0]).astype(int)\n",
        "    yc = (y*grid[1]).astype(int)\n",
        "    for b in range(batchsize):\n",
        "      out[b,xc[b],yc[b]] = 1\n",
        "    #compute rho and theta and add some noise\n",
        "    rho = np.sqrt(x**2+y**2) + np.random.normal(scale=noise)\n",
        "    theta = np.arctan(y/np.maximum(x,.00001)) + np.random.normal(scale=noise)\n",
        "    if flat:\n",
        "      out = np.reshape(out,(batchsize,grid[0]*grid[1]))\n",
        "    yield ((theta,rho),out)"
      ],
      "metadata": {
        "id": "DsA1GqAeWAdo"
      },
      "execution_count": 2,
      "outputs": []
    },
    {
      "cell_type": "markdown",
      "source": [
        "Let's create an instance of the generator on a grid with dimension 3x4"
      ],
      "metadata": {
        "id": "ZF-jlaqAWc2o"
      }
    },
    {
      "cell_type": "code",
      "source": [
        "g1,g2 = 3,4\n",
        "gen = polar_generator(1,grid=(g1,g2),noise=0.0)"
      ],
      "metadata": {
        "id": "Ov3rXaLVHDCT"
      },
      "execution_count": 3,
      "outputs": []
    },
    {
      "cell_type": "markdown",
      "source": [
        "And now let's see a few samples."
      ],
      "metadata": {
        "id": "b4hntQtSWjPk"
      }
    },
    {
      "cell_type": "code",
      "source": [
        "(theta,rho),maps = next(gen)\n",
        "for i,map in enumerate(maps):\n",
        "  #let us compute the cartesian coordinates\n",
        "  x = np.cos(theta[i])*rho[i]\n",
        "  y = np.sin(theta[i])*rho[i]\n",
        "  print(\"x coordinate (row): {}\".format(int(x*g1)))\n",
        "  print(\"y coordinate (col): {}\".format(int(y*g2)))\n",
        "  print(\"map:\")\n",
        "  print(np.reshape(map,(g1,g2)))"
      ],
      "metadata": {
        "colab": {
          "base_uri": "https://localhost:8080/"
        },
        "id": "PM7R8ZZZHN7p",
        "outputId": "92c37cd5-6f7e-4d40-d57c-c4a132a739d2"
      },
      "execution_count": 4,
      "outputs": [
        {
          "output_type": "stream",
          "name": "stdout",
          "text": [
            "x coordinate (row): 0\n",
            "y coordinate (col): 1\n",
            "map:\n",
            "[[0. 1. 0. 0.]\n",
            " [0. 0. 0. 0.]\n",
            " [0. 0. 0. 0.]]\n"
          ]
        }
      ]
    },
    {
      "cell_type": "markdown",
      "source": [
        "Exercise: add noise to the generator, and check the effect on the \"ground truth\"."
      ],
      "metadata": {
        "id": "NTY5fu8Hg7RE"
      }
    },
    {
      "cell_type": "markdown",
      "source": [
        "# What to deliver\n",
        "\n",
        "For the purposes of the project you are supposed to work with the **default 10x10 grid, and the default noise=.002**\n",
        "\n",
        "The generator must be treatead as a black box, do not tweak it, and do not exploit its semantics that is supposed to be unknown. You are allowed to work with the \"flat\" modality, if you prefer so.\n",
        "\n",
        "You need to:\n",
        "1.   define an accuracy function (take inspiration from the code of the previous cell)\n",
        "2.   define a neural network taking in input theta and rho, and returning out\n",
        "3. measure the network's accuracy that must be above 95% (accuracy must be evaluated over at least 20000 samples)\n",
        "4. tune the network trying to decrease as much as possible the numer of parameters, preserving an accuracy above 95%. Only your best network must be delivered.\n",
        "\n",
        "You must deliver a SINGLE notebook working on colab, containing the code of the network, its summary, the training history, the code for the accurary metric and its evaluation on the network.\n",
        "\n",
        "**N.B.** The accuracy must be above 95% but apart from that it does not influence the evaluation. You score will only depend on the number of parameters: the lower, the better.\n",
        "\n",
        "#Good work!\n",
        "\n",
        "\n",
        "\n"
      ],
      "metadata": {
        "id": "jj4akvA24maJ"
      }
    },
    {
      "cell_type": "code",
      "source": [
        "from tensorflow.keras.layers import Concatenate\n",
        "from tensorflow.keras.optimizers.experimental import AdamW"
      ],
      "metadata": {
        "id": "_pjE0IGoyVW-"
      },
      "execution_count": 21,
      "outputs": []
    },
    {
      "cell_type": "code",
      "source": [
        "def get_network(output_shape=(10,10)):\n",
        "  #theta, ro = theta_ro\n",
        "  out1, out2 = output_shape\n",
        "  out_area = out1 * out2\n",
        "\n",
        "  input1 = Input(shape=(1,))\n",
        "  input2 = Input(shape=(1,))\n",
        "  merged = concatenate([input1, input2])\n",
        "\n",
        "  #inputs = concatenate([theta, ro])\n",
        "  #x = Input(shape=input_shape)\n",
        "  d1 = Dense(out_area, activation='relu')(merged)\n",
        "  d2 = Dense(out_area, activation='softmax')(d1)\n",
        "  \n",
        "  model = Model(inputs=[input1, input2], outputs=d2)\n",
        "  print(model.summary())\n",
        "  return model\n"
      ],
      "metadata": {
        "id": "iQlY1kqcypBe"
      },
      "execution_count": 39,
      "outputs": []
    },
    {
      "cell_type": "code",
      "source": [
        "net = get_network(output_shape=(3,3))\n",
        "learning_rate = 1e-3\n",
        "weight_decay = 1e-4\n",
        "\n",
        "net.compile(\n",
        "    optimizer=AdamW(learning_rate=learning_rate, weight_decay=weight_decay),\n",
        "    loss='mse'\n",
        ")\n"
      ],
      "metadata": {
        "id": "qT52b_0w1Z4R",
        "outputId": "7dbaba36-e626-441e-c220-dba2e8480307",
        "colab": {
          "base_uri": "https://localhost:8080/"
        }
      },
      "execution_count": 41,
      "outputs": [
        {
          "output_type": "stream",
          "name": "stdout",
          "text": [
            "Model: \"model_8\"\n",
            "__________________________________________________________________________________________________\n",
            " Layer (type)                   Output Shape         Param #     Connected to                     \n",
            "==================================================================================================\n",
            " input_15 (InputLayer)          [(None, 1)]          0           []                               \n",
            "                                                                                                  \n",
            " input_16 (InputLayer)          [(None, 1)]          0           []                               \n",
            "                                                                                                  \n",
            " concatenate_5 (Concatenate)    (None, 2)            0           ['input_15[0][0]',               \n",
            "                                                                  'input_16[0][0]']               \n",
            "                                                                                                  \n",
            " dense_16 (Dense)               (None, 9)            27          ['concatenate_5[0][0]']          \n",
            "                                                                                                  \n",
            " dense_17 (Dense)               (None, 9)            90          ['dense_16[0][0]']               \n",
            "                                                                                                  \n",
            "==================================================================================================\n",
            "Total params: 117\n",
            "Trainable params: 117\n",
            "Non-trainable params: 0\n",
            "__________________________________________________________________________________________________\n",
            "None\n"
          ]
        }
      ]
    },
    {
      "cell_type": "code",
      "source": [
        "BATCH_SIZE = 128\n",
        "\n",
        "# history = net.fit_generator(polar_generator(BATCH_SIZE), steps_per_epoch=1000, epochs=10)\n",
        "history = net.fit(polar_generator(BATCH_SIZE, grid=(3,3), flat=True), batch_size = BATCH_SIZE, steps_per_epoch=1000, epochs=10)"
      ],
      "metadata": {
        "id": "DCILuGA53OgB",
        "outputId": "57bc6c35-2409-44c9-9597-782903c44d24",
        "colab": {
          "base_uri": "https://localhost:8080/"
        }
      },
      "execution_count": 42,
      "outputs": [
        {
          "output_type": "stream",
          "name": "stdout",
          "text": [
            "Epoch 1/10\n",
            "1000/1000 [==============================] - 4s 3ms/step - loss: 0.0873\n",
            "Epoch 2/10\n",
            "1000/1000 [==============================] - 2s 2ms/step - loss: 0.0560\n",
            "Epoch 3/10\n",
            "1000/1000 [==============================] - 2s 2ms/step - loss: 0.0377\n",
            "Epoch 4/10\n",
            "1000/1000 [==============================] - 2s 2ms/step - loss: 0.0286\n",
            "Epoch 5/10\n",
            "1000/1000 [==============================] - 3s 3ms/step - loss: 0.0237\n",
            "Epoch 6/10\n",
            "1000/1000 [==============================] - 3s 3ms/step - loss: 0.0205\n",
            "Epoch 7/10\n",
            "1000/1000 [==============================] - 2s 2ms/step - loss: 0.0184\n",
            "Epoch 8/10\n",
            "1000/1000 [==============================] - 2s 2ms/step - loss: 0.0166\n",
            "Epoch 9/10\n",
            "1000/1000 [==============================] - 2s 2ms/step - loss: 0.0154\n",
            "Epoch 10/10\n",
            "1000/1000 [==============================] - 2s 2ms/step - loss: 0.0145\n"
          ]
        }
      ]
    },
    {
      "cell_type": "code",
      "source": [
        "def test_net(net, gener):\n",
        "  (theta,rho),maps = next(gener)\n",
        "  pred = net.predict((theta,rho))\n",
        "  print(maps, \"\\n\", pred.reshape((3,3)))\n",
        "test_net(net, polar_generator(1, grid=(3,3)))"
      ],
      "metadata": {
        "id": "HVxmA6mc6cc4",
        "outputId": "f649ae1c-d024-45ae-d100-588c7f37f7ef",
        "colab": {
          "base_uri": "https://localhost:8080/"
        }
      },
      "execution_count": 43,
      "outputs": [
        {
          "output_type": "stream",
          "name": "stdout",
          "text": [
            "1/1 [==============================] - 0s 66ms/step\n",
            "[[[1. 0. 0.]\n",
            "  [0. 0. 0.]\n",
            "  [0. 0. 0.]]] \n",
            " [[5.9022355e-01 7.6186620e-02 3.1770026e-06]\n",
            " [1.0311723e-01 2.3043618e-01 3.2721939e-05]\n",
            " [8.6622212e-09 5.5623303e-07 2.0218083e-09]]\n"
          ]
        }
      ]
    }
  ]
}