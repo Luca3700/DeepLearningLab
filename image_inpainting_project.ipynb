{
  "nbformat": 4,
  "nbformat_minor": 0,
  "metadata": {
    "colab": {
      "provenance": [],
      "gpuType": "T4",
      "toc_visible": true
    },
    "kernelspec": {
      "name": "python3",
      "display_name": "Python 3"
    },
    "language_info": {
      "name": "python"
    },
    "accelerator": "GPU"
  },
  "cells": [
    {
      "cell_type": "markdown",
      "source": [
        "# Image inpainting over CIFAR-10\n",
        "\n",
        "The purpose of this project is to build and train a neural network for image inpainting over the CIFAR-10 dataset. \n",
        "\n",
        "Inpainting is a restauration process where damaged, deteriorated, or missing parts of an artwork are filled in to present a complete image.\n",
        "\n",
        "In our case, we create the portion of the image to be filled in by cropping a fixed size rectangular area from CIFAR-10 images.\n",
        "\n",
        "The networks must be trained over the training set, and tested on the test set.\n",
        "You can split the train set into a validation set, if you wish.\n",
        "\n",
        "The metrics that will be used to evaluate you result is Mean Square Error."
      ],
      "metadata": {
        "id": "E3r4iIy5PD4_"
      }
    },
    {
      "cell_type": "code",
      "execution_count": 1,
      "metadata": {
        "id": "ZwLQl0kGWwbJ"
      },
      "outputs": [],
      "source": [
        "import tensorflow as tf\n",
        "import numpy as np\n",
        "import matplotlib.pyplot as plt"
      ]
    },
    {
      "cell_type": "code",
      "source": [
        "from tensorflow.keras import layers, models, metrics\n",
        "from tensorflow.keras.datasets import cifar10"
      ],
      "metadata": {
        "id": "nczjezDqXD4Q"
      },
      "execution_count": 2,
      "outputs": []
    },
    {
      "cell_type": "markdown",
      "source": [
        "Here we load the dataset."
      ],
      "metadata": {
        "id": "_tTZ5pBIREKu"
      }
    },
    {
      "cell_type": "code",
      "source": [
        "(x_train, y_train), (x_test, y_test) = cifar10.load_data()\n",
        "print(\"image range is {}, {}\".format(np.min(x_test,axis=(0,1,2,3)),np.max(x_test,axis=(0,1,2,3))))\n",
        "x_train = (x_train/255.).astype(np.float32)\n",
        "x_test = (x_test/255.).astype(np.float32)\n",
        "print(\"new image range is {}, {}\".format(np.min(x_test,axis=(0,1,2,3)),np.max(x_test,axis=(0,1,2,3))))"
      ],
      "metadata": {
        "id": "-pojWDC2Xca5",
        "colab": {
          "base_uri": "https://localhost:8080/"
        },
        "outputId": "36ff5e83-8582-46d4-f6c2-d0224b210091"
      },
      "execution_count": 3,
      "outputs": [
        {
          "output_type": "stream",
          "name": "stdout",
          "text": [
            "Downloading data from https://www.cs.toronto.edu/~kriz/cifar-10-python.tar.gz\n",
            "170498071/170498071 [==============================] - 6s 0us/step\n",
            "image range is 0, 255\n",
            "new image range is 0.0, 1.0\n"
          ]
        }
      ]
    },
    {
      "cell_type": "markdown",
      "source": [
        "Let's see some examples."
      ],
      "metadata": {
        "id": "34F_YSoxRNet"
      }
    },
    {
      "cell_type": "code",
      "source": [
        "plt.imshow(x_test[1])\n",
        "plt.show()\n",
        "print(x_train[0].shape)"
      ],
      "metadata": {
        "colab": {
          "base_uri": "https://localhost:8080/",
          "height": 447
        },
        "id": "PMHeUj9PXr02",
        "outputId": "41b7bdfa-d617-4578-8090-7f3ea64d8087"
      },
      "execution_count": null,
      "outputs": [
        {
          "output_type": "display_data",
          "data": {
            "text/plain": [
              "<Figure size 640x480 with 1 Axes>"
            ],
            "image/png": "[encoded data removed]"
          },
          "metadata": {}
        },
        {
          "output_type": "stream",
          "name": "stdout",
          "text": [
            "(32, 32, 3)\n"
          ]
        }
      ]
    },
    {
      "cell_type": "markdown",
      "source": [
        "Now we hide a portion of the input, and the purpose of the network is to reconstruct it."
      ],
      "metadata": {
        "id": "s8lEb7qPYfNA"
      }
    },
    {
      "cell_type": "code",
      "source": [
        "def mask(X,coords):\n",
        "  x0,y0,x1,y1 = coords\n",
        "  X[:,x0:x1,y0:y1] = 0\n",
        "  return X\n",
        "\n",
        "masked_x_train = mask(np.copy(x_train),(2,16,30,30))\n",
        "masked_x_test = mask(np.copy(x_test),(2,16,30,30))"
      ],
      "metadata": {
        "id": "pMUI16TxYdbz"
      },
      "execution_count": 4,
      "outputs": []
    },
    {
      "cell_type": "code",
      "source": [
        "plt.imshow(masked_x_test[1])\n",
        "plt.show()"
      ],
      "metadata": {
        "colab": {
          "base_uri": "https://localhost:8080/",
          "height": 430
        },
        "id": "Vk9gGjGIZ5aG",
        "outputId": "2e020780-85bc-415a-8091-96af36820605"
      },
      "execution_count": null,
      "outputs": [
        {
          "output_type": "display_data",
          "data": {
            "text/plain": [
              "<Figure size 640x480 with 1 Axes>"
            ],
            "image/png": "[encoded data removed]"
          },
          "metadata": {}
        }
      ]
    },
    {
      "cell_type": "markdown",
      "source": [
        "# Approaches and evaluation\n",
        "\n",
        "The network is supposed to take in input the masked image and fill in the missing part. \n",
        "\n",
        "You may basically follow two main approaches:\n",
        "*   either you return the full image\n",
        "*   you just return the missing crop\n",
        "\n",
        "In the first case, the mse is to be evaluated on the full image; in the second case just on the crop (since on the reamining part is 0). \n",
        "\n",
        "If you want to take a different approach, you can ask for my approuval.\n",
        "\n"
      ],
      "metadata": {
        "id": "H1LA9tOFRr3q"
      }
    },
    {
      "cell_type": "markdown",
      "source": [
        "# What to deliver\n",
        "\n",
        "As usual, you are supposed to deliver a single notebook comprising the code, the training history, and the evaluation on test data in terms of Mean Square Error.\n",
        "\n",
        "Good work!"
      ],
      "metadata": {
        "id": "ClTRv3Myikkg"
      }
    },
    {
      "cell_type": "markdown",
      "source": [
        "# Setup"
      ],
      "metadata": {
        "id": "ybkbLFpKpKcM"
      }
    },
    {
      "cell_type": "code",
      "source": [
        "from tensorflow.keras.layers import BatchNormalization, concatenate, Conv2D, Conv2DTranspose, Dense, Dropout, Flatten, Input, Lambda, LeakyReLU, MaxPooling2D, ReLU, Rescaling, Reshape\n",
        "from tensorflow.keras.models import Model\n",
        "from tensorflow.keras.callbacks import EarlyStopping\n",
        "from tensorflow.keras.optimizers import Adam"
      ],
      "metadata": {
        "id": "2Y_mXxoWblfL"
      },
      "execution_count": 5,
      "outputs": []
    },
    {
      "cell_type": "code",
      "source": [
        "#replace_black_box = lambda img, rep: np.where(img[:, 10:21, 10:21] == 0, rep[:, 10:21, 10:21], img)\n",
        "#replace_black_box = lambda img, new_img: img.copy()[:, 10:21, 10:21] = new_img[:, 10:21, 10:21]\n",
        "# replace_black_box = lambda x: tf.where(x[0][:, 10:21, 10:21] == 0, x[1][:, 10:21, 10:21], x[0][:, 10:21, 10:21])\n",
        "replace_black_box = lambda x: np.where(x[0][:] == 0, x[1][:], x[0][:])\n",
        "\n",
        "# def mask(X,coords):\n",
        "#   x0,y0,x1,y1 = coords\n",
        "#   X[:,x0:x1,y0:y1] = 0\n",
        "#   return X\n",
        "\n",
        "# masked_x_train = mask(np.copy(x_train),(2,16,30,30))\n",
        "# masked_x_test = mask(np.copy(x_test),(2,16,30,30))\n",
        "\n",
        "a = replace_black_box([masked_x_train[0], x_train[0]])\n",
        "print(a.shape)\n",
        "plt.figure(figsize=(15, 8))\n",
        "\n",
        "plt.imshow(a)\n",
        "\n",
        "plt.show()"
      ],
      "metadata": {
        "colab": {
          "base_uri": "https://localhost:8080/",
          "height": 693
        },
        "id": "z7qwxjC4sGYN",
        "outputId": "0db3ef59-d371-44b9-ece9-226c3e616433"
      },
      "execution_count": null,
      "outputs": [
        {
          "output_type": "stream",
          "name": "stdout",
          "text": [
            "(32, 32, 3)\n"
          ]
        },
        {
          "output_type": "display_data",
          "data": {
            "text/plain": [
              "<Figure size 1500x800 with 1 Axes>"
            ],
            "image/png": "[encoded data removed]"
          },
          "metadata": {}
        }
      ]
    },
    {
      "cell_type": "markdown",
      "source": [
        "# Network"
      ],
      "metadata": {
        "id": "L_1g7-L3pMkK"
      }
    },
    {
      "cell_type": "code",
      "source": [
        "def get_network(input_shape=(32,32,3), n_ch=32, num_layer=4, num_loop_per_layer=2):\n",
        "  #crop_input = Lambda(lambda x: x[:,2:30,16:30])\n",
        "  # replace_black_box = Lambda(lambda img, rep: np.where(img[:, 10:21, 10:21] == 0, rep[:, 10:21, 10:21], img))\n",
        "  replace_black_box = Lambda(lambda x: tf.where(x[0][:] == 0, x[1][:], x[0][:]))\n",
        "\n",
        "  # x_out = 14\n",
        "  # y_out = 28\n",
        "\n",
        "  x = Input(input_shape)\n",
        "  #x = crop_input(x)\n",
        "  c1 = x\n",
        "  backup_layers = []\n",
        "\n",
        "  for i in range(num_layer):\n",
        "\n",
        "    for j in range(num_loop_per_layer):\n",
        "      c1 = Conv2D(n_ch, kernel_size=3, padding='same')(c1)\n",
        "      # c1 = BatchNormalization()(c1)\n",
        "      if i == 0:\n",
        "        c1 = LeakyReLU()(c1)\n",
        "      else:\n",
        "        c1 = ReLU()(c1)\n",
        "\n",
        "      if j < num_loop_per_layer - 1:\n",
        "        c1 = Dropout(0.2)(c1)\n",
        "\n",
        "    if (i < num_layer - 1):\n",
        "      backup_layers.append(c1)\n",
        "      c1 = MaxPooling2D(padding='same')(c1)\n",
        "\n",
        "      n_ch *= 2\n",
        "\n",
        "\n",
        "  for i in range(num_layer - 1):\n",
        "    n_ch = n_ch // 2\n",
        "    c1 = Conv2DTranspose(n_ch, 3, 2, padding='same')(c1)\n",
        "    c1 = concatenate([c1, backup_layers.pop(-1)])\n",
        "\n",
        "    for j in range(num_loop_per_layer):\n",
        "      c1 = Conv2D(n_ch, 3, 1, padding='same')(c1)\n",
        "\n",
        "      if i == num_layer - 2:\n",
        "        c1 = LeakyReLU()(c1)\n",
        "      else:\n",
        "        c1 = ReLU()(c1)\n",
        "\n",
        "      if j < num_loop_per_layer - 1:\n",
        "        c1 = Dropout(0.2)(c1)\n",
        "\n",
        "  y = Conv2D(3,1, activation='sigmoid')(c1)\n",
        "  y = replace_black_box([x,y]) \n",
        "\n",
        "  model = Model(x,y)\n",
        "  print(model.summary())\n",
        "  return model\n"
      ],
      "metadata": {
        "id": "2U3Pn-apb2Rq"
      },
      "execution_count": 21,
      "outputs": []
    },
    {
      "cell_type": "code",
      "source": [
        "network = get_network(n_ch=32, num_layer=4, num_loop_per_layer=2)\n",
        "\n",
        "network.compile(optimizer=Adam(learning_rate=1e-4),\n",
        "                  loss='mean_absolute_error',\n",
        "                  metrics=['mse'])"
      ],
      "metadata": {
        "colab": {
          "base_uri": "https://localhost:8080/"
        },
        "id": "Aap2tvYwiLvK",
        "outputId": "3cce398b-684f-4fc1-cba3-0c21280c6153"
      },
      "execution_count": 22,
      "outputs": [
        {
          "output_type": "stream",
          "name": "stdout",
          "text": [
            "Model: \"model_3\"\n",
            "__________________________________________________________________________________________________\n",
            " Layer (type)                   Output Shape         Param #     Connected to                     \n",
            "==================================================================================================\n",
            " input_4 (InputLayer)           [(None, 32, 32, 3)]  0           []                               \n",
            "                                                                                                  \n",
            " conv2d_45 (Conv2D)             (None, 32, 32, 32)   896         ['input_4[0][0]']                \n",
            "                                                                                                  \n",
            " leaky_re_lu_32 (LeakyReLU)     (None, 32, 32, 32)   0           ['conv2d_45[0][0]']              \n",
            "                                                                                                  \n",
            " dropout_15 (Dropout)           (None, 32, 32, 32)   0           ['leaky_re_lu_32[0][0]']         \n",
            "                                                                                                  \n",
            " conv2d_46 (Conv2D)             (None, 32, 32, 32)   9248        ['dropout_15[0][0]']             \n",
            "                                                                                                  \n",
            " leaky_re_lu_33 (LeakyReLU)     (None, 32, 32, 32)   0           ['conv2d_46[0][0]']              \n",
            "                                                                                                  \n",
            " max_pooling2d_9 (MaxPooling2D)  (None, 16, 16, 32)  0           ['leaky_re_lu_33[0][0]']         \n",
            "                                                                                                  \n",
            " conv2d_47 (Conv2D)             (None, 16, 16, 64)   18496       ['max_pooling2d_9[0][0]']        \n",
            "                                                                                                  \n",
            " re_lu_10 (ReLU)                (None, 16, 16, 64)   0           ['conv2d_47[0][0]']              \n",
            "                                                                                                  \n",
            " dropout_16 (Dropout)           (None, 16, 16, 64)   0           ['re_lu_10[0][0]']               \n",
            "                                                                                                  \n",
            " conv2d_48 (Conv2D)             (None, 16, 16, 64)   36928       ['dropout_16[0][0]']             \n",
            "                                                                                                  \n",
            " re_lu_11 (ReLU)                (None, 16, 16, 64)   0           ['conv2d_48[0][0]']              \n",
            "                                                                                                  \n",
            " max_pooling2d_10 (MaxPooling2D  (None, 8, 8, 64)    0           ['re_lu_11[0][0]']               \n",
            " )                                                                                                \n",
            "                                                                                                  \n",
            " conv2d_49 (Conv2D)             (None, 8, 8, 128)    73856       ['max_pooling2d_10[0][0]']       \n",
            "                                                                                                  \n",
            " re_lu_12 (ReLU)                (None, 8, 8, 128)    0           ['conv2d_49[0][0]']              \n",
            "                                                                                                  \n",
            " dropout_17 (Dropout)           (None, 8, 8, 128)    0           ['re_lu_12[0][0]']               \n",
            "                                                                                                  \n",
            " conv2d_50 (Conv2D)             (None, 8, 8, 128)    147584      ['dropout_17[0][0]']             \n",
            "                                                                                                  \n",
            " re_lu_13 (ReLU)                (None, 8, 8, 128)    0           ['conv2d_50[0][0]']              \n",
            "                                                                                                  \n",
            " max_pooling2d_11 (MaxPooling2D  (None, 4, 4, 128)   0           ['re_lu_13[0][0]']               \n",
            " )                                                                                                \n",
            "                                                                                                  \n",
            " conv2d_51 (Conv2D)             (None, 4, 4, 256)    295168      ['max_pooling2d_11[0][0]']       \n",
            "                                                                                                  \n",
            " re_lu_14 (ReLU)                (None, 4, 4, 256)    0           ['conv2d_51[0][0]']              \n",
            "                                                                                                  \n",
            " dropout_18 (Dropout)           (None, 4, 4, 256)    0           ['re_lu_14[0][0]']               \n",
            "                                                                                                  \n",
            " conv2d_52 (Conv2D)             (None, 4, 4, 256)    590080      ['dropout_18[0][0]']             \n",
            "                                                                                                  \n",
            " re_lu_15 (ReLU)                (None, 4, 4, 256)    0           ['conv2d_52[0][0]']              \n",
            "                                                                                                  \n",
            " conv2d_transpose_9 (Conv2DTran  (None, 8, 8, 128)   295040      ['re_lu_15[0][0]']               \n",
            " spose)                                                                                           \n",
            "                                                                                                  \n",
            " concatenate_9 (Concatenate)    (None, 8, 8, 256)    0           ['conv2d_transpose_9[0][0]',     \n",
            "                                                                  're_lu_13[0][0]']               \n",
            "                                                                                                  \n",
            " conv2d_53 (Conv2D)             (None, 8, 8, 128)    295040      ['concatenate_9[0][0]']          \n",
            "                                                                                                  \n",
            " re_lu_16 (ReLU)                (None, 8, 8, 128)    0           ['conv2d_53[0][0]']              \n",
            "                                                                                                  \n",
            " dropout_19 (Dropout)           (None, 8, 8, 128)    0           ['re_lu_16[0][0]']               \n",
            "                                                                                                  \n",
            " conv2d_54 (Conv2D)             (None, 8, 8, 128)    147584      ['dropout_19[0][0]']             \n",
            "                                                                                                  \n",
            " re_lu_17 (ReLU)                (None, 8, 8, 128)    0           ['conv2d_54[0][0]']              \n",
            "                                                                                                  \n",
            " conv2d_transpose_10 (Conv2DTra  (None, 16, 16, 64)  73792       ['re_lu_17[0][0]']               \n",
            " nspose)                                                                                          \n",
            "                                                                                                  \n",
            " concatenate_10 (Concatenate)   (None, 16, 16, 128)  0           ['conv2d_transpose_10[0][0]',    \n",
            "                                                                  're_lu_11[0][0]']               \n",
            "                                                                                                  \n",
            " conv2d_55 (Conv2D)             (None, 16, 16, 64)   73792       ['concatenate_10[0][0]']         \n",
            "                                                                                                  \n",
            " re_lu_18 (ReLU)                (None, 16, 16, 64)   0           ['conv2d_55[0][0]']              \n",
            "                                                                                                  \n",
            " dropout_20 (Dropout)           (None, 16, 16, 64)   0           ['re_lu_18[0][0]']               \n",
            "                                                                                                  \n",
            " conv2d_56 (Conv2D)             (None, 16, 16, 64)   36928       ['dropout_20[0][0]']             \n",
            "                                                                                                  \n",
            " re_lu_19 (ReLU)                (None, 16, 16, 64)   0           ['conv2d_56[0][0]']              \n",
            "                                                                                                  \n",
            " conv2d_transpose_11 (Conv2DTra  (None, 32, 32, 32)  18464       ['re_lu_19[0][0]']               \n",
            " nspose)                                                                                          \n",
            "                                                                                                  \n",
            " concatenate_11 (Concatenate)   (None, 32, 32, 64)   0           ['conv2d_transpose_11[0][0]',    \n",
            "                                                                  'leaky_re_lu_33[0][0]']         \n",
            "                                                                                                  \n",
            " conv2d_57 (Conv2D)             (None, 32, 32, 32)   18464       ['concatenate_11[0][0]']         \n",
            "                                                                                                  \n",
            " leaky_re_lu_34 (LeakyReLU)     (None, 32, 32, 32)   0           ['conv2d_57[0][0]']              \n",
            "                                                                                                  \n",
            " dropout_21 (Dropout)           (None, 32, 32, 32)   0           ['leaky_re_lu_34[0][0]']         \n",
            "                                                                                                  \n",
            " conv2d_58 (Conv2D)             (None, 32, 32, 32)   9248        ['dropout_21[0][0]']             \n",
            "                                                                                                  \n",
            " leaky_re_lu_35 (LeakyReLU)     (None, 32, 32, 32)   0           ['conv2d_58[0][0]']              \n",
            "                                                                                                  \n",
            " conv2d_59 (Conv2D)             (None, 32, 32, 3)    99          ['leaky_re_lu_35[0][0]']         \n",
            "                                                                                                  \n",
            " lambda_3 (Lambda)              (None, 32, 32, 3)    0           ['input_4[0][0]',                \n",
            "                                                                  'conv2d_59[0][0]']              \n",
            "                                                                                                  \n",
            "==================================================================================================\n",
            "Total params: 2,140,707\n",
            "Trainable params: 2,140,707\n",
            "Non-trainable params: 0\n",
            "__________________________________________________________________________________________________\n",
            "None\n"
          ]
        }
      ]
    },
    {
      "cell_type": "markdown",
      "source": [
        "# Training"
      ],
      "metadata": {
        "id": "y4VaRK9ij5Im"
      }
    },
    {
      "cell_type": "code",
      "source": [
        "BATCH_SIZE = 128\n",
        "N_EPOCHS = 100\n",
        "\n",
        "callback = EarlyStopping(monitor=\"val_loss\",\n",
        "    # min_delta=0.0005,\n",
        "    patience=30,\n",
        "    restore_best_weights=True)\n",
        "\n",
        "history = network.fit(masked_x_train, x_train, batch_size=BATCH_SIZE, epochs=N_EPOCHS, \n",
        "                      shuffle=True, validation_split=0.2, callbacks=[callback])\n",
        "\n"
      ],
      "metadata": {
        "colab": {
          "base_uri": "https://localhost:8080/"
        },
        "id": "2GJS2g2_j3lg",
        "outputId": "a297e3ee-c835-43ec-b8a0-1f7fd1047c94"
      },
      "execution_count": null,
      "outputs": [
        {
          "output_type": "stream",
          "name": "stdout",
          "text": [
            "Epoch 1/100\n",
            "313/313 [==============================] - 30s 65ms/step - loss: 0.0586 - mse: 0.0149 - val_loss: 0.0548 - val_mse: 0.0130\n",
            "Epoch 2/100\n",
            "313/313 [==============================] - 17s 55ms/step - loss: 0.0489 - mse: 0.0113 - val_loss: 0.0527 - val_mse: 0.0121\n",
            "Epoch 3/100\n",
            "313/313 [==============================] - 17s 55ms/step - loss: 0.0453 - mse: 0.0103 - val_loss: 0.0494 - val_mse: 0.0110\n",
            "Epoch 4/100\n",
            "313/313 [==============================] - 17s 55ms/step - loss: 0.0444 - mse: 0.0100 - val_loss: 0.0488 - val_mse: 0.0108\n",
            "Epoch 5/100\n",
            "313/313 [==============================] - 17s 56ms/step - loss: 0.0439 - mse: 0.0099 - val_loss: 0.0498 - val_mse: 0.0111\n",
            "Epoch 6/100\n",
            "313/313 [==============================] - 17s 56ms/step - loss: 0.0435 - mse: 0.0098 - val_loss: 0.0474 - val_mse: 0.0103\n",
            "Epoch 7/100\n",
            "313/313 [==============================] - 17s 56ms/step - loss: 0.0431 - mse: 0.0097 - val_loss: 0.0470 - val_mse: 0.0101\n",
            "Epoch 8/100\n",
            "313/313 [==============================] - 18s 56ms/step - loss: 0.0427 - mse: 0.0096 - val_loss: 0.0463 - val_mse: 0.0101\n",
            "Epoch 9/100\n",
            "313/313 [==============================] - 18s 56ms/step - loss: 0.0423 - mse: 0.0095 - val_loss: 0.0453 - val_mse: 0.0097\n",
            "Epoch 10/100\n",
            "313/313 [==============================] - 18s 57ms/step - loss: 0.0420 - mse: 0.0094 - val_loss: 0.0440 - val_mse: 0.0094\n",
            "Epoch 11/100\n",
            "313/313 [==============================] - 18s 56ms/step - loss: 0.0417 - mse: 0.0094 - val_loss: 0.0445 - val_mse: 0.0094\n",
            "Epoch 12/100\n",
            "313/313 [==============================] - 18s 56ms/step - loss: 0.0414 - mse: 0.0093 - val_loss: 0.0447 - val_mse: 0.0095\n",
            "Epoch 13/100\n",
            "313/313 [==============================] - 18s 57ms/step - loss: 0.0412 - mse: 0.0092 - val_loss: 0.0446 - val_mse: 0.0095\n",
            "Epoch 14/100\n",
            "313/313 [==============================] - 18s 57ms/step - loss: 0.0409 - mse: 0.0091 - val_loss: 0.0427 - val_mse: 0.0090\n",
            "Epoch 15/100\n",
            "313/313 [==============================] - 18s 57ms/step - loss: 0.0407 - mse: 0.0091 - val_loss: 0.0420 - val_mse: 0.0089\n",
            "Epoch 16/100\n",
            "313/313 [==============================] - 18s 56ms/step - loss: 0.0405 - mse: 0.0090 - val_loss: 0.0426 - val_mse: 0.0090\n",
            "Epoch 17/100\n",
            "313/313 [==============================] - 18s 56ms/step - loss: 0.0403 - mse: 0.0090 - val_loss: 0.0428 - val_mse: 0.0090\n",
            "Epoch 18/100\n",
            "313/313 [==============================] - 18s 56ms/step - loss: 0.0401 - mse: 0.0089 - val_loss: 0.0426 - val_mse: 0.0089\n",
            "Epoch 19/100\n",
            "313/313 [==============================] - 18s 57ms/step - loss: 0.0400 - mse: 0.0089 - val_loss: 0.0411 - val_mse: 0.0087\n",
            "Epoch 20/100\n",
            "313/313 [==============================] - 18s 57ms/step - loss: 0.0398 - mse: 0.0088 - val_loss: 0.0411 - val_mse: 0.0087\n",
            "Epoch 21/100\n",
            "313/313 [==============================] - 18s 57ms/step - loss: 0.0396 - mse: 0.0088 - val_loss: 0.0410 - val_mse: 0.0086\n",
            "Epoch 22/100\n",
            "313/313 [==============================] - 18s 56ms/step - loss: 0.0395 - mse: 0.0087 - val_loss: 0.0416 - val_mse: 0.0087\n",
            "Epoch 23/100\n",
            "313/313 [==============================] - 18s 57ms/step - loss: 0.0393 - mse: 0.0087 - val_loss: 0.0409 - val_mse: 0.0087\n",
            "Epoch 24/100\n",
            "313/313 [==============================] - 18s 56ms/step - loss: 0.0392 - mse: 0.0086 - val_loss: 0.0415 - val_mse: 0.0087\n",
            "Epoch 25/100\n",
            "313/313 [==============================] - 18s 56ms/step - loss: 0.0391 - mse: 0.0086 - val_loss: 0.0412 - val_mse: 0.0086\n",
            "Epoch 26/100\n",
            "313/313 [==============================] - 18s 56ms/step - loss: 0.0389 - mse: 0.0085 - val_loss: 0.0413 - val_mse: 0.0087\n",
            "Epoch 27/100\n",
            "313/313 [==============================] - 18s 56ms/step - loss: 0.0388 - mse: 0.0085 - val_loss: 0.0414 - val_mse: 0.0088\n",
            "Epoch 28/100\n",
            "313/313 [==============================] - 18s 57ms/step - loss: 0.0387 - mse: 0.0084 - val_loss: 0.0409 - val_mse: 0.0086\n",
            "Epoch 29/100\n",
            "313/313 [==============================] - 18s 56ms/step - loss: 0.0385 - mse: 0.0083 - val_loss: 0.0409 - val_mse: 0.0086\n",
            "Epoch 30/100\n",
            "313/313 [==============================] - 17s 56ms/step - loss: 0.0384 - mse: 0.0083 - val_loss: 0.0415 - val_mse: 0.0087\n",
            "Epoch 31/100\n",
            "313/313 [==============================] - 18s 56ms/step - loss: 0.0383 - mse: 0.0083 - val_loss: 0.0418 - val_mse: 0.0087\n",
            "Epoch 32/100\n",
            "313/313 [==============================] - 18s 56ms/step - loss: 0.0381 - mse: 0.0082 - val_loss: 0.0404 - val_mse: 0.0085\n",
            "Epoch 33/100\n",
            "313/313 [==============================] - 18s 56ms/step - loss: 0.0380 - mse: 0.0081 - val_loss: 0.0408 - val_mse: 0.0086\n",
            "Epoch 34/100\n",
            "313/313 [==============================] - 18s 56ms/step - loss: 0.0378 - mse: 0.0081 - val_loss: 0.0401 - val_mse: 0.0085\n",
            "Epoch 35/100\n",
            "313/313 [==============================] - 17s 56ms/step - loss: 0.0376 - mse: 0.0080 - val_loss: 0.0406 - val_mse: 0.0085\n",
            "Epoch 36/100\n",
            "313/313 [==============================] - 18s 57ms/step - loss: 0.0375 - mse: 0.0080 - val_loss: 0.0400 - val_mse: 0.0085\n",
            "Epoch 37/100\n",
            "313/313 [==============================] - 18s 56ms/step - loss: 0.0374 - mse: 0.0079 - val_loss: 0.0399 - val_mse: 0.0085\n",
            "Epoch 38/100\n",
            "313/313 [==============================] - 18s 56ms/step - loss: 0.0373 - mse: 0.0079 - val_loss: 0.0407 - val_mse: 0.0087\n",
            "Epoch 39/100\n",
            "313/313 [==============================] - 18s 56ms/step - loss: 0.0371 - mse: 0.0078 - val_loss: 0.0402 - val_mse: 0.0086\n",
            "Epoch 40/100\n",
            "202/313 [==================>...........] - ETA: 5s - loss: 0.0369 - mse: 0.0077"
          ]
        }
      ]
    },
    {
      "cell_type": "code",
      "source": [
        "network.save('weights')"
      ],
      "metadata": {
        "colab": {
          "base_uri": "https://localhost:8080/"
        },
        "id": "aodS29RF2EYz",
        "outputId": "617fc35d-8e1d-4712-a5c0-1d7b79a03e96"
      },
      "execution_count": null,
      "outputs": [
        {
          "output_type": "stream",
          "name": "stderr",
          "text": [
            "WARNING:absl:Found untraced functions such as _jit_compiled_convolution_op, _jit_compiled_convolution_op, _jit_compiled_convolution_op, _jit_compiled_convolution_op, _jit_compiled_convolution_op while saving (showing 5 of 25). These functions will not be directly callable after loading.\n"
          ]
        }
      ]
    },
    {
      "cell_type": "code",
      "source": [
        "!zip -r weights.zip weights"
      ],
      "metadata": {
        "colab": {
          "base_uri": "https://localhost:8080/"
        },
        "id": "hcxw-qbt2gTr",
        "outputId": "f094dbfe-6aaa-4a96-e58f-4d0ff2b00d4f"
      },
      "execution_count": null,
      "outputs": [
        {
          "output_type": "stream",
          "name": "stdout",
          "text": [
            "  adding: weights/ (stored 0%)\n",
            "  adding: weights/variables/ (stored 0%)\n",
            "  adding: weights/variables/variables.data-00000-of-00001 (deflated 9%)\n",
            "  adding: weights/variables/variables.index (deflated 73%)\n",
            "  adding: weights/assets/ (stored 0%)\n",
            "  adding: weights/fingerprint.pb (stored 0%)\n",
            "  adding: weights/saved_model.pb (deflated 90%)\n",
            "  adding: weights/keras_metadata.pb (deflated 95%)\n"
          ]
        }
      ]
    },
    {
      "cell_type": "code",
      "source": [
        "!unzip weights.zip"
      ],
      "metadata": {
        "colab": {
          "base_uri": "https://localhost:8080/"
        },
        "id": "bKJ3vw_jOzF5",
        "outputId": "e0652654-1b85-48e2-daaf-36f2e0fbef26"
      },
      "execution_count": null,
      "outputs": [
        {
          "output_type": "stream",
          "name": "stdout",
          "text": [
            "Archive:  weights.zip\n",
            "   creating: weights/\n",
            "   creating: weights/variables/\n",
            "  inflating: weights/variables/variables.data-00000-of-00001  \n",
            "  inflating: weights/variables/variables.index  \n",
            "   creating: weights/assets/\n",
            " extracting: weights/fingerprint.pb  \n",
            "  inflating: weights/saved_model.pb  \n",
            "  inflating: weights/keras_metadata.pb  \n"
          ]
        }
      ]
    },
    {
      "cell_type": "code",
      "source": [
        "network.load_weights('weights')"
      ],
      "metadata": {
        "colab": {
          "base_uri": "https://localhost:8080/"
        },
        "id": "EAu4Rs4aOd72",
        "outputId": "36bfcedc-ac5b-4298-a5c4-4ecfcd468546"
      },
      "execution_count": null,
      "outputs": [
        {
          "output_type": "execute_result",
          "data": {
            "text/plain": [
              "<tensorflow.python.checkpoint.checkpoint.CheckpointLoadStatus at 0x7fd5c9525e70>"
            ]
          },
          "metadata": {},
          "execution_count": 12
        }
      ]
    },
    {
      "cell_type": "markdown",
      "source": [
        "# Testing"
      ],
      "metadata": {
        "id": "Kk5TevvDp-fZ"
      }
    },
    {
      "cell_type": "code",
      "source": [
        "network.evaluate(masked_x_test, x_test)"
      ],
      "metadata": {
        "colab": {
          "base_uri": "https://localhost:8080/"
        },
        "id": "S9Mo7QHSNIRo",
        "outputId": "21a7d8b1-fde4-4d07-d614-308ca7870eb4"
      },
      "execution_count": 19,
      "outputs": [
        {
          "output_type": "stream",
          "name": "stdout",
          "text": [
            "313/313 [==============================] - 4s 13ms/step - loss: 0.0401 - mse: 0.0086\n"
          ]
        },
        {
          "output_type": "execute_result",
          "data": {
            "text/plain": [
              "[0.040106356143951416, 0.008577452972531319]"
            ]
          },
          "metadata": {},
          "execution_count": 19
        }
      ]
    },
    {
      "cell_type": "code",
      "source": [
        "a = np.zeros((x_test.shape[0],32,32,3))\n",
        "a = a+1\n",
        "print(a.shape, masked_x_test.shape)\n",
        "\n",
        "network.evaluate(masked_x_test, a)"
      ],
      "metadata": {
        "colab": {
          "base_uri": "https://localhost:8080/"
        },
        "id": "UDZyDzr1-OsY",
        "outputId": "6bd54767-7be1-4080-de2e-d1a5b6176a12"
      },
      "execution_count": null,
      "outputs": [
        {
          "output_type": "stream",
          "name": "stdout",
          "text": [
            "(10000, 32, 32, 3) (10000, 32, 32, 3)\n",
            "313/313 [==============================] - 6s 20ms/step - loss: 0.3297 - mse: 0.3297\n"
          ]
        },
        {
          "output_type": "execute_result",
          "data": {
            "text/plain": [
              "[0.32970842719078064, 0.32970842719078064]"
            ]
          },
          "metadata": {},
          "execution_count": 23
        }
      ]
    },
    {
      "cell_type": "code",
      "source": [
        "def show(x, y, title=None):\n",
        "    plt.figure(figsize=(15, 8))\n",
        "\n",
        "    plt.subplot(1, 2, 1)\n",
        "    plt.imshow(x)\n",
        "    if title:\n",
        "        plt.title(title[0])\n",
        "    \n",
        "    plt.subplot(1, 2, 2)\n",
        "    plt.imshow(y)\n",
        "    if title:\n",
        "        plt.title(title[1])\n",
        "\n",
        "    plt.show()\n",
        "\n",
        "pred = network.predict(masked_x_test[:3], batch_size=3)\n",
        "show(x_test[0], pred[0], title='Original')\n",
        "show(x_test[1], pred[1], title='Original')\n",
        "show(x_test[2], pred[2], title='Original')"
      ],
      "metadata": {
        "colab": {
          "base_uri": "https://localhost:8080/",
          "height": 1000
        },
        "id": "b5hZ_anrQdLf",
        "outputId": "776fc8ba-63b1-4144-dfdf-4e0191acf6d2"
      },
      "execution_count": 20,
      "outputs": [
        {
          "output_type": "stream",
          "name": "stdout",
          "text": [
            "1/1 [==============================] - 1s 626ms/step\n"
          ]
        },
        {
          "output_type": "display_data",
          "data": {
            "text/plain": [
              "<Figure size 1500x800 with 2 Axes>"
            ],
            "image/png": "[encoded data removed]"
          },
          "metadata": {}
        },
        {
          "output_type": "display_data",
          "data": {
            "text/plain": [
              "<Figure size 1500x800 with 2 Axes>"
            ],
            "image/png": "[encoded data removed]"
          },
          "metadata": {}
        },
        {
          "output_type": "display_data",
          "data": {
            "text/plain": [
              "<Figure size 1500x800 with 2 Axes>"
            ],
            "image/png": "[encoded data removed]"
          },
          "metadata": {}
        }
      ]
    }
  ]
}