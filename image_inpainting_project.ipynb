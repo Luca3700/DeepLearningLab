{
  "nbformat": 4,
  "nbformat_minor": 0,
  "metadata": {
    "colab": {
      "provenance": [],
      "gpuType": "T4"
    },
    "kernelspec": {
      "name": "python3",
      "display_name": "Python 3"
    },
    "language_info": {
      "name": "python"
    },
    "accelerator": "GPU"
  },
  "cells": [
    {
      "cell_type": "markdown",
      "source": [
        "# Image inpainting over CIFAR-10\n",
        "\n",
        "The purpose of this project is to build and train a neural network for image inpainting over the CIFAR-10 dataset. \n",
        "\n",
        "Inpainting is a restauration process where damaged, deteriorated, or missing parts of an artwork are filled in to present a complete image.\n",
        "\n",
        "In our case, we create the portion of the image to be filled in by cropping a fixed size rectangular area from CIFAR-10 images.\n",
        "\n",
        "The networks must be trained over the training set, and tested on the test set.\n",
        "You can split the train set into a validation set, if you wish.\n",
        "\n",
        "The metrics that will be used to evaluate you result is Mean Square Error."
      ],
      "metadata": {
        "id": "E3r4iIy5PD4_"
      }
    },
    {
      "cell_type": "code",
      "execution_count": 1,
      "metadata": {
        "id": "ZwLQl0kGWwbJ"
      },
      "outputs": [],
      "source": [
        "import tensorflow as tf\n",
        "import numpy as np\n",
        "import matplotlib.pyplot as plt"
      ]
    },
    {
      "cell_type": "code",
      "source": [
        "from tensorflow.keras import layers, models, metrics\n",
        "from tensorflow.keras.datasets import cifar10"
      ],
      "metadata": {
        "id": "nczjezDqXD4Q"
      },
      "execution_count": 2,
      "outputs": []
    },
    {
      "cell_type": "markdown",
      "source": [
        "Here we load the dataset."
      ],
      "metadata": {
        "id": "_tTZ5pBIREKu"
      }
    },
    {
      "cell_type": "code",
      "source": [
        "(x_train, y_train), (x_test, y_test) = cifar10.load_data()\n",
        "print(\"image range is {}, {}\".format(np.min(x_test,axis=(0,1,2,3)),np.max(x_test,axis=(0,1,2,3))))\n",
        "x_train = (x_train/255.).astype(np.float32)\n",
        "x_test = (x_test/255.).astype(np.float32)\n",
        "print(\"new image range is {}, {}\".format(np.min(x_test,axis=(0,1,2,3)),np.max(x_test,axis=(0,1,2,3))))"
      ],
      "metadata": {
        "id": "-pojWDC2Xca5",
        "colab": {
          "base_uri": "https://localhost:8080/"
        },
        "outputId": "787cc834-4584-464e-a230-dd7d6376779d"
      },
      "execution_count": 3,
      "outputs": [
        {
          "output_type": "stream",
          "name": "stdout",
          "text": [
            "Downloading data from https://www.cs.toronto.edu/~kriz/cifar-10-python.tar.gz\n",
            "170498071/170498071 [==============================] - 13s 0us/step\n",
            "image range is 0, 255\n",
            "new image range is 0.0, 1.0\n"
          ]
        }
      ]
    },
    {
      "cell_type": "markdown",
      "source": [
        "Let's see some examples."
      ],
      "metadata": {
        "id": "34F_YSoxRNet"
      }
    },
    {
      "cell_type": "code",
      "source": [
        "plt.imshow(x_test[1])\n",
        "plt.show()\n",
        "print(x_train[0].shape)"
      ],
      "metadata": {
        "colab": {
          "base_uri": "https://localhost:8080/",
          "height": 447
        },
        "id": "PMHeUj9PXr02",
        "outputId": "41b7bdfa-d617-4578-8090-7f3ea64d8087"
      },
      "execution_count": 6,
      "outputs": [
        {
          "output_type": "display_data",
          "data": {
            "text/plain": [
              "<Figure size 640x480 with 1 Axes>"
            ],
            "image/png": "[encoded data removed]"
          },
          "metadata": {}
        },
        {
          "output_type": "stream",
          "name": "stdout",
          "text": [
            "(32, 32, 3)\n"
          ]
        }
      ]
    },
    {
      "cell_type": "markdown",
      "source": [
        "Now we hide a portion of the input, and the purpose of the network is to reconstruct it."
      ],
      "metadata": {
        "id": "s8lEb7qPYfNA"
      }
    },
    {
      "cell_type": "code",
      "source": [
        "def mask(X,coords):\n",
        "  x0,y0,x1,y1 = coords\n",
        "  X[:,x0:x1,y0:y1] = 0\n",
        "  return X\n",
        "\n",
        "masked_x_train = mask(np.copy(x_train),(2,16,30,30))\n",
        "masked_x_test = mask(np.copy(x_test),(2,16,30,30))"
      ],
      "metadata": {
        "id": "pMUI16TxYdbz"
      },
      "execution_count": 4,
      "outputs": []
    },
    {
      "cell_type": "code",
      "source": [
        "plt.imshow(masked_x_test[1])\n",
        "plt.show()"
      ],
      "metadata": {
        "colab": {
          "base_uri": "https://localhost:8080/",
          "height": 430
        },
        "id": "Vk9gGjGIZ5aG",
        "outputId": "2e020780-85bc-415a-8091-96af36820605"
      },
      "execution_count": 8,
      "outputs": [
        {
          "output_type": "display_data",
          "data": {
            "text/plain": [
              "<Figure size 640x480 with 1 Axes>"
            ],
            "image/png": "[encoded data removed]"
          },
          "metadata": {}
        }
      ]
    },
    {
      "cell_type": "markdown",
      "source": [
        "# Approaches and evaluation\n",
        "\n",
        "The network is supposed to take in input the masked image and fill in the missing part. \n",
        "\n",
        "You may basically follow two main approaches:\n",
        "*   either you return the full image\n",
        "*   you just return the missing crop\n",
        "\n",
        "In the first case, the mse is to be evaluated on the full image; in the second case just on the crop (since on the reamining part is 0). \n",
        "\n",
        "If you want to take a different approach, you can ask for my approuval.\n",
        "\n"
      ],
      "metadata": {
        "id": "H1LA9tOFRr3q"
      }
    },
    {
      "cell_type": "markdown",
      "source": [
        "# What to deliver\n",
        "\n",
        "As usual, you are supposed to deliver a single notebook comprising the code, the training history, and the evaluation on test data in terms of Mean Square Error.\n",
        "\n",
        "Good work!"
      ],
      "metadata": {
        "id": "ClTRv3Myikkg"
      }
    },
    {
      "cell_type": "code",
      "source": [
        "from tensorflow.keras.layers import BatchNormalization, concatenate, Conv2D, Conv2DTranspose, Dense, Dropout, Flatten, Input, Lambda, LeakyReLU, MaxPooling2D, ReLU, Rescaling, Reshape\n",
        "from tensorflow.keras.models import Model\n",
        "from tensorflow.keras.callbacks import EarlyStopping\n",
        "from tensorflow.keras.optimizers import Adam"
      ],
      "metadata": {
        "id": "2Y_mXxoWblfL"
      },
      "execution_count": 5,
      "outputs": []
    },
    {
      "cell_type": "code",
      "source": [
        "#replace_black_box = lambda img, rep: np.where(img[:, 10:21, 10:21] == 0, rep[:, 10:21, 10:21], img)\n",
        "#replace_black_box = lambda img, new_img: img.copy()[:, 10:21, 10:21] = new_img[:, 10:21, 10:21]\n",
        "# replace_black_box = lambda x: tf.where(x[0][:, 10:21, 10:21] == 0, x[1][:, 10:21, 10:21], x[0][:, 10:21, 10:21])\n",
        "replace_black_box = lambda x: np.where(x[0][:] == 0, x[1][:], x[0][:])\n",
        "\n",
        "# def mask(X,coords):\n",
        "#   x0,y0,x1,y1 = coords\n",
        "#   X[:,x0:x1,y0:y1] = 0\n",
        "#   return X\n",
        "\n",
        "# masked_x_train = mask(np.copy(x_train),(2,16,30,30))\n",
        "# masked_x_test = mask(np.copy(x_test),(2,16,30,30))\n",
        "\n",
        "a = replace_black_box([masked_x_train[0], x_train[0]])\n",
        "print(a.shape)\n",
        "plt.figure(figsize=(15, 8))\n",
        "\n",
        "plt.imshow(a)\n",
        "\n",
        "plt.show()"
      ],
      "metadata": {
        "colab": {
          "base_uri": "https://localhost:8080/",
          "height": 693
        },
        "id": "z7qwxjC4sGYN",
        "outputId": "0db3ef59-d371-44b9-ece9-226c3e616433"
      },
      "execution_count": 17,
      "outputs": [
        {
          "output_type": "stream",
          "name": "stdout",
          "text": [
            "(32, 32, 3)\n"
          ]
        },
        {
          "output_type": "display_data",
          "data": {
            "text/plain": [
              "<Figure size 1500x800 with 1 Axes>"
            ],
            "image/png": "[encoded data removed]"
          },
          "metadata": {}
        }
      ]
    },
    {
      "cell_type": "code",
      "source": [
        "def get_network(input_shape=(32,32,3), n_ch=32, num_layer=4, num_loop_per_layer=2):\n",
        "  #crop_input = Lambda(lambda x: x[:,2:30,16:30])\n",
        "  # replace_black_box = Lambda(lambda img, rep: np.where(img[:, 10:21, 10:21] == 0, rep[:, 10:21, 10:21], img))\n",
        "  replace_black_box = Lambda(lambda x: tf.where(x[0][:] == 0, x[1][:], x[0][:]))\n",
        "\n",
        "  x_out = 14\n",
        "  y_out = 28\n",
        "\n",
        "  x = Input(input_shape)\n",
        "  #x = crop_input(x)\n",
        "  c1 = x\n",
        "  backup_layers = []\n",
        "\n",
        "  for i in range(num_layer):\n",
        "\n",
        "    for j in range(num_loop_per_layer):\n",
        "      c1 = Conv2D(n_ch, kernel_size=3, padding='same')(c1)\n",
        "      # c1 = BatchNormalization()(c1)\n",
        "      c1 = ReLU()(c1)\n",
        "\n",
        "    if (i < num_layer - 1):\n",
        "      backup_layers.append(c1)\n",
        "      c1 = MaxPooling2D(padding='same')(c1)\n",
        "\n",
        "      n_ch *= 2\n",
        "\n",
        "\n",
        "  for i in range(num_layer - 1):\n",
        "    n_ch = n_ch // 2\n",
        "    c1 = Conv2DTranspose(n_ch, 3, 2, padding='same')(c1)\n",
        "    c1 = concatenate([c1, backup_layers.pop(-1)])\n",
        "\n",
        "    for c in range(num_loop_per_layer):\n",
        "      c1 = Conv2D(n_ch, 3, 1, padding='same')(c1)\n",
        "      c1 = ReLU()(c1)\n",
        "\n",
        "  y = Conv2D(3,1, activation='sigmoid')(c1)\n",
        "  y = replace_black_box([x,y]) \n",
        "\n",
        "  model = Model(x,y)\n",
        "  print(model.summary())\n",
        "  return model\n"
      ],
      "metadata": {
        "id": "2U3Pn-apb2Rq"
      },
      "execution_count": 24,
      "outputs": []
    },
    {
      "cell_type": "code",
      "source": [
        "network = get_network(n_ch=128, num_layer=4, num_loop_per_layer=3)\n",
        "\n",
        "network.compile(optimizer=Adam(learning_rate=1e-4),\n",
        "                  loss='mse',\n",
        "                  metrics=['mse'])"
      ],
      "metadata": {
        "colab": {
          "base_uri": "https://localhost:8080/"
        },
        "id": "Aap2tvYwiLvK",
        "outputId": "fb5cf80e-45de-4755-f66b-556fa1fbc049"
      },
      "execution_count": 31,
      "outputs": [
        {
          "output_type": "stream",
          "name": "stdout",
          "text": [
            "Model: \"model_4\"\n",
            "__________________________________________________________________________________________________\n",
            " Layer (type)                   Output Shape         Param #     Connected to                     \n",
            "==================================================================================================\n",
            " input_5 (InputLayer)           [(None, 32, 32, 3)]  0           []                               \n",
            "                                                                                                  \n",
            " conv2d_97 (Conv2D)             (None, 32, 32, 128)  3584        ['input_5[0][0]']                \n",
            "                                                                                                  \n",
            " re_lu_93 (ReLU)                (None, 32, 32, 128)  0           ['conv2d_97[0][0]']              \n",
            "                                                                                                  \n",
            " conv2d_98 (Conv2D)             (None, 32, 32, 128)  147584      ['re_lu_93[0][0]']               \n",
            "                                                                                                  \n",
            " re_lu_94 (ReLU)                (None, 32, 32, 128)  0           ['conv2d_98[0][0]']              \n",
            "                                                                                                  \n",
            " conv2d_99 (Conv2D)             (None, 32, 32, 128)  147584      ['re_lu_94[0][0]']               \n",
            "                                                                                                  \n",
            " re_lu_95 (ReLU)                (None, 32, 32, 128)  0           ['conv2d_99[0][0]']              \n",
            "                                                                                                  \n",
            " max_pooling2d_15 (MaxPooling2D  (None, 16, 16, 128)  0          ['re_lu_95[0][0]']               \n",
            " )                                                                                                \n",
            "                                                                                                  \n",
            " conv2d_100 (Conv2D)            (None, 16, 16, 256)  295168      ['max_pooling2d_15[0][0]']       \n",
            "                                                                                                  \n",
            " re_lu_96 (ReLU)                (None, 16, 16, 256)  0           ['conv2d_100[0][0]']             \n",
            "                                                                                                  \n",
            " conv2d_101 (Conv2D)            (None, 16, 16, 256)  590080      ['re_lu_96[0][0]']               \n",
            "                                                                                                  \n",
            " re_lu_97 (ReLU)                (None, 16, 16, 256)  0           ['conv2d_101[0][0]']             \n",
            "                                                                                                  \n",
            " conv2d_102 (Conv2D)            (None, 16, 16, 256)  590080      ['re_lu_97[0][0]']               \n",
            "                                                                                                  \n",
            " re_lu_98 (ReLU)                (None, 16, 16, 256)  0           ['conv2d_102[0][0]']             \n",
            "                                                                                                  \n",
            " max_pooling2d_16 (MaxPooling2D  (None, 8, 8, 256)   0           ['re_lu_98[0][0]']               \n",
            " )                                                                                                \n",
            "                                                                                                  \n",
            " conv2d_103 (Conv2D)            (None, 8, 8, 512)    1180160     ['max_pooling2d_16[0][0]']       \n",
            "                                                                                                  \n",
            " re_lu_99 (ReLU)                (None, 8, 8, 512)    0           ['conv2d_103[0][0]']             \n",
            "                                                                                                  \n",
            " conv2d_104 (Conv2D)            (None, 8, 8, 512)    2359808     ['re_lu_99[0][0]']               \n",
            "                                                                                                  \n",
            " re_lu_100 (ReLU)               (None, 8, 8, 512)    0           ['conv2d_104[0][0]']             \n",
            "                                                                                                  \n",
            " conv2d_105 (Conv2D)            (None, 8, 8, 512)    2359808     ['re_lu_100[0][0]']              \n",
            "                                                                                                  \n",
            " re_lu_101 (ReLU)               (None, 8, 8, 512)    0           ['conv2d_105[0][0]']             \n",
            "                                                                                                  \n",
            " max_pooling2d_17 (MaxPooling2D  (None, 4, 4, 512)   0           ['re_lu_101[0][0]']              \n",
            " )                                                                                                \n",
            "                                                                                                  \n",
            " conv2d_106 (Conv2D)            (None, 4, 4, 1024)   4719616     ['max_pooling2d_17[0][0]']       \n",
            "                                                                                                  \n",
            " re_lu_102 (ReLU)               (None, 4, 4, 1024)   0           ['conv2d_106[0][0]']             \n",
            "                                                                                                  \n",
            " conv2d_107 (Conv2D)            (None, 4, 4, 1024)   9438208     ['re_lu_102[0][0]']              \n",
            "                                                                                                  \n",
            " re_lu_103 (ReLU)               (None, 4, 4, 1024)   0           ['conv2d_107[0][0]']             \n",
            "                                                                                                  \n",
            " conv2d_108 (Conv2D)            (None, 4, 4, 1024)   9438208     ['re_lu_103[0][0]']              \n",
            "                                                                                                  \n",
            " re_lu_104 (ReLU)               (None, 4, 4, 1024)   0           ['conv2d_108[0][0]']             \n",
            "                                                                                                  \n",
            " conv2d_transpose_15 (Conv2DTra  (None, 8, 8, 512)   4719104     ['re_lu_104[0][0]']              \n",
            " nspose)                                                                                          \n",
            "                                                                                                  \n",
            " concatenate_15 (Concatenate)   (None, 8, 8, 1024)   0           ['conv2d_transpose_15[0][0]',    \n",
            "                                                                  're_lu_101[0][0]']              \n",
            "                                                                                                  \n",
            " conv2d_109 (Conv2D)            (None, 8, 8, 512)    4719104     ['concatenate_15[0][0]']         \n",
            "                                                                                                  \n",
            " re_lu_105 (ReLU)               (None, 8, 8, 512)    0           ['conv2d_109[0][0]']             \n",
            "                                                                                                  \n",
            " conv2d_110 (Conv2D)            (None, 8, 8, 512)    2359808     ['re_lu_105[0][0]']              \n",
            "                                                                                                  \n",
            " re_lu_106 (ReLU)               (None, 8, 8, 512)    0           ['conv2d_110[0][0]']             \n",
            "                                                                                                  \n",
            " conv2d_111 (Conv2D)            (None, 8, 8, 512)    2359808     ['re_lu_106[0][0]']              \n",
            "                                                                                                  \n",
            " re_lu_107 (ReLU)               (None, 8, 8, 512)    0           ['conv2d_111[0][0]']             \n",
            "                                                                                                  \n",
            " conv2d_transpose_16 (Conv2DTra  (None, 16, 16, 256)  1179904    ['re_lu_107[0][0]']              \n",
            " nspose)                                                                                          \n",
            "                                                                                                  \n",
            " concatenate_16 (Concatenate)   (None, 16, 16, 512)  0           ['conv2d_transpose_16[0][0]',    \n",
            "                                                                  're_lu_98[0][0]']               \n",
            "                                                                                                  \n",
            " conv2d_112 (Conv2D)            (None, 16, 16, 256)  1179904     ['concatenate_16[0][0]']         \n",
            "                                                                                                  \n",
            " re_lu_108 (ReLU)               (None, 16, 16, 256)  0           ['conv2d_112[0][0]']             \n",
            "                                                                                                  \n",
            " conv2d_113 (Conv2D)            (None, 16, 16, 256)  590080      ['re_lu_108[0][0]']              \n",
            "                                                                                                  \n",
            " re_lu_109 (ReLU)               (None, 16, 16, 256)  0           ['conv2d_113[0][0]']             \n",
            "                                                                                                  \n",
            " conv2d_114 (Conv2D)            (None, 16, 16, 256)  590080      ['re_lu_109[0][0]']              \n",
            "                                                                                                  \n",
            " re_lu_110 (ReLU)               (None, 16, 16, 256)  0           ['conv2d_114[0][0]']             \n",
            "                                                                                                  \n",
            " conv2d_transpose_17 (Conv2DTra  (None, 32, 32, 128)  295040     ['re_lu_110[0][0]']              \n",
            " nspose)                                                                                          \n",
            "                                                                                                  \n",
            " concatenate_17 (Concatenate)   (None, 32, 32, 256)  0           ['conv2d_transpose_17[0][0]',    \n",
            "                                                                  're_lu_95[0][0]']               \n",
            "                                                                                                  \n",
            " conv2d_115 (Conv2D)            (None, 32, 32, 128)  295040      ['concatenate_17[0][0]']         \n",
            "                                                                                                  \n",
            " re_lu_111 (ReLU)               (None, 32, 32, 128)  0           ['conv2d_115[0][0]']             \n",
            "                                                                                                  \n",
            " conv2d_116 (Conv2D)            (None, 32, 32, 128)  147584      ['re_lu_111[0][0]']              \n",
            "                                                                                                  \n",
            " re_lu_112 (ReLU)               (None, 32, 32, 128)  0           ['conv2d_116[0][0]']             \n",
            "                                                                                                  \n",
            " conv2d_117 (Conv2D)            (None, 32, 32, 128)  147584      ['re_lu_112[0][0]']              \n",
            "                                                                                                  \n",
            " re_lu_113 (ReLU)               (None, 32, 32, 128)  0           ['conv2d_117[0][0]']             \n",
            "                                                                                                  \n",
            " conv2d_118 (Conv2D)            (None, 32, 32, 3)    387         ['re_lu_113[0][0]']              \n",
            "                                                                                                  \n",
            " lambda_4 (Lambda)              (None, 32, 32, 3)    0           ['input_5[0][0]',                \n",
            "                                                                  'conv2d_118[0][0]']             \n",
            "                                                                                                  \n",
            "==================================================================================================\n",
            "Total params: 49,853,315\n",
            "Trainable params: 49,853,315\n",
            "Non-trainable params: 0\n",
            "__________________________________________________________________________________________________\n",
            "None\n"
          ]
        }
      ]
    },
    {
      "cell_type": "markdown",
      "source": [
        "# Training"
      ],
      "metadata": {
        "id": "y4VaRK9ij5Im"
      }
    },
    {
      "cell_type": "code",
      "source": [
        "BATCH_SIZE = 128\n",
        "N_EPOCHS = 100\n",
        "\n",
        "callback = EarlyStopping(monitor=\"val_loss\",\n",
        "    # min_delta=0.0005,\n",
        "    patience=10,\n",
        "    restore_best_weights=True)\n",
        "\n",
        "history = network.fit(masked_x_train, x_train, batch_size=BATCH_SIZE, epochs=N_EPOCHS, \n",
        "                      validation_split=0.2, callbacks=[callback])\n",
        "\n"
      ],
      "metadata": {
        "colab": {
          "base_uri": "https://localhost:8080/"
        },
        "id": "2GJS2g2_j3lg",
        "outputId": "986dcdcf-65ea-4065-c5bf-a0797c6ff0c2"
      },
      "execution_count": 34,
      "outputs": [
        {
          "output_type": "stream",
          "name": "stdout",
          "text": [
            "Epoch 1/100\n",
            "313/313 [==============================] - 141s 452ms/step - loss: 0.0097 - mse: 0.0097 - val_loss: 0.0093 - val_mse: 0.0093\n",
            "Epoch 2/100\n",
            "313/313 [==============================] - 124s 397ms/step - loss: 0.0093 - mse: 0.0093 - val_loss: 0.0092 - val_mse: 0.0092\n",
            "Epoch 3/100\n",
            "313/313 [==============================] - 124s 397ms/step - loss: 0.0090 - mse: 0.0090 - val_loss: 0.0088 - val_mse: 0.0088\n",
            "Epoch 4/100\n",
            "313/313 [==============================] - 124s 397ms/step - loss: 0.0087 - mse: 0.0087 - val_loss: 0.0085 - val_mse: 0.0085\n",
            "Epoch 5/100\n",
            "313/313 [==============================] - 124s 397ms/step - loss: 0.0086 - mse: 0.0086 - val_loss: 0.0084 - val_mse: 0.0084\n",
            "Epoch 6/100\n",
            "313/313 [==============================] - 124s 397ms/step - loss: 0.0084 - mse: 0.0084 - val_loss: 0.0083 - val_mse: 0.0083\n",
            "Epoch 7/100\n",
            "313/313 [==============================] - 124s 397ms/step - loss: 0.0083 - mse: 0.0083 - val_loss: 0.0082 - val_mse: 0.0082\n",
            "Epoch 8/100\n",
            "313/313 [==============================] - 124s 397ms/step - loss: 0.0081 - mse: 0.0081 - val_loss: 0.0087 - val_mse: 0.0087\n",
            "Epoch 9/100\n",
            "313/313 [==============================] - 124s 397ms/step - loss: 0.0080 - mse: 0.0080 - val_loss: 0.0081 - val_mse: 0.0081\n",
            "Epoch 10/100\n",
            "313/313 [==============================] - 124s 397ms/step - loss: 0.0078 - mse: 0.0078 - val_loss: 0.0081 - val_mse: 0.0081\n",
            "Epoch 11/100\n",
            "313/313 [==============================] - 124s 396ms/step - loss: 0.0077 - mse: 0.0077 - val_loss: 0.0081 - val_mse: 0.0081\n",
            "Epoch 12/100\n",
            "313/313 [==============================] - 124s 396ms/step - loss: 0.0075 - mse: 0.0075 - val_loss: 0.0081 - val_mse: 0.0081\n",
            "Epoch 13/100\n",
            "313/313 [==============================] - 124s 397ms/step - loss: 0.0073 - mse: 0.0073 - val_loss: 0.0080 - val_mse: 0.0080\n",
            "Epoch 14/100\n",
            "313/313 [==============================] - 124s 395ms/step - loss: 0.0070 - mse: 0.0070 - val_loss: 0.0080 - val_mse: 0.0080\n",
            "Epoch 15/100\n",
            "313/313 [==============================] - 124s 395ms/step - loss: 0.0067 - mse: 0.0067 - val_loss: 0.0081 - val_mse: 0.0081\n",
            "Epoch 16/100\n",
            "313/313 [==============================] - 124s 395ms/step - loss: 0.0064 - mse: 0.0064 - val_loss: 0.0081 - val_mse: 0.0081\n",
            "Epoch 17/100\n",
            "313/313 [==============================] - 124s 395ms/step - loss: 0.0060 - mse: 0.0060 - val_loss: 0.0081 - val_mse: 0.0081\n",
            "Epoch 18/100\n",
            "313/313 [==============================] - 124s 395ms/step - loss: 0.0057 - mse: 0.0057 - val_loss: 0.0082 - val_mse: 0.0082\n",
            "Epoch 19/100\n",
            "313/313 [==============================] - 124s 395ms/step - loss: 0.0054 - mse: 0.0054 - val_loss: 0.0083 - val_mse: 0.0083\n",
            "Epoch 20/100\n",
            "313/313 [==============================] - 124s 395ms/step - loss: 0.0051 - mse: 0.0051 - val_loss: 0.0083 - val_mse: 0.0083\n",
            "Epoch 21/100\n",
            "313/313 [==============================] - 123s 395ms/step - loss: 0.0048 - mse: 0.0048 - val_loss: 0.0085 - val_mse: 0.0085\n",
            "Epoch 22/100\n",
            "313/313 [==============================] - 123s 395ms/step - loss: 0.0046 - mse: 0.0046 - val_loss: 0.0084 - val_mse: 0.0084\n",
            "Epoch 23/100\n",
            "313/313 [==============================] - 124s 395ms/step - loss: 0.0043 - mse: 0.0043 - val_loss: 0.0084 - val_mse: 0.0084\n"
          ]
        }
      ]
    },
    {
      "cell_type": "code",
      "source": [
        "network.save('weights')"
      ],
      "metadata": {
        "colab": {
          "base_uri": "https://localhost:8080/"
        },
        "id": "aodS29RF2EYz",
        "outputId": "617fc35d-8e1d-4712-a5c0-1d7b79a03e96"
      },
      "execution_count": 37,
      "outputs": [
        {
          "output_type": "stream",
          "name": "stderr",
          "text": [
            "WARNING:absl:Found untraced functions such as _jit_compiled_convolution_op, _jit_compiled_convolution_op, _jit_compiled_convolution_op, _jit_compiled_convolution_op, _jit_compiled_convolution_op while saving (showing 5 of 25). These functions will not be directly callable after loading.\n"
          ]
        }
      ]
    },
    {
      "cell_type": "code",
      "source": [
        "!zip -r weights.zip weights"
      ],
      "metadata": {
        "colab": {
          "base_uri": "https://localhost:8080/"
        },
        "id": "hcxw-qbt2gTr",
        "outputId": "f094dbfe-6aaa-4a96-e58f-4d0ff2b00d4f"
      },
      "execution_count": 40,
      "outputs": [
        {
          "output_type": "stream",
          "name": "stdout",
          "text": [
            "  adding: weights/ (stored 0%)\n",
            "  adding: weights/variables/ (stored 0%)\n",
            "  adding: weights/variables/variables.data-00000-of-00001 (deflated 9%)\n",
            "  adding: weights/variables/variables.index (deflated 73%)\n",
            "  adding: weights/assets/ (stored 0%)\n",
            "  adding: weights/fingerprint.pb (stored 0%)\n",
            "  adding: weights/saved_model.pb (deflated 90%)\n",
            "  adding: weights/keras_metadata.pb (deflated 95%)\n"
          ]
        }
      ]
    },
    {
      "cell_type": "code",
      "source": [
        "!unzip weights.zip"
      ],
      "metadata": {
        "colab": {
          "base_uri": "https://localhost:8080/"
        },
        "id": "bKJ3vw_jOzF5",
        "outputId": "e0652654-1b85-48e2-daaf-36f2e0fbef26"
      },
      "execution_count": 8,
      "outputs": [
        {
          "output_type": "stream",
          "name": "stdout",
          "text": [
            "Archive:  weights.zip\n",
            "   creating: weights/\n",
            "   creating: weights/variables/\n",
            "  inflating: weights/variables/variables.data-00000-of-00001  \n",
            "  inflating: weights/variables/variables.index  \n",
            "   creating: weights/assets/\n",
            " extracting: weights/fingerprint.pb  \n",
            "  inflating: weights/saved_model.pb  \n",
            "  inflating: weights/keras_metadata.pb  \n"
          ]
        }
      ]
    },
    {
      "cell_type": "code",
      "source": [
        "network.load_weights('weights')"
      ],
      "metadata": {
        "colab": {
          "base_uri": "https://localhost:8080/"
        },
        "id": "EAu4Rs4aOd72",
        "outputId": "36bfcedc-ac5b-4298-a5c4-4ecfcd468546"
      },
      "execution_count": 12,
      "outputs": [
        {
          "output_type": "execute_result",
          "data": {
            "text/plain": [
              "<tensorflow.python.checkpoint.checkpoint.CheckpointLoadStatus at 0x7fd5c9525e70>"
            ]
          },
          "metadata": {},
          "execution_count": 12
        }
      ]
    },
    {
      "cell_type": "code",
      "source": [
        "network.evaluate(masked_x_test, x_test)"
      ],
      "metadata": {
        "colab": {
          "base_uri": "https://localhost:8080/"
        },
        "id": "S9Mo7QHSNIRo",
        "outputId": "aa19e492-6918-4a62-d358-1db4e55d898b"
      },
      "execution_count": 35,
      "outputs": [
        {
          "output_type": "stream",
          "name": "stdout",
          "text": [
            "313/313 [==============================] - 14s 39ms/step - loss: 0.0081 - mse: 0.0081\n"
          ]
        },
        {
          "output_type": "execute_result",
          "data": {
            "text/plain": [
              "[0.008088209666311741, 0.008088209666311741]"
            ]
          },
          "metadata": {},
          "execution_count": 35
        }
      ]
    },
    {
      "cell_type": "code",
      "source": [
        "a = np.zeros((x_test.shape[0],32,32,3))\n",
        "a = a+1\n",
        "print(a.shape, masked_x_test.shape)\n",
        "\n",
        "network.evaluate(masked_x_test, a)"
      ],
      "metadata": {
        "colab": {
          "base_uri": "https://localhost:8080/"
        },
        "id": "UDZyDzr1-OsY",
        "outputId": "6bd54767-7be1-4080-de2e-d1a5b6176a12"
      },
      "execution_count": 23,
      "outputs": [
        {
          "output_type": "stream",
          "name": "stdout",
          "text": [
            "(10000, 32, 32, 3) (10000, 32, 32, 3)\n",
            "313/313 [==============================] - 6s 20ms/step - loss: 0.3297 - mse: 0.3297\n"
          ]
        },
        {
          "output_type": "execute_result",
          "data": {
            "text/plain": [
              "[0.32970842719078064, 0.32970842719078064]"
            ]
          },
          "metadata": {},
          "execution_count": 23
        }
      ]
    },
    {
      "cell_type": "code",
      "source": [
        "def show(x, y, title=None):\n",
        "    plt.figure(figsize=(15, 8))\n",
        "\n",
        "    plt.subplot(1, 2, 1)\n",
        "    plt.imshow(x)\n",
        "    if title:\n",
        "        plt.title(title[0])\n",
        "    \n",
        "    plt.subplot(1, 2, 2)\n",
        "    plt.imshow(y)\n",
        "    if title:\n",
        "        plt.title(title[1])\n",
        "\n",
        "    plt.show()\n",
        "\n",
        "pred = network.predict(masked_x_test[:3], batch_size=3)\n",
        "show(x_test[0], pred[0], title='Original')\n",
        "show(x_test[1], pred[1], title='Original')\n",
        "show(x_test[2], pred[2], title='Original')"
      ],
      "metadata": {
        "colab": {
          "base_uri": "https://localhost:8080/",
          "height": 1000
        },
        "id": "b5hZ_anrQdLf",
        "outputId": "cd890bc7-d1f7-465e-abfa-328ff5b68658"
      },
      "execution_count": 36,
      "outputs": [
        {
          "output_type": "stream",
          "name": "stdout",
          "text": [
            "1/1 [==============================] - 1s 1s/step\n"
          ]
        },
        {
          "output_type": "display_data",
          "data": {
            "text/plain": [
              "<Figure size 1500x800 with 2 Axes>"
            ],
            "image/png": "[encoded data removed]"
          },
          "metadata": {}
        },
        {
          "output_type": "display_data",
          "data": {
            "text/plain": [
              "<Figure size 1500x800 with 2 Axes>"
            ],
            "image/png": "[encoded data removed]"
          },
          "metadata": {}
        },
        {
          "output_type": "display_data",
          "data": {
            "text/plain": [
              "<Figure size 1500x800 with 2 Axes>"
            ],
            "image/png": "[encoded data removed]"
          },
          "metadata": {}
        }
      ]
    }
  ]
}