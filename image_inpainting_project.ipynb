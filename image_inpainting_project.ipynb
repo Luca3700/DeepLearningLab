{
  "nbformat": 4,
  "nbformat_minor": 0,
  "metadata": {
    "colab": {
      "provenance": []
    },
    "kernelspec": {
      "name": "python3",
      "display_name": "Python 3"
    },
    "language_info": {
      "name": "python"
    },
    "accelerator": "GPU",
    "gpuClass": "standard"
  },
  "cells": [
    {
      "cell_type": "markdown",
      "source": [
        "# Image inpainting over CIFAR-10\n",
        "\n",
        "The purpose of this project is to build and train a neural network for image inpainting over the CIFAR-10 dataset. \n",
        "\n",
        "Inpainting is a restauration process where damaged, deteriorated, or missing parts of an artwork are filled in to present a complete image.\n",
        "\n",
        "In our case, we create the portion of the image to be filled in by cropping a fixed size rectangular area from CIFAR-10 images.\n",
        "\n",
        "The networks must be trained over the training set, and tested on the test set.\n",
        "You can split the train set into a validation set, if you wish.\n",
        "\n",
        "The metrics that will be used to evaluate you result is Mean Square Error."
      ],
      "metadata": {
        "id": "E3r4iIy5PD4_"
      }
    },
    {
      "cell_type": "code",
      "execution_count": 1,
      "metadata": {
        "id": "ZwLQl0kGWwbJ"
      },
      "outputs": [],
      "source": [
        "import tensorflow as tf\n",
        "import numpy as np\n",
        "import matplotlib.pyplot as plt"
      ]
    },
    {
      "cell_type": "code",
      "source": [
        "from tensorflow.keras import layers, models, metrics\n",
        "from tensorflow.keras.datasets import cifar10"
      ],
      "metadata": {
        "id": "nczjezDqXD4Q"
      },
      "execution_count": 2,
      "outputs": []
    },
    {
      "cell_type": "markdown",
      "source": [
        "Here we load the dataset."
      ],
      "metadata": {
        "id": "_tTZ5pBIREKu"
      }
    },
    {
      "cell_type": "code",
      "source": [
        "(x_train, y_train), (x_test, y_test) = cifar10.load_data()\n",
        "print(\"image range is {}, {}\".format(np.min(x_test,axis=(0,1,2,3)),np.max(x_test,axis=(0,1,2,3))))\n",
        "x_train = (x_train/255.).astype(np.float32)\n",
        "x_test = (x_test/255.).astype(np.float32)\n",
        "print(\"new image range is {}, {}\".format(np.min(x_test,axis=(0,1,2,3)),np.max(x_test,axis=(0,1,2,3))))"
      ],
      "metadata": {
        "id": "-pojWDC2Xca5",
        "colab": {
          "base_uri": "https://localhost:8080/"
        },
        "outputId": "c6292d76-8c59-4371-a71c-7f0f638176fb"
      },
      "execution_count": 3,
      "outputs": [
        {
          "output_type": "stream",
          "name": "stdout",
          "text": [
            "Downloading data from https://www.cs.toronto.edu/~kriz/cifar-10-python.tar.gz\n",
            "170498071/170498071 [==============================] - 2s 0us/step\n",
            "image range is 0, 255\n",
            "new image range is 0.0, 1.0\n"
          ]
        }
      ]
    },
    {
      "cell_type": "markdown",
      "source": [
        "Let's see some examples."
      ],
      "metadata": {
        "id": "34F_YSoxRNet"
      }
    },
    {
      "cell_type": "code",
      "source": [
        "plt.imshow(x_test[1])\n",
        "plt.show()\n",
        "print(x_train[0].shape)"
      ],
      "metadata": {
        "colab": {
          "base_uri": "https://localhost:8080/",
          "height": 447
        },
        "id": "PMHeUj9PXr02",
        "outputId": "41b7bdfa-d617-4578-8090-7f3ea64d8087"
      },
      "execution_count": 6,
      "outputs": [
        {
          "output_type": "display_data",
          "data": {
            "text/plain": [
              "<Figure size 640x480 with 1 Axes>"
            ],
            "image/png": "[encoded data removed]"
          },
          "metadata": {}
        },
        {
          "output_type": "stream",
          "name": "stdout",
          "text": [
            "(32, 32, 3)\n"
          ]
        }
      ]
    },
    {
      "cell_type": "markdown",
      "source": [
        "Now we hide a portion of the input, and the purpose of the network is to reconstruct it."
      ],
      "metadata": {
        "id": "s8lEb7qPYfNA"
      }
    },
    {
      "cell_type": "code",
      "source": [
        "def mask(X,coords):\n",
        "  x0,y0,x1,y1 = coords\n",
        "  X[:,x0:x1,y0:y1] = 0\n",
        "  return X\n",
        "\n",
        "masked_x_train = mask(np.copy(x_train),(2,16,30,30))\n",
        "masked_x_test = mask(np.copy(x_test),(2,16,30,30))"
      ],
      "metadata": {
        "id": "pMUI16TxYdbz"
      },
      "execution_count": 4,
      "outputs": []
    },
    {
      "cell_type": "code",
      "source": [
        "plt.imshow(masked_x_test[1])\n",
        "plt.show()"
      ],
      "metadata": {
        "colab": {
          "base_uri": "https://localhost:8080/",
          "height": 430
        },
        "id": "Vk9gGjGIZ5aG",
        "outputId": "2e020780-85bc-415a-8091-96af36820605"
      },
      "execution_count": 8,
      "outputs": [
        {
          "output_type": "display_data",
          "data": {
            "text/plain": [
              "<Figure size 640x480 with 1 Axes>"
            ],
            "image/png": "[encoded data removed]"
          },
          "metadata": {}
        }
      ]
    },
    {
      "cell_type": "markdown",
      "source": [
        "# Approaches and evaluation\n",
        "\n",
        "The network is supposed to take in input the masked image and fill in the missing part. \n",
        "\n",
        "You may basically follow two main approaches:\n",
        "*   either you return the full image\n",
        "*   you just return the missing crop\n",
        "\n",
        "In the first case, the mse is to be evaluated on the full image; in the second case just on the crop (since on the reamining part is 0). \n",
        "\n",
        "If you want to take a different approach, you can ask for my approuval.\n",
        "\n"
      ],
      "metadata": {
        "id": "H1LA9tOFRr3q"
      }
    },
    {
      "cell_type": "markdown",
      "source": [
        "# What to deliver\n",
        "\n",
        "As usual, you are supposed to deliver a single notebook comprising the code, the training history, and the evaluation on test data in terms of Mean Square Error.\n",
        "\n",
        "Good work!"
      ],
      "metadata": {
        "id": "ClTRv3Myikkg"
      }
    },
    {
      "cell_type": "code",
      "source": [
        "from tensorflow.keras.layers import BatchNormalization, concatenate, Conv2D, Conv2DTranspose, Dense, Dropout, Flatten, Input, LeakyReLU, MaxPooling2D, ReLU, Rescaling, Reshape\n",
        "from tensorflow.keras.models import Model\n",
        "from tensorflow.keras.callbacks import EarlyStopping\n",
        "from tensorflow.keras.optimizers import Adam"
      ],
      "metadata": {
        "id": "2Y_mXxoWblfL"
      },
      "execution_count": 5,
      "outputs": []
    },
    {
      "cell_type": "code",
      "source": [
        "def get_network(input_shape=(32,32,3), n_ch=32, num_layer=4, num_loop_per_layer=2):\n",
        "  x = Input(input_shape)\n",
        "  c1 = x\n",
        "  # backup_layers = []\n",
        "\n",
        "  for i in range(num_layer):\n",
        "\n",
        "    for j in range(num_loop_per_layer):\n",
        "      c1 = Conv2D(n_ch, kernel_size=3, padding='same')(c1)\n",
        "      # c1 = BatchNormalization()(c1)\n",
        "      c1 = ReLU()(c1)\n",
        "\n",
        "    if (i < num_layer - 1):\n",
        "      # backup_layers.append(c1)\n",
        "      c1 = MaxPooling2D(padding='same')(c1)\n",
        "\n",
        "      n_ch *= 2\n",
        "\n",
        "\n",
        "  for i in range(num_layer - 1):\n",
        "    n_ch = n_ch // 2\n",
        "    c1 = Conv2DTranspose(n_ch, 3, 2, padding='same')(c1)\n",
        "    # c1 = concatenate([c1, backup_layers.pop(-1)])\n",
        "\n",
        "    for c in range(num_loop_per_layer):\n",
        "      c1 = Conv2D(n_ch, 3, 1, padding='same')(c1)\n",
        "      c1 = ReLU()(c1)\n",
        "\n",
        "  y = Conv2D(3,1, activation='sigmoid')(c1)\n",
        "\n",
        "  model = Model(x,y)\n",
        "  print(model.summary())\n",
        "  return model\n"
      ],
      "metadata": {
        "id": "2U3Pn-apb2Rq"
      },
      "execution_count": 6,
      "outputs": []
    },
    {
      "cell_type": "code",
      "source": [
        "network = get_network(num_layer=5)\n",
        "\n",
        "network.compile(optimizer=Adam(learning_rate=1e-4),\n",
        "                  loss='mse',\n",
        "                  metrics=['mse'])"
      ],
      "metadata": {
        "id": "Aap2tvYwiLvK",
        "outputId": "455a1405-a69c-4c9a-8c86-a0283dfbc188",
        "colab": {
          "base_uri": "https://localhost:8080/"
        }
      },
      "execution_count": 11,
      "outputs": [
        {
          "output_type": "stream",
          "name": "stdout",
          "text": [
            "Model: \"model_1\"\n",
            "_________________________________________________________________\n",
            " Layer (type)                Output Shape              Param #   \n",
            "=================================================================\n",
            " input_2 (InputLayer)        [(None, 32, 32, 3)]       0         \n",
            "                                                                 \n",
            " conv2d_19 (Conv2D)          (None, 32, 32, 32)        896       \n",
            "                                                                 \n",
            " re_lu_18 (ReLU)             (None, 32, 32, 32)        0         \n",
            "                                                                 \n",
            " conv2d_20 (Conv2D)          (None, 32, 32, 32)        9248      \n",
            "                                                                 \n",
            " re_lu_19 (ReLU)             (None, 32, 32, 32)        0         \n",
            "                                                                 \n",
            " max_pooling2d_4 (MaxPooling  (None, 16, 16, 32)       0         \n",
            " 2D)                                                             \n",
            "                                                                 \n",
            " conv2d_21 (Conv2D)          (None, 16, 16, 64)        18496     \n",
            "                                                                 \n",
            " re_lu_20 (ReLU)             (None, 16, 16, 64)        0         \n",
            "                                                                 \n",
            " conv2d_22 (Conv2D)          (None, 16, 16, 64)        36928     \n",
            "                                                                 \n",
            " re_lu_21 (ReLU)             (None, 16, 16, 64)        0         \n",
            "                                                                 \n",
            " max_pooling2d_5 (MaxPooling  (None, 8, 8, 64)         0         \n",
            " 2D)                                                             \n",
            "                                                                 \n",
            " conv2d_23 (Conv2D)          (None, 8, 8, 128)         73856     \n",
            "                                                                 \n",
            " re_lu_22 (ReLU)             (None, 8, 8, 128)         0         \n",
            "                                                                 \n",
            " conv2d_24 (Conv2D)          (None, 8, 8, 128)         147584    \n",
            "                                                                 \n",
            " re_lu_23 (ReLU)             (None, 8, 8, 128)         0         \n",
            "                                                                 \n",
            " max_pooling2d_6 (MaxPooling  (None, 4, 4, 128)        0         \n",
            " 2D)                                                             \n",
            "                                                                 \n",
            " conv2d_25 (Conv2D)          (None, 4, 4, 256)         295168    \n",
            "                                                                 \n",
            " re_lu_24 (ReLU)             (None, 4, 4, 256)         0         \n",
            "                                                                 \n",
            " conv2d_26 (Conv2D)          (None, 4, 4, 256)         590080    \n",
            "                                                                 \n",
            " re_lu_25 (ReLU)             (None, 4, 4, 256)         0         \n",
            "                                                                 \n",
            " max_pooling2d_7 (MaxPooling  (None, 2, 2, 256)        0         \n",
            " 2D)                                                             \n",
            "                                                                 \n",
            " conv2d_27 (Conv2D)          (None, 2, 2, 512)         1180160   \n",
            "                                                                 \n",
            " re_lu_26 (ReLU)             (None, 2, 2, 512)         0         \n",
            "                                                                 \n",
            " conv2d_28 (Conv2D)          (None, 2, 2, 512)         2359808   \n",
            "                                                                 \n",
            " re_lu_27 (ReLU)             (None, 2, 2, 512)         0         \n",
            "                                                                 \n",
            " conv2d_transpose_4 (Conv2DT  (None, 4, 4, 256)        1179904   \n",
            " ranspose)                                                       \n",
            "                                                                 \n",
            " conv2d_29 (Conv2D)          (None, 4, 4, 256)         590080    \n",
            "                                                                 \n",
            " re_lu_28 (ReLU)             (None, 4, 4, 256)         0         \n",
            "                                                                 \n",
            " conv2d_30 (Conv2D)          (None, 4, 4, 256)         590080    \n",
            "                                                                 \n",
            " re_lu_29 (ReLU)             (None, 4, 4, 256)         0         \n",
            "                                                                 \n",
            " conv2d_transpose_5 (Conv2DT  (None, 8, 8, 128)        295040    \n",
            " ranspose)                                                       \n",
            "                                                                 \n",
            " conv2d_31 (Conv2D)          (None, 8, 8, 128)         147584    \n",
            "                                                                 \n",
            " re_lu_30 (ReLU)             (None, 8, 8, 128)         0         \n",
            "                                                                 \n",
            " conv2d_32 (Conv2D)          (None, 8, 8, 128)         147584    \n",
            "                                                                 \n",
            " re_lu_31 (ReLU)             (None, 8, 8, 128)         0         \n",
            "                                                                 \n",
            " conv2d_transpose_6 (Conv2DT  (None, 16, 16, 64)       73792     \n",
            " ranspose)                                                       \n",
            "                                                                 \n",
            " conv2d_33 (Conv2D)          (None, 16, 16, 64)        36928     \n",
            "                                                                 \n",
            " re_lu_32 (ReLU)             (None, 16, 16, 64)        0         \n",
            "                                                                 \n",
            " conv2d_34 (Conv2D)          (None, 16, 16, 64)        36928     \n",
            "                                                                 \n",
            " re_lu_33 (ReLU)             (None, 16, 16, 64)        0         \n",
            "                                                                 \n",
            " conv2d_transpose_7 (Conv2DT  (None, 32, 32, 32)       18464     \n",
            " ranspose)                                                       \n",
            "                                                                 \n",
            " conv2d_35 (Conv2D)          (None, 32, 32, 32)        9248      \n",
            "                                                                 \n",
            " re_lu_34 (ReLU)             (None, 32, 32, 32)        0         \n",
            "                                                                 \n",
            " conv2d_36 (Conv2D)          (None, 32, 32, 32)        9248      \n",
            "                                                                 \n",
            " re_lu_35 (ReLU)             (None, 32, 32, 32)        0         \n",
            "                                                                 \n",
            " conv2d_37 (Conv2D)          (None, 32, 32, 3)         99        \n",
            "                                                                 \n",
            "=================================================================\n",
            "Total params: 7,847,203\n",
            "Trainable params: 7,847,203\n",
            "Non-trainable params: 0\n",
            "_________________________________________________________________\n",
            "None\n"
          ]
        }
      ]
    },
    {
      "cell_type": "markdown",
      "source": [
        "# Training"
      ],
      "metadata": {
        "id": "y4VaRK9ij5Im"
      }
    },
    {
      "cell_type": "code",
      "source": [
        "BATCH_SIZE = 16\n",
        "N_EPOCHS = 100\n",
        "\n",
        "callback = EarlyStopping(monitor=\"val_loss\",\n",
        "    # min_delta=0.0005,\n",
        "    patience=10,\n",
        "    restore_best_weights=True)\n",
        "\n",
        "history = network.fit(masked_x_train, x_train, batch_size=BATCH_SIZE, epochs=N_EPOCHS, \n",
        "                      validation_split=0.1, callbacks=[callback])\n",
        "\n"
      ],
      "metadata": {
        "id": "2GJS2g2_j3lg",
        "outputId": "d765a0d1-f340-422e-9b4a-aa33dc4cd77e",
        "colab": {
          "base_uri": "https://localhost:8080/"
        }
      },
      "execution_count": 37,
      "outputs": [
        {
          "output_type": "stream",
          "name": "stdout",
          "text": [
            "Epoch 1/100\n",
            "2813/2813 [==============================] - 52s 16ms/step - loss: 0.0302 - mse: 0.0302 - val_loss: 0.0252 - val_mse: 0.0252\n",
            "Epoch 2/100\n",
            "2813/2813 [==============================] - 45s 16ms/step - loss: 0.0231 - mse: 0.0231 - val_loss: 0.0222 - val_mse: 0.0222\n",
            "Epoch 3/100\n",
            "2813/2813 [==============================] - 44s 16ms/step - loss: 0.0211 - mse: 0.0211 - val_loss: 0.0193 - val_mse: 0.0193\n",
            "Epoch 4/100\n",
            "2813/2813 [==============================] - 44s 16ms/step - loss: 0.0186 - mse: 0.0186 - val_loss: 0.0180 - val_mse: 0.0180\n",
            "Epoch 5/100\n",
            "2813/2813 [==============================] - 44s 16ms/step - loss: 0.0176 - mse: 0.0176 - val_loss: 0.0174 - val_mse: 0.0174\n",
            "Epoch 6/100\n",
            "2813/2813 [==============================] - 44s 16ms/step - loss: 0.0170 - mse: 0.0170 - val_loss: 0.0169 - val_mse: 0.0169\n",
            "Epoch 7/100\n",
            "2813/2813 [==============================] - 44s 16ms/step - loss: 0.0164 - mse: 0.0164 - val_loss: 0.0163 - val_mse: 0.0163\n",
            "Epoch 8/100\n",
            "2813/2813 [==============================] - 44s 15ms/step - loss: 0.0158 - mse: 0.0158 - val_loss: 0.0160 - val_mse: 0.0160\n",
            "Epoch 9/100\n",
            "2813/2813 [==============================] - 44s 16ms/step - loss: 0.0153 - mse: 0.0153 - val_loss: 0.0155 - val_mse: 0.0155\n",
            "Epoch 10/100\n",
            "2813/2813 [==============================] - 44s 16ms/step - loss: 0.0149 - mse: 0.0149 - val_loss: 0.0153 - val_mse: 0.0153\n",
            "Epoch 11/100\n",
            "2813/2813 [==============================] - 44s 15ms/step - loss: 0.0146 - mse: 0.0146 - val_loss: 0.0150 - val_mse: 0.0150\n",
            "Epoch 12/100\n",
            "2813/2813 [==============================] - 44s 16ms/step - loss: 0.0142 - mse: 0.0142 - val_loss: 0.0150 - val_mse: 0.0150\n",
            "Epoch 13/100\n",
            "2813/2813 [==============================] - 44s 15ms/step - loss: 0.0139 - mse: 0.0139 - val_loss: 0.0148 - val_mse: 0.0148\n",
            "Epoch 14/100\n",
            "2813/2813 [==============================] - 44s 16ms/step - loss: 0.0136 - mse: 0.0136 - val_loss: 0.0146 - val_mse: 0.0146\n",
            "Epoch 15/100\n",
            "2813/2813 [==============================] - 44s 16ms/step - loss: 0.0133 - mse: 0.0133 - val_loss: 0.0146 - val_mse: 0.0146\n",
            "Epoch 16/100\n",
            "2813/2813 [==============================] - 45s 16ms/step - loss: 0.0130 - mse: 0.0130 - val_loss: 0.0145 - val_mse: 0.0145\n",
            "Epoch 17/100\n",
            "2813/2813 [==============================] - 44s 16ms/step - loss: 0.0127 - mse: 0.0127 - val_loss: 0.0145 - val_mse: 0.0145\n",
            "Epoch 18/100\n",
            "2813/2813 [==============================] - 45s 16ms/step - loss: 0.0125 - mse: 0.0125 - val_loss: 0.0146 - val_mse: 0.0146\n",
            "Epoch 19/100\n",
            "2813/2813 [==============================] - 45s 16ms/step - loss: 0.0122 - mse: 0.0122 - val_loss: 0.0147 - val_mse: 0.0147\n",
            "Epoch 20/100\n",
            "2813/2813 [==============================] - 45s 16ms/step - loss: 0.0120 - mse: 0.0120 - val_loss: 0.0146 - val_mse: 0.0146\n",
            "Epoch 21/100\n",
            "2813/2813 [==============================] - 44s 16ms/step - loss: 0.0117 - mse: 0.0117 - val_loss: 0.0148 - val_mse: 0.0148\n",
            "Epoch 22/100\n",
            "2813/2813 [==============================] - 45s 16ms/step - loss: 0.0115 - mse: 0.0115 - val_loss: 0.0147 - val_mse: 0.0147\n",
            "Epoch 23/100\n",
            "2813/2813 [==============================] - 44s 16ms/step - loss: 0.0113 - mse: 0.0113 - val_loss: 0.0147 - val_mse: 0.0147\n",
            "Epoch 24/100\n",
            "2813/2813 [==============================] - 45s 16ms/step - loss: 0.0111 - mse: 0.0111 - val_loss: 0.0148 - val_mse: 0.0148\n",
            "Epoch 25/100\n",
            "2813/2813 [==============================] - 44s 15ms/step - loss: 0.0109 - mse: 0.0109 - val_loss: 0.0147 - val_mse: 0.0147\n",
            "Epoch 26/100\n",
            "2813/2813 [==============================] - 45s 16ms/step - loss: 0.0107 - mse: 0.0107 - val_loss: 0.0149 - val_mse: 0.0149\n"
          ]
        }
      ]
    },
    {
      "cell_type": "code",
      "source": [
        "network.save('weights')"
      ],
      "metadata": {
        "id": "aodS29RF2EYz",
        "outputId": "9f72a8bf-e563-4ec9-d712-58344676f9ca",
        "colab": {
          "base_uri": "https://localhost:8080/"
        }
      },
      "execution_count": 38,
      "outputs": [
        {
          "output_type": "stream",
          "name": "stderr",
          "text": [
            "WARNING:absl:Found untraced functions such as _jit_compiled_convolution_op, _jit_compiled_convolution_op, _jit_compiled_convolution_op, _jit_compiled_convolution_op, _jit_compiled_convolution_op while saving (showing 5 of 23). These functions will not be directly callable after loading.\n"
          ]
        }
      ]
    },
    {
      "cell_type": "code",
      "source": [
        "!zip -r weights.zip weights"
      ],
      "metadata": {
        "id": "hcxw-qbt2gTr",
        "outputId": "f094dbfe-6aaa-4a96-e58f-4d0ff2b00d4f",
        "colab": {
          "base_uri": "https://localhost:8080/"
        }
      },
      "execution_count": 40,
      "outputs": [
        {
          "output_type": "stream",
          "name": "stdout",
          "text": [
            "  adding: weights/ (stored 0%)\n",
            "  adding: weights/variables/ (stored 0%)\n",
            "  adding: weights/variables/variables.data-00000-of-00001 (deflated 9%)\n",
            "  adding: weights/variables/variables.index (deflated 73%)\n",
            "  adding: weights/assets/ (stored 0%)\n",
            "  adding: weights/fingerprint.pb (stored 0%)\n",
            "  adding: weights/saved_model.pb (deflated 90%)\n",
            "  adding: weights/keras_metadata.pb (deflated 95%)\n"
          ]
        }
      ]
    },
    {
      "cell_type": "code",
      "source": [
        "!unzip weights.zip"
      ],
      "metadata": {
        "id": "bKJ3vw_jOzF5",
        "outputId": "e0652654-1b85-48e2-daaf-36f2e0fbef26",
        "colab": {
          "base_uri": "https://localhost:8080/"
        }
      },
      "execution_count": 8,
      "outputs": [
        {
          "output_type": "stream",
          "name": "stdout",
          "text": [
            "Archive:  weights.zip\n",
            "   creating: weights/\n",
            "   creating: weights/variables/\n",
            "  inflating: weights/variables/variables.data-00000-of-00001  \n",
            "  inflating: weights/variables/variables.index  \n",
            "   creating: weights/assets/\n",
            " extracting: weights/fingerprint.pb  \n",
            "  inflating: weights/saved_model.pb  \n",
            "  inflating: weights/keras_metadata.pb  \n"
          ]
        }
      ]
    },
    {
      "cell_type": "code",
      "source": [
        "network.load_weights('weights')"
      ],
      "metadata": {
        "id": "EAu4Rs4aOd72",
        "outputId": "36bfcedc-ac5b-4298-a5c4-4ecfcd468546",
        "colab": {
          "base_uri": "https://localhost:8080/"
        }
      },
      "execution_count": 12,
      "outputs": [
        {
          "output_type": "execute_result",
          "data": {
            "text/plain": [
              "<tensorflow.python.checkpoint.checkpoint.CheckpointLoadStatus at 0x7fd5c9525e70>"
            ]
          },
          "metadata": {},
          "execution_count": 12
        }
      ]
    },
    {
      "cell_type": "code",
      "source": [
        "evaluation = network.evaluate(masked_x_test, x_test)"
      ],
      "metadata": {
        "id": "S9Mo7QHSNIRo",
        "outputId": "861cbfe9-c99b-49f7-ed21-2e586a27ea1b",
        "colab": {
          "base_uri": "https://localhost:8080/"
        }
      },
      "execution_count": 13,
      "outputs": [
        {
          "output_type": "stream",
          "name": "stdout",
          "text": [
            "313/313 [==============================] - 11s 8ms/step - loss: 0.0147 - mse: 0.0147\n"
          ]
        }
      ]
    },
    {
      "cell_type": "code",
      "source": [
        "def show(x, y, title=None):\n",
        "    plt.figure(figsize=(15, 8))\n",
        "\n",
        "    plt.subplot(1, 2, 1)\n",
        "    plt.imshow(x)\n",
        "    if title:\n",
        "        plt.title(title[0])\n",
        "    \n",
        "    plt.subplot(1, 2, 2)\n",
        "    plt.imshow(y)\n",
        "    if title:\n",
        "        plt.title(title[1])\n",
        "\n",
        "    plt.show()\n",
        "\n",
        "pred = network.predict(masked_x_test[:3], batch_size=3)\n",
        "show(x_test[0], pred[0], title='Original')\n",
        "show(x_test[1], pred[1], title='Original')\n",
        "show(x_test[2], pred[2], title='Original')"
      ],
      "metadata": {
        "id": "b5hZ_anrQdLf",
        "outputId": "098328f2-7495-488d-a25a-a5bfb825bfd7",
        "colab": {
          "base_uri": "https://localhost:8080/",
          "height": 1000
        }
      },
      "execution_count": 20,
      "outputs": [
        {
          "output_type": "stream",
          "name": "stdout",
          "text": [
            "1/1 [==============================] - 0s 487ms/step\n"
          ]
        },
        {
          "output_type": "display_data",
          "data": {
            "text/plain": [
              "<Figure size 1500x800 with 2 Axes>"
            ],
            "image/png": "[encoded data removed]"
          },
          "metadata": {}
        },
        {
          "output_type": "display_data",
          "data": {
            "text/plain": [
              "<Figure size 1500x800 with 2 Axes>"
            ],
            "image/png": "[encoded data removed]"
          },
          "metadata": {}
        },
        {
          "output_type": "display_data",
          "data": {
            "text/plain": [
              "<Figure size 1500x800 with 2 Axes>"
            ],
            "image/png": "[encoded data removed]"
          },
          "metadata": {}
        }
      ]
    }
  ]
}