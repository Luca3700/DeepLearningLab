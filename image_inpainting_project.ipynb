{
  "nbformat": 4,
  "nbformat_minor": 0,
  "metadata": {
    "colab": {
      "provenance": []
    },
    "kernelspec": {
      "name": "python3",
      "display_name": "Python 3"
    },
    "language_info": {
      "name": "python"
    },
    "accelerator": "GPU",
    "gpuClass": "standard"
  },
  "cells": [
    {
      "cell_type": "markdown",
      "source": [
        "# Image inpainting over CIFAR-10\n",
        "\n",
        "The purpose of this project is to build and train a neural network for image inpainting over the CIFAR-10 dataset. \n",
        "\n",
        "Inpainting is a restauration process where damaged, deteriorated, or missing parts of an artwork are filled in to present a complete image.\n",
        "\n",
        "In our case, we create the portion of the image to be filled in by cropping a fixed size rectangular area from CIFAR-10 images.\n",
        "\n",
        "The networks must be trained over the training set, and tested on the test set.\n",
        "You can split the train set into a validation set, if you wish.\n",
        "\n",
        "The metrics that will be used to evaluate you result is Mean Square Error."
      ],
      "metadata": {
        "id": "E3r4iIy5PD4_"
      }
    },
    {
      "cell_type": "code",
      "execution_count": null,
      "metadata": {
        "id": "ZwLQl0kGWwbJ"
      },
      "outputs": [],
      "source": [
        "import tensorflow as tf\n",
        "import numpy as np\n",
        "import matplotlib.pyplot as plt"
      ]
    },
    {
      "cell_type": "code",
      "source": [
        "from tensorflow.keras import layers, models, metrics\n",
        "from tensorflow.keras.datasets import cifar10"
      ],
      "metadata": {
        "id": "nczjezDqXD4Q"
      },
      "execution_count": null,
      "outputs": []
    },
    {
      "cell_type": "markdown",
      "source": [
        "Here we load the dataset."
      ],
      "metadata": {
        "id": "_tTZ5pBIREKu"
      }
    },
    {
      "cell_type": "code",
      "source": [
        "(x_train, y_train), (x_test, y_test) = cifar10.load_data()\n",
        "print(\"image range is {}, {}\".format(np.min(x_test,axis=(0,1,2,3)),np.max(x_test,axis=(0,1,2,3))))\n",
        "x_train = (x_train/255.).astype(np.float32)\n",
        "x_test = (x_test/255.).astype(np.float32)\n",
        "print(\"new image range is {}, {}\".format(np.min(x_test,axis=(0,1,2,3)),np.max(x_test,axis=(0,1,2,3))))"
      ],
      "metadata": {
        "id": "-pojWDC2Xca5",
        "colab": {
          "base_uri": "https://localhost:8080/"
        },
        "outputId": "4da0df96-39a8-44b9-8609-8b0946060dce"
      },
      "execution_count": null,
      "outputs": [
        {
          "output_type": "stream",
          "name": "stdout",
          "text": [
            "Downloading data from https://www.cs.toronto.edu/~kriz/cifar-10-python.tar.gz\n",
            "170498071/170498071 [==============================] - 14s 0us/step\n",
            "image range is 0, 255\n",
            "new image range is 0.0, 1.0\n"
          ]
        }
      ]
    },
    {
      "cell_type": "markdown",
      "source": [
        "Let's see some examples."
      ],
      "metadata": {
        "id": "34F_YSoxRNet"
      }
    },
    {
      "cell_type": "code",
      "source": [
        "plt.imshow(x_test[1])\n",
        "plt.show()"
      ],
      "metadata": {
        "colab": {
          "base_uri": "https://localhost:8080/",
          "height": 266
        },
        "id": "PMHeUj9PXr02",
        "outputId": "62a0f18d-80cf-4ac7-c2ab-e2671ef91099"
      },
      "execution_count": null,
      "outputs": [
        {
          "output_type": "display_data",
          "data": {
            "text/plain": [
              "<Figure size 432x288 with 1 Axes>"
            ],
            "image/png": "[encoded data removed]"
          },
          "metadata": {
            "needs_background": "light"
          }
        }
      ]
    },
    {
      "cell_type": "markdown",
      "source": [
        "Now we hide a portion of the input, and the purpose of the network is to reconstruct it."
      ],
      "metadata": {
        "id": "s8lEb7qPYfNA"
      }
    },
    {
      "cell_type": "code",
      "source": [
        "def mask(X,coords):\n",
        "  x0,y0,x1,y1 = coords\n",
        "  X[:,x0:x1,y0:y1] = 0\n",
        "  return X\n",
        "\n",
        "masked_x_train = mask(np.copy(x_train),(2,16,30,30))\n",
        "masked_x_test = mask(np.copy(x_test),(2,16,30,30))"
      ],
      "metadata": {
        "id": "pMUI16TxYdbz"
      },
      "execution_count": null,
      "outputs": []
    },
    {
      "cell_type": "code",
      "source": [
        "plt.imshow(masked_x_test[1])\n",
        "plt.show()"
      ],
      "metadata": {
        "colab": {
          "base_uri": "https://localhost:8080/",
          "height": 266
        },
        "id": "Vk9gGjGIZ5aG",
        "outputId": "1f9f7886-4e42-4104-c308-bc2a966ca29a"
      },
      "execution_count": null,
      "outputs": [
        {
          "output_type": "display_data",
          "data": {
            "text/plain": [
              "<Figure size 432x288 with 1 Axes>"
            ],
            "image/png": "[encoded data removed]"
          },
          "metadata": {
            "needs_background": "light"
          }
        }
      ]
    },
    {
      "cell_type": "markdown",
      "source": [
        "# Approaches and evaluation\n",
        "\n",
        "The network is supposed to take in input the masked image and fill in the missing part. \n",
        "\n",
        "You may basically follow two main approaches:\n",
        "*   either you return the full image\n",
        "*   you just return the missing crop\n",
        "\n",
        "In the first case, the mse is to be evaluated on the full image; in the second case just on the crop (since on the reamining part is 0). \n",
        "\n",
        "If you want to take a different approach, you can ask for my approuval.\n",
        "\n"
      ],
      "metadata": {
        "id": "H1LA9tOFRr3q"
      }
    },
    {
      "cell_type": "markdown",
      "source": [
        "# What to deliver\n",
        "\n",
        "As usual, you are supposed to deliver a single notebook comprising the code, the training history, and the evaluation on test data in terms of Mean Square Error.\n",
        "\n",
        "Good work!"
      ],
      "metadata": {
        "id": "ClTRv3Myikkg"
      }
    }
  ]
}